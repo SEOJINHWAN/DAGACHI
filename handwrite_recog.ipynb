{
 "nbformat": 4,
 "nbformat_minor": 0,
 "metadata": {
  "colab": {
   "name": "211011_img_recog_fin.ipynb",
   "provenance": [],
   "collapsed_sections": []
  },
  "kernelspec": {
   "name": "python3",
   "display_name": "Python 3"
  },
  "language_info": {
   "name": "python"
  }
 },
 "cells": [
  {
   "cell_type": "code",
   "metadata": {
    "id": "vioulFBPu5te"
   },
   "source": [
    "from keras.preprocessing.image import ImageDataGenerator\n",
    "from keras.utils import np_utils\n",
    "from keras.models import Sequential\n",
    "from keras.preprocessing.image import array_to_img, img_to_array, load_img\n",
    "from keras.layers import *\n",
    "from keras.callbacks import ModelCheckpoint, EarlyStopping\n",
    "import os\n",
    "import pandas as pd\n",
    "import numpy as np\n",
    "from sklearn.metrics import accuracy_score\n",
    "import shutil\n",
    "import matplotlib.pyplot as plt\n",
    "\n",
    "path = r'/content/drive/MyDrive/hackerthon/chicken/'"
   ],
   "execution_count": 5,
   "outputs": []
  },
  {
   "cell_type": "code",
   "execution_count": null,
   "outputs": [],
   "source": [
    "trainFileList = os.listdir(path + 'train')\n",
    "testFileList = os.listdir(path + 'test')"
   ],
   "metadata": {
    "collapsed": false,
    "pycharm": {
     "name": "#%%\n"
    }
   }
  },
  {
   "cell_type": "code",
   "metadata": {
    "id": "3zez4aGPw0l9"
   },
   "source": [
    "trainFileList = [x for x in trainFileList if 'jpg' in x]\n",
    "testFileList = [x for x in testFileList if 'jpg' in x]"
   ],
   "execution_count": 7,
   "outputs": []
  },
  {
   "cell_type": "code",
   "metadata": {
    "id": "fsjCOpIbw2IB"
   },
   "source": [
    "label_list = list(set(map(lambda x : x[-6:-4], trainFileList)))"
   ],
   "execution_count": 8,
   "outputs": []
  },
  {
   "cell_type": "code",
   "metadata": {
    "id": "7iU93mTbw3xf"
   },
   "source": [
    "# train 폴더 생성 및 파일 이동\n",
    "currentPath = path + 'train'\n",
    "\n",
    "try:\n",
    "    for key in label_list: # \n",
    "        os.makedirs(currentPath + f'/{key}')\n",
    "except:\n",
    "    pass\n",
    "\n",
    "for file in trainFileList:\n",
    "    label = file.split('_')[1].split('.')[0]\n",
    "    targetPath = currentPath + f'/{label}'\n",
    "    try :\n",
    "        shutil.move(currentPath+f'/{file}', targetPath+f'/{file}')\n",
    "    except:\n",
    "        pass"
   ],
   "execution_count": 9,
   "outputs": []
  },
  {
   "cell_type": "code",
   "metadata": {
    "id": "TI2cdBtww5-G"
   },
   "source": [
    "# train 폴더 생성 및 파일 이동\n",
    "currentPath = path + 'test'\n",
    "\n",
    "try:\n",
    "    for key in label_list: # \n",
    "        os.makedirs(currentPath + f'/{key}')\n",
    "except:\n",
    "    pass\n",
    "\n",
    "for file in testFileList:\n",
    "    label = file.split('_')[1].split('.')[0]\n",
    "    targetPath = currentPath + f'/{label}'\n",
    "    try :\n",
    "        shutil.move(currentPath+f'/{file}', targetPath+f'/{file}')\n",
    "    except:\n",
    "        pass"
   ],
   "execution_count": 10,
   "outputs": []
  },
  {
   "cell_type": "code",
   "metadata": {
    "id": "2WVThZDQxEWi"
   },
   "source": [
    "# train data\n",
    "trainDataGen = ImageDataGenerator(rescale=1./255,\n",
    "                                 rotation_range = 10,\n",
    "                                 width_shift_range=0.1,\n",
    "                                 height_shift_range=0.1,\n",
    "                                 shear_range=0.1,\n",
    "                                 zoom_range=0.1,\n",
    "                                 horizontal_flip=False,\n",
    "                                 vertical_flip=False,\n",
    "                                 fill_mode='nearest'\n",
    "                                 )\n",
    "\n",
    "trainGenSet = trainDataGen.flow_from_directory(\n",
    "    path + 'train',\n",
    "    batch_size=64,\n",
    "    target_size=(28,28),\n",
    "    class_mode='categorical'\n",
    ")"
   ],
   "execution_count": 11,
   "outputs": []
  },
  {
   "cell_type": "code",
   "metadata": {
    "id": "xP3lUq_8xGR9"
   },
   "source": [
    "# test data\n",
    "testDataGen = ImageDataGenerator(rescale=1./255)\n",
    "\n",
    "testGenSet = testDataGen.flow_from_directory(\n",
    "    path + 'test',\n",
    "    batch_size=64,\n",
    "    target_size=(28,28),\n",
    "    class_mode='categorical'\n",
    ")"
   ],
   "execution_count": 13,
   "outputs": []
  },
  {
   "cell_type": "code",
   "metadata": {
    "colab": {
     "base_uri": "https://localhost:8080/"
    },
    "id": "cuizVUhVxLVZ",
    "outputId": "464b5aaa-ce7c-4f46-dbc1-3325c05fdc17"
   },
   "source": [
    "# val data\n",
    "valDataGen = ImageDataGenerator(rescale=1./255,\n",
    "                                 rotation_range = 15,\n",
    "                                 width_shift_range=0.2,\n",
    "                                 height_shift_range=0.2,\n",
    "                                 shear_range=0.2,\n",
    "                                 zoom_range=0.1,\n",
    "                                 horizontal_flip=False,\n",
    "                                 vertical_flip=False,\n",
    "                                 fill_mode='nearest')\n",
    "\n",
    "valGenSet = valDataGen.flow_from_directory(\n",
    "    path + 'train',\n",
    "    target_size=(28,28),\n",
    "    batch_size=64,\n",
    "    class_mode='categorical'\n",
    ")"
   ],
   "execution_count": 15,
   "outputs": [
    {
     "output_type": "stream",
     "name": "stdout",
     "text": [
      "Found 50 images belonging to 10 classes.\n"
     ]
    }
   ]
  },
  {
   "cell_type": "code",
   "metadata": {
    "id": "08w-TxKixNiv"
   },
   "source": [
    "# 모델 구성\n",
    "\n",
    "model = Sequential()\n",
    "model.add(Conv2D(64, kernel_size=(3,3), padding='same', input_shape=(28,28,3), activation='relu'))\n",
    "model.add(MaxPooling2D(pool_size=(2,2)))\n",
    "model.add(Dropout(0.2))\n",
    "\n",
    "model.add(Conv2D(128, kernel_size=(3,3),padding='same', activation='relu'))\n",
    "model.add(MaxPooling2D(pool_size=(2,2)))\n",
    "model.add(Dropout(0.2))\n",
    "\n",
    "model.add(Conv2D(256, kernel_size=(3,3), padding='same', activation='relu'))\n",
    "model.add(MaxPooling2D(pool_size=(2,2)))\n",
    "model.add(Dropout(0.2))\n",
    "\n",
    "model.add(Flatten())\n",
    "model.add(Dense(256, activation='relu'))\n",
    "model.add(Dropout(0.2))\n",
    "model.add(Dense(10, activation='softmax'))"
   ],
   "execution_count": 16,
   "outputs": []
  },
  {
   "cell_type": "code",
   "metadata": {
    "colab": {
     "base_uri": "https://localhost:8080/"
    },
    "id": "t0m8qSchxSal",
    "outputId": "12cfcd40-2d6d-47a5-977d-acfad5ca027e"
   },
   "source": [
    "model.summary()"
   ],
   "execution_count": 17,
   "outputs": [
    {
     "output_type": "stream",
     "name": "stdout",
     "text": [
      "Model: \"sequential_1\"\n",
      "_________________________________________________________________\n",
      "Layer (type)                 Output Shape              Param #   \n",
      "=================================================================\n",
      "conv2d_1 (Conv2D)            (None, 28, 28, 64)        1792      \n",
      "_________________________________________________________________\n",
      "max_pooling2d_1 (MaxPooling2 (None, 14, 14, 64)        0         \n",
      "_________________________________________________________________\n",
      "dropout_1 (Dropout)          (None, 14, 14, 64)        0         \n",
      "_________________________________________________________________\n",
      "conv2d_2 (Conv2D)            (None, 14, 14, 128)       73856     \n",
      "_________________________________________________________________\n",
      "max_pooling2d_2 (MaxPooling2 (None, 7, 7, 128)         0         \n",
      "_________________________________________________________________\n",
      "dropout_2 (Dropout)          (None, 7, 7, 128)         0         \n",
      "_________________________________________________________________\n",
      "conv2d_3 (Conv2D)            (None, 7, 7, 256)         295168    \n",
      "_________________________________________________________________\n",
      "max_pooling2d_3 (MaxPooling2 (None, 3, 3, 256)         0         \n",
      "_________________________________________________________________\n",
      "dropout_3 (Dropout)          (None, 3, 3, 256)         0         \n",
      "_________________________________________________________________\n",
      "flatten_1 (Flatten)          (None, 2304)              0         \n",
      "_________________________________________________________________\n",
      "dense_1 (Dense)              (None, 256)               590080    \n",
      "_________________________________________________________________\n",
      "dropout_4 (Dropout)          (None, 256)               0         \n",
      "_________________________________________________________________\n",
      "dense_2 (Dense)              (None, 10)                2570      \n",
      "=================================================================\n",
      "Total params: 963,466\n",
      "Trainable params: 963,466\n",
      "Non-trainable params: 0\n",
      "_________________________________________________________________\n"
     ]
    }
   ]
  },
  {
   "cell_type": "code",
   "metadata": {
    "id": "LMw7rvnjxTt5"
   },
   "source": [
    "# model compile\n",
    "model.compile(loss='categorical_crossentropy',\n",
    "             optimizer='adam',\n",
    "             metrics=['accuracy'])"
   ],
   "execution_count": 18,
   "outputs": []
  },
  {
   "cell_type": "code",
   "metadata": {
    "colab": {
     "base_uri": "https://localhost:8080/"
    },
    "id": "ayD2TneXxVNh",
    "outputId": "3bb67244-f990-467b-951a-745583646c7e"
   },
   "source": [
    "# model fit\n",
    "model.fit(\n",
    "    trainGenSet,\n",
    "    steps_per_epoch=3,\n",
    "    epochs=50,\n",
    "    validation_data=valGenSet,\n",
    "    validation_steps=10,\n",
    ")"
   ],
   "execution_count": 22,
   "outputs": [
    {
     "output_type": "stream",
     "name": "stdout",
     "text": [
      "Epoch 1/50\n",
      "3/3 [==============================] - 2s 760ms/step - loss: 0.0737 - accuracy: 0.9667 - val_loss: 0.8055 - val_accuracy: 0.8140\n",
      "Epoch 2/50\n",
      "3/3 [==============================] - 2s 734ms/step - loss: 0.0717 - accuracy: 0.9800 - val_loss: 0.7132 - val_accuracy: 0.8020\n",
      "Epoch 3/50\n",
      "3/3 [==============================] - 2s 736ms/step - loss: 0.0867 - accuracy: 0.9800 - val_loss: 0.9693 - val_accuracy: 0.7840\n",
      "Epoch 4/50\n",
      "3/3 [==============================] - 2s 701ms/step - loss: 0.0743 - accuracy: 0.9800 - val_loss: 0.7098 - val_accuracy: 0.7680\n",
      "Epoch 5/50\n",
      "3/3 [==============================] - 2s 692ms/step - loss: 0.0563 - accuracy: 0.9800 - val_loss: 0.9646 - val_accuracy: 0.7960\n",
      "Epoch 6/50\n",
      "3/3 [==============================] - 2s 687ms/step - loss: 0.0678 - accuracy: 0.9667 - val_loss: 0.9331 - val_accuracy: 0.7220\n",
      "Epoch 7/50\n",
      "3/3 [==============================] - 2s 665ms/step - loss: 0.0894 - accuracy: 0.9533 - val_loss: 0.3441 - val_accuracy: 0.8040\n",
      "Epoch 8/50\n",
      "3/3 [==============================] - 2s 699ms/step - loss: 0.1933 - accuracy: 0.9400 - val_loss: 0.9772 - val_accuracy: 0.7880\n",
      "Epoch 9/50\n",
      "3/3 [==============================] - 2s 721ms/step - loss: 0.0887 - accuracy: 0.9667 - val_loss: 0.5772 - val_accuracy: 0.7900\n",
      "Epoch 10/50\n",
      "3/3 [==============================] - 2s 699ms/step - loss: 0.1519 - accuracy: 0.9333 - val_loss: 1.0861 - val_accuracy: 0.8120\n",
      "Epoch 11/50\n",
      "3/3 [==============================] - 2s 718ms/step - loss: 0.1444 - accuracy: 0.9467 - val_loss: 0.9171 - val_accuracy: 0.7540\n",
      "Epoch 12/50\n",
      "3/3 [==============================] - 2s 716ms/step - loss: 0.1232 - accuracy: 0.9533 - val_loss: 1.0730 - val_accuracy: 0.7760\n",
      "Epoch 13/50\n",
      "3/3 [==============================] - 2s 749ms/step - loss: 0.1346 - accuracy: 0.9600 - val_loss: 0.9190 - val_accuracy: 0.7860\n",
      "Epoch 14/50\n",
      "3/3 [==============================] - 2s 733ms/step - loss: 0.1321 - accuracy: 0.9400 - val_loss: 0.3950 - val_accuracy: 0.7700\n",
      "Epoch 15/50\n",
      "3/3 [==============================] - 2s 720ms/step - loss: 0.1005 - accuracy: 0.9667 - val_loss: 0.7675 - val_accuracy: 0.7840\n",
      "Epoch 16/50\n",
      "3/3 [==============================] - 2s 726ms/step - loss: 0.0837 - accuracy: 0.9867 - val_loss: 0.4777 - val_accuracy: 0.8280\n",
      "Epoch 17/50\n",
      "3/3 [==============================] - 2s 666ms/step - loss: 0.0805 - accuracy: 0.9733 - val_loss: 0.3112 - val_accuracy: 0.8180\n",
      "Epoch 18/50\n",
      "3/3 [==============================] - 2s 703ms/step - loss: 0.1595 - accuracy: 0.9400 - val_loss: 0.6059 - val_accuracy: 0.8340\n",
      "Epoch 19/50\n",
      "3/3 [==============================] - 2s 695ms/step - loss: 0.1373 - accuracy: 0.9600 - val_loss: 0.8877 - val_accuracy: 0.7700\n",
      "Epoch 20/50\n",
      "3/3 [==============================] - 2s 706ms/step - loss: 0.1444 - accuracy: 0.9467 - val_loss: 0.5756 - val_accuracy: 0.7680\n",
      "Epoch 21/50\n",
      "3/3 [==============================] - 2s 701ms/step - loss: 0.1610 - accuracy: 0.9467 - val_loss: 0.5320 - val_accuracy: 0.7860\n",
      "Epoch 22/50\n",
      "3/3 [==============================] - 2s 723ms/step - loss: 0.0888 - accuracy: 0.9733 - val_loss: 0.5395 - val_accuracy: 0.8180\n",
      "Epoch 23/50\n",
      "3/3 [==============================] - 2s 694ms/step - loss: 0.0995 - accuracy: 0.9467 - val_loss: 0.9383 - val_accuracy: 0.8080\n",
      "Epoch 24/50\n",
      "3/3 [==============================] - 2s 713ms/step - loss: 0.1096 - accuracy: 0.9533 - val_loss: 0.8432 - val_accuracy: 0.8140\n",
      "Epoch 25/50\n",
      "3/3 [==============================] - 2s 680ms/step - loss: 0.0960 - accuracy: 0.9667 - val_loss: 0.3526 - val_accuracy: 0.7900\n",
      "Epoch 26/50\n",
      "3/3 [==============================] - 2s 747ms/step - loss: 0.1304 - accuracy: 0.9733 - val_loss: 0.8543 - val_accuracy: 0.8160\n",
      "Epoch 27/50\n",
      "3/3 [==============================] - 2s 724ms/step - loss: 0.0840 - accuracy: 0.9733 - val_loss: 0.4820 - val_accuracy: 0.8000\n",
      "Epoch 28/50\n",
      "3/3 [==============================] - 2s 752ms/step - loss: 0.1058 - accuracy: 0.9667 - val_loss: 0.4859 - val_accuracy: 0.8000\n",
      "Epoch 29/50\n",
      "3/3 [==============================] - 2s 714ms/step - loss: 0.0992 - accuracy: 0.9667 - val_loss: 0.5734 - val_accuracy: 0.8240\n",
      "Epoch 30/50\n",
      "3/3 [==============================] - 2s 729ms/step - loss: 0.0875 - accuracy: 0.9733 - val_loss: 0.5679 - val_accuracy: 0.8320\n",
      "Epoch 31/50\n",
      "3/3 [==============================] - 2s 714ms/step - loss: 0.0633 - accuracy: 0.9933 - val_loss: 0.5535 - val_accuracy: 0.7780\n",
      "Epoch 32/50\n",
      "3/3 [==============================] - 2s 696ms/step - loss: 0.1434 - accuracy: 0.9533 - val_loss: 0.7379 - val_accuracy: 0.7980\n",
      "Epoch 33/50\n",
      "3/3 [==============================] - 2s 699ms/step - loss: 0.0727 - accuracy: 0.9600 - val_loss: 0.6359 - val_accuracy: 0.8020\n",
      "Epoch 34/50\n",
      "3/3 [==============================] - 2s 713ms/step - loss: 0.0874 - accuracy: 0.9733 - val_loss: 0.4158 - val_accuracy: 0.8040\n",
      "Epoch 35/50\n",
      "3/3 [==============================] - 2s 689ms/step - loss: 0.0729 - accuracy: 0.9667 - val_loss: 1.3942 - val_accuracy: 0.7540\n",
      "Epoch 36/50\n",
      "3/3 [==============================] - 2s 675ms/step - loss: 0.1024 - accuracy: 0.9733 - val_loss: 0.5797 - val_accuracy: 0.8480\n",
      "Epoch 37/50\n",
      "3/3 [==============================] - 2s 685ms/step - loss: 0.0860 - accuracy: 0.9667 - val_loss: 0.9706 - val_accuracy: 0.8060\n",
      "Epoch 38/50\n",
      "3/3 [==============================] - 2s 670ms/step - loss: 0.1210 - accuracy: 0.9467 - val_loss: 0.8346 - val_accuracy: 0.7780\n",
      "Epoch 39/50\n",
      "3/3 [==============================] - 2s 701ms/step - loss: 0.1016 - accuracy: 0.9800 - val_loss: 0.6937 - val_accuracy: 0.8240\n",
      "Epoch 40/50\n",
      "3/3 [==============================] - 2s 708ms/step - loss: 0.1524 - accuracy: 0.9533 - val_loss: 0.7336 - val_accuracy: 0.7860\n",
      "Epoch 41/50\n",
      "3/3 [==============================] - 2s 711ms/step - loss: 0.1307 - accuracy: 0.9600 - val_loss: 0.6276 - val_accuracy: 0.7340\n",
      "Epoch 42/50\n",
      "3/3 [==============================] - 2s 727ms/step - loss: 0.0835 - accuracy: 0.9733 - val_loss: 0.5443 - val_accuracy: 0.7940\n",
      "Epoch 43/50\n",
      "3/3 [==============================] - 2s 714ms/step - loss: 0.1245 - accuracy: 0.9533 - val_loss: 1.0622 - val_accuracy: 0.7600\n",
      "Epoch 44/50\n",
      "3/3 [==============================] - 2s 690ms/step - loss: 0.1165 - accuracy: 0.9400 - val_loss: 0.9555 - val_accuracy: 0.7580\n",
      "Epoch 45/50\n",
      "3/3 [==============================] - 2s 747ms/step - loss: 0.1059 - accuracy: 0.9533 - val_loss: 0.9601 - val_accuracy: 0.7600\n",
      "Epoch 46/50\n",
      "3/3 [==============================] - 2s 684ms/step - loss: 0.1466 - accuracy: 0.9333 - val_loss: 0.2522 - val_accuracy: 0.8540\n",
      "Epoch 47/50\n",
      "3/3 [==============================] - 2s 743ms/step - loss: 0.0731 - accuracy: 0.9800 - val_loss: 0.6720 - val_accuracy: 0.8060\n",
      "Epoch 48/50\n",
      "3/3 [==============================] - 2s 741ms/step - loss: 0.0578 - accuracy: 0.9867 - val_loss: 0.7371 - val_accuracy: 0.7620\n",
      "Epoch 49/50\n",
      "3/3 [==============================] - 2s 681ms/step - loss: 0.0756 - accuracy: 0.9800 - val_loss: 0.7987 - val_accuracy: 0.8240\n",
      "Epoch 50/50\n",
      "3/3 [==============================] - 2s 739ms/step - loss: 0.0878 - accuracy: 0.9667 - val_loss: 0.5476 - val_accuracy: 0.8040\n"
     ]
    },
    {
     "output_type": "execute_result",
     "data": {
      "text/plain": [
       "<keras.callbacks.callbacks.History at 0x7f6b61f8e110>"
      ]
     },
     "metadata": {},
     "execution_count": 22
    }
   ]
  },
  {
   "cell_type": "code",
   "metadata": {
    "colab": {
     "base_uri": "https://localhost:8080/",
     "height": 1000
    },
    "id": "1BfBov0ZCAI6",
    "outputId": "2f301a78-63f6-422d-fd77-d4cc63d0576b"
   },
   "source": [
    "font = {\n",
    "    '[0. 1. 0. 0. 0. 0. 0. 0. 0. 0.]':'클로바 나눔손글씨 아줌마 자유',\n",
    "    '[0. 0. 1. 0. 0. 0. 0. 0. 0. 0.]':'클로바 나눔손글씨 고딕 아니고 고딩',\n",
    "    '[0. 0. 0. 1. 0. 0. 0. 0. 0. 0.]':'클로바 나눔손글씨 강인한 위로'\n",
    "}\n",
    "\n",
    "x_test, y_test = testGenSet.next()\n",
    "for idx in range(len(x_test)) :\n",
    "    print('\\n')\n",
    "    print(font[f'{y_test[idx]}'])\n",
    "    plt.imshow(x_test[idx])\n",
    "    plt.show()"
   ],
   "execution_count": 24,
   "outputs": [
    {
     "output_type": "stream",
     "name": "stdout",
     "text": [
      "\n",
      "\n",
      "클로바 나눔손글씨 아줌마 자유\n"
     ]
    },
    {
     "output_type": "display_data",
     "data": {
      "image/png": "[encoded data removed]",
      "text/plain": [
       "<Figure size 432x288 with 1 Axes>"
      ]
     },
     "metadata": {
      "needs_background": "light"
     }
    },
    {
     "output_type": "stream",
     "name": "stdout",
     "text": [
      "\n",
      "\n",
      "클로바 나눔손글씨 아줌마 자유\n"
     ]
    },
    {
     "output_type": "display_data",
     "data": {
      "image/png": "[encoded data removed]",
      "text/plain": [
       "<Figure size 432x288 with 1 Axes>"
      ]
     },
     "metadata": {
      "needs_background": "light"
     }
    },
    {
     "output_type": "stream",
     "name": "stdout",
     "text": [
      "\n",
      "\n",
      "클로바 나눔손글씨 고딕 아니고 고딩\n"
     ]
    },
    {
     "output_type": "display_data",
     "data": {
      "image/png": "[encoded data removed]",
      "text/plain": [
       "<Figure size 432x288 with 1 Axes>"
      ]
     },
     "metadata": {
      "needs_background": "light"
     }
    },
    {
     "output_type": "stream",
     "name": "stdout",
     "text": [
      "\n",
      "\n",
      "클로바 나눔손글씨 강인한 위로\n"
     ]
    },
    {
     "output_type": "display_data",
     "data": {
      "image/png": "[encoded data removed]",
      "text/plain": [
       "<Figure size 432x288 with 1 Axes>"
      ]
     },
     "metadata": {
      "needs_background": "light"
     }
    },
    {
     "output_type": "stream",
     "name": "stdout",
     "text": [
      "\n",
      "\n",
      "클로바 나눔손글씨 아줌마 자유\n"
     ]
    },
    {
     "output_type": "display_data",
     "data": {
      "image/png": "[encoded data removed]",
      "text/plain": [
       "<Figure size 432x288 with 1 Axes>"
      ]
     },
     "metadata": {
      "needs_background": "light"
     }
    },
    {
     "output_type": "stream",
     "name": "stdout",
     "text": [
      "\n",
      "\n",
      "클로바 나눔손글씨 고딕 아니고 고딩\n"
     ]
    },
    {
     "output_type": "display_data",
     "data": {
      "image/png": "[encoded data removed]",
      "text/plain": [
       "<Figure size 432x288 with 1 Axes>"
      ]
     },
     "metadata": {
      "needs_background": "light"
     }
    },
    {
     "output_type": "stream",
     "name": "stdout",
     "text": [
      "\n",
      "\n",
      "클로바 나눔손글씨 강인한 위로\n"
     ]
    },
    {
     "output_type": "display_data",
     "data": {
      "image/png": "[encoded data removed]",
      "text/plain": [
       "<Figure size 432x288 with 1 Axes>"
      ]
     },
     "metadata": {
      "needs_background": "light"
     }
    },
    {
     "output_type": "stream",
     "name": "stdout",
     "text": [
      "\n",
      "\n",
      "클로바 나눔손글씨 고딕 아니고 고딩\n"
     ]
    },
    {
     "output_type": "display_data",
     "data": {
      "image/png": "[encoded data removed]",
      "text/plain": [
       "<Figure size 432x288 with 1 Axes>"
      ]
     },
     "metadata": {
      "needs_background": "light"
     }
    },
    {
     "output_type": "stream",
     "name": "stdout",
     "text": [
      "\n",
      "\n",
      "클로바 나눔손글씨 아줌마 자유\n"
     ]
    },
    {
     "output_type": "display_data",
     "data": {
      "image/png": "[encoded data removed]",
      "text/plain": [
       "<Figure size 432x288 with 1 Axes>"
      ]
     },
     "metadata": {
      "needs_background": "light"
     }
    },
    {
     "output_type": "stream",
     "name": "stdout",
     "text": [
      "\n",
      "\n",
      "클로바 나눔손글씨 고딕 아니고 고딩\n"
     ]
    },
    {
     "output_type": "display_data",
     "data": {
      "image/png": "[encoded data removed]",
      "text/plain": [
       "<Figure size 432x288 with 1 Axes>"
      ]
     },
     "metadata": {
      "needs_background": "light"
     }
    },
    {
     "output_type": "stream",
     "name": "stdout",
     "text": [
      "\n",
      "\n",
      "클로바 나눔손글씨 강인한 위로\n"
     ]
    },
    {
     "output_type": "display_data",
     "data": {
      "image/png": "[encoded data removed]",
      "text/plain": [
       "<Figure size 432x288 with 1 Axes>"
      ]
     },
     "metadata": {
      "needs_background": "light"
     }
    },
    {
     "output_type": "stream",
     "name": "stdout",
     "text": [
      "\n",
      "\n",
      "클로바 나눔손글씨 강인한 위로\n"
     ]
    },
    {
     "output_type": "display_data",
     "data": {
      "image/png": "[encoded data removed]",
      "text/plain": [
       "<Figure size 432x288 with 1 Axes>"
      ]
     },
     "metadata": {
      "needs_background": "light"
     }
    },
    {
     "output_type": "stream",
     "name": "stdout",
     "text": [
      "\n",
      "\n",
      "클로바 나눔손글씨 고딕 아니고 고딩\n"
     ]
    },
    {
     "output_type": "display_data",
     "data": {
      "image/png": "[encoded data removed]",
      "text/plain": [
       "<Figure size 432x288 with 1 Axes>"
      ]
     },
     "metadata": {
      "needs_background": "light"
     }
    },
    {
     "output_type": "stream",
     "name": "stdout",
     "text": [
      "\n",
      "\n",
      "클로바 나눔손글씨 아줌마 자유\n"
     ]
    },
    {
     "output_type": "display_data",
     "data": {
      "image/png": "[encoded data removed]",
      "text/plain": [
       "<Figure size 432x288 with 1 Axes>"
      ]
     },
     "metadata": {
      "needs_background": "light"
     }
    },
    {
     "output_type": "stream",
     "name": "stdout",
     "text": [
      "\n",
      "\n",
      "클로바 나눔손글씨 강인한 위로\n"
     ]
    },
    {
     "output_type": "display_data",
     "data": {
      "image/png": "[encoded data removed]",
      "text/plain": [
       "<Figure size 432x288 with 1 Axes>"
      ]
     },
     "metadata": {
      "needs_background": "light"
     }
    }
   ]
  }
 ]
}