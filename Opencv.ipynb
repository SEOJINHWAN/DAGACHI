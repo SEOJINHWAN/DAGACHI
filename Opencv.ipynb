{
 "cells": [
  {
   "cell_type": "code",
   "execution_count": 1,
   "metadata": {},
   "outputs": [],
   "source": [
    "import cv2\n",
    "import numpy as np\n",
    "import matplotlib.pyplot as plt"
   ]
  },
  {
   "cell_type": "markdown",
   "metadata": {},
   "source": [
    "### opencv를 이용한 이미지 인식"
   ]
  },
  {
   "cell_type": "code",
   "execution_count": 2,
   "metadata": {},
   "outputs": [],
   "source": [
    "img = cv2.imread('sample.jpg')\n",
    "new_img = img.copy()\n",
    "gray = cv2.cvtColor(img, cv2.COLOR_BGR2GRAY)\n",
    "\n",
    "cv2.imshow('Gray image', gray)\n",
    "cv2.waitKey(0)\n",
    "cv2.destroyAllWindows()"
   ]
  },
  {
   "cell_type": "code",
   "execution_count": 3,
   "metadata": {},
   "outputs": [],
   "source": [
    "ret, binary = cv2.threshold(gray, 100, 255,\n",
    "                           cv2.THRESH_OTSU)\n",
    "\n",
    "cv2.imshow('binary image', binary)\n",
    "cv2.waitKey(0)\n",
    "cv2.destroyAllWindows()"
   ]
  },
  {
   "cell_type": "code",
   "execution_count": 4,
   "metadata": {},
   "outputs": [],
   "source": [
    "inverted_binary = ~binary\n",
    "cv2.imshow('Inverted binary image', inverted_binary)\n",
    "cv2.waitKey(0)\n",
    "cv2.destroyAllWindows()"
   ]
  },
  {
   "cell_type": "code",
   "execution_count": 5,
   "metadata": {},
   "outputs": [],
   "source": [
    "contours, hierarchy = cv2.findContours(inverted_binary,\n",
    "                                        cv2.RETR_TREE,\n",
    "                                        cv2.CHAIN_APPROX_SIMPLE)"
   ]
  },
  {
   "cell_type": "code",
   "execution_count": 6,
   "metadata": {},
   "outputs": [],
   "source": [
    "with_contours = cv2.drawContours(img, contours, -1, (255, 0, 255),3)\n",
    "cv2.imshow('Detected contours', with_contours)\n",
    "cv2.waitKey(0)\n",
    "cv2.destroyAllWindows()"
   ]
  },
  {
   "cell_type": "code",
   "execution_count": 7,
   "metadata": {},
   "outputs": [
    {
     "name": "stdout",
     "output_type": "stream",
     "text": [
      "Total number of contours detected: 43\n"
     ]
    }
   ],
   "source": [
    "# Show the total number of contours that were detected\n",
    "print('Total number of contours detected: ' + str(len(contours)))\n",
    " \n",
    "# Draw just the first contour\n",
    "# The 0 means to draw the first contour\n",
    "first_contour = cv2.drawContours(new_img, contours, 0,(255,0,255),3)\n",
    "cv2.imshow('First detected contour', first_contour)\n",
    "cv2.waitKey(0)\n",
    "cv2.destroyAllWindows()\n",
    " \n",
    "# Draw a bounding box around the first contour\n",
    "# x is the starting x coordinate of the bounding box\n",
    "# y is the starting y coordinate of the bounding box\n",
    "# w is the width of the bounding box\n",
    "# h is the height of the bounding box\n",
    "x, y, w, h = cv2.boundingRect(contours[0])\n",
    "cv2.rectangle(first_contour,(x,y), (x+w,y+h), (255,0,0), 3)\n",
    "cv2.imshow('First contour with bounding box', first_contour)\n",
    "cv2.waitKey(0)\n",
    "cv2.destroyAllWindows()\n",
    " \n",
    "# Draw a bounding box around all contours\n",
    "for c in contours:\n",
    "  x, y, w, h = cv2.boundingRect(c)\n",
    " \n",
    "    # Make sure contour area is large enough\n",
    "  if (cv2.contourArea(c)) > 10:\n",
    "    cv2.rectangle(with_contours,(x,y), (x+w,y+h), (255,0,0), 3)\n",
    "         \n",
    "cv2.imshow('All contours with bounding box', with_contours)\n",
    "cv2.waitKey(0)\n",
    "cv2.destroyAllWindows()"
   ]
  },
  {
   "cell_type": "code",
   "execution_count": 8,
   "metadata": {},
   "outputs": [],
   "source": [
    "lower = np.array([40,40,40], dtype = 'uint8')\n",
    "upper = np.array([255,255,255],  dtype = 'uint8')\n",
    "mask = cv2.inRange(img, lower, upper)\n",
    "output = cv2.bitwise_and(img, img, mask = mask)\n",
    "\n",
    "cv2.imshow('output',np.hstack([img,output]))\n",
    "cv2.waitKey(0)\n",
    "cv2.destroyAllWindows()"
   ]
  },
  {
   "cell_type": "code",
   "execution_count": null,
   "metadata": {},
   "outputs": [],
   "source": []
  },
  {
   "cell_type": "code",
   "execution_count": 9,
   "metadata": {},
   "outputs": [
    {
     "data": {
      "text/plain": [
       "(813, 1280, 3)"
      ]
     },
     "execution_count": 9,
     "metadata": {},
     "output_type": "execute_result"
    }
   ],
   "source": [
    "img.shape"
   ]
  },
  {
   "cell_type": "code",
   "execution_count": 10,
   "metadata": {},
   "outputs": [],
   "source": [
    "cv2.imshow('image', img)\n",
    "cv2.waitKey()\n",
    "cv2.destroyAllWindows()"
   ]
  },
  {
   "cell_type": "code",
   "execution_count": 11,
   "metadata": {},
   "outputs": [],
   "source": [
    "plt.show()"
   ]
  },
  {
   "cell_type": "code",
   "execution_count": null,
   "metadata": {},
   "outputs": [],
   "source": []
  },
  {
   "cell_type": "code",
   "execution_count": 12,
   "metadata": {},
   "outputs": [],
   "source": [
    "img = cv2.imread('sample.jpg')\n",
    "new_img = img.copy()\n",
    "gray = cv2.cvtColor(img, cv2.COLOR_BGR2GRAY)\n",
    "\n",
    "cv2.imshow('Gray image', gray)\n",
    "cv2.waitKey(0)\n",
    "cv2.destroyAllWindows()"
   ]
  },
  {
   "cell_type": "code",
   "execution_count": 13,
   "metadata": {},
   "outputs": [],
   "source": [
    "ret, binary = cv2.threshold(gray, 100, 255,\n",
    "                           cv2.THRESH_OTSU)\n",
    "\n",
    "cv2.imshow('binary image', binary)\n",
    "cv2.waitKey(0)\n",
    "cv2.destroyAllWindows()"
   ]
  },
  {
   "cell_type": "code",
   "execution_count": 14,
   "metadata": {},
   "outputs": [],
   "source": [
    "img = cv2.imread('sample.jpg')\n",
    "gray = cv2.cvtColor(img, cv2.COLOR_BGR2GRAY)\n",
    "\n",
    "ret, binary = cv2.threshold(gray, 100, 255,\n",
    "                           cv2.THRESH_OTSU)\n",
    "\n",
    "cv2.imshow('binary image', binary)\n",
    "cv2.waitKey(0)\n",
    "cv2.destroyAllWindows()\n",
    "\n",
    "contours, hierarchy = cv2.findContours(binary, cv2.RETR_TREE, cv2.CHAIN_APPROX_SIMPLE)\n",
    "\n",
    "idx = 0\n",
    "while idx >= 0:\n",
    "    cv2.drawContours(img, contours, idx, (255,0,0), 1, cv2.LINE_8, hierarchy)\n",
    "    idx = hierarchy[0, idx, 0]\n",
    "\n",
    "cv2.imshow('img', img)\n",
    "\n",
    "cv2.waitKey()\n",
    "cv2.destroyAllWindows()"
   ]
  },
  {
   "cell_type": "code",
   "execution_count": 15,
   "metadata": {},
   "outputs": [],
   "source": [
    "dst = cv2.cvtColor(img, cv2.COLOR_BGR2GRAY)\n",
    "\n",
    "_, th = cv2.threshold(dst, 0, 255, cv2.THRESH_OTSU + cv2.THRESH_BINARY_INV)\n",
    "dst = cv2.cvtColor(th, cv2.COLOR_GRAY2BGR)\n",
    "\n",
    "_, labels, stats, centroids = cv2.connectedComponentsWithStats(th)\n",
    "# print(stats)\n",
    "\n",
    "for x, y, w, h, cnt in stats:\n",
    "    if (h,w) < dst.shape:\n",
    "        cv2.rectangle(dst, (x, y, w, h), (0, 255, 0), 1)\n",
    "        \n",
    "cv2.imshow('img', img)\n",
    "cv2.imshow('th', th)\n",
    "cv2.imshow('dst', dst)\n",
    "\n",
    "cv2.waitKey()\n",
    "cv2.destroyAllWindows()"
   ]
  },
  {
   "cell_type": "code",
   "execution_count": null,
   "metadata": {},
   "outputs": [],
   "source": []
  },
  {
   "cell_type": "code",
   "execution_count": null,
   "metadata": {},
   "outputs": [],
   "source": []
  },
  {
   "cell_type": "code",
   "execution_count": 16,
   "metadata": {},
   "outputs": [],
   "source": [
    "ret, binary = cv2.threshold(gray, 100, 255,\n",
    "                           cv2.THRESH_OTSU)\n",
    "\n",
    "cv2.imshow('binary image', binary)\n",
    "cv2.waitKey(0)\n",
    "cv2.destroyAllWindows()"
   ]
  },
  {
   "cell_type": "code",
   "execution_count": 17,
   "metadata": {},
   "outputs": [],
   "source": [
    "img = cv2.imread('sample.jpg')\n",
    "gray = cv2.cvtColor(img, cv2.COLOR_BGR2GRAY)\n",
    "\n",
    "ret, binary = cv2.threshold(gray, 100, 255,\n",
    "                           cv2.THRESH_OTSU)\n",
    "\n",
    "cv2.imshow('binary image', binary)\n",
    "cv2.waitKey(0)\n",
    "cv2.destroyAllWindows()\n",
    "\n",
    "contours, hierarchy = cv2.findContours(binary, cv2.RETR_TREE, cv2.CHAIN_APPROX_SIMPLE)\n",
    "\n",
    "idx = 0\n",
    "while idx >= 0:\n",
    "    cv2.drawContours(img, contours, idx, (255,0,0), 1, cv2.LINE_8, hierarchy)\n",
    "    idx = hierarchy[0, idx, 0]\n",
    "\n",
    "cv2.imshow('img', img)\n",
    "\n",
    "cv2.waitKey()\n",
    "cv2.destroyAllWindows()"
   ]
  },
  {
   "cell_type": "code",
   "execution_count": 18,
   "metadata": {},
   "outputs": [],
   "source": [
    "dst = cv2.cvtColor(img, cv2.COLOR_BGR2GRAY)\n",
    "\n",
    "_, th = cv2.threshold(dst, 0, 255, cv2.THRESH_OTSU + cv2.THRESH_BINARY_INV)\n",
    "dst = cv2.cvtColor(th, cv2.COLOR_GRAY2BGR)\n",
    "\n",
    "_, labels, stats, centroids = cv2.connectedComponentsWithStats(th)\n",
    "# print(stats)\n",
    "\n",
    "for x, y, w, h, cnt in stats:\n",
    "    if (h,w) < dst.shape:\n",
    "        cv2.rectangle(dst, (x, y, w, h), (0, 255, 0), 1)\n",
    "\n",
    "cv2.imshow('img',img)        \n",
    "cv2.imshow('th', th)\n",
    "cv2.imshow('dst', dst)\n",
    "\n",
    "cv2.waitKey()\n",
    "cv2.destroyAllWindows()"
   ]
  },
  {
   "cell_type": "code",
   "execution_count": null,
   "metadata": {},
   "outputs": [],
   "source": []
  },
  {
   "cell_type": "code",
   "execution_count": 19,
   "metadata": {},
   "outputs": [],
   "source": [
    "import cv2\n",
    "import numpy as np"
   ]
  },
  {
   "cell_type": "code",
   "execution_count": 20,
   "metadata": {},
   "outputs": [],
   "source": [
    "img = cv2.imread('sample.jpg')\n",
    "kernel = np.ones((5,5), np.float32)/25\n",
    "dst = cv2.filter2D(img, -1, kernel)\n",
    "\n",
    "cv2.imshow('Original', img)\n",
    "cv2.imshow('Result', dst)\n",
    "\n",
    "cv2.waitKey(0)\n",
    "cv2.destroyAllWindows()"
   ]
  },
  {
   "cell_type": "code",
   "execution_count": 21,
   "metadata": {},
   "outputs": [],
   "source": [
    "blur = cv2.GaussianBlur(img, (5,5), 0)\n",
    "blur2 = cv2.medianBlur(img, 5)\n",
    "blur3 = cv2.bilateralFilter(img, 9, 75, 75)\n",
    "\n",
    "\n",
    "cv2.imshow('Original', img)\n",
    "cv2.imshow('Result', blur)\n",
    "cv2.imshow('Result2', blur2)\n",
    "cv2.imshow('Result3', blur3)\n",
    "\n",
    "cv2.waitKey(0)\n",
    "cv2.destroyAllWindows()"
   ]
  },
  {
   "cell_type": "code",
   "execution_count": null,
   "metadata": {},
   "outputs": [],
   "source": []
  },
  {
   "cell_type": "code",
   "execution_count": 22,
   "metadata": {},
   "outputs": [],
   "source": [
    "img = cv2.imread('sample.jpg')\n",
    "\n",
    "# extract red channel\n",
    "red_channel = img[:,:,2]\n",
    "blur = cv2.bilateralFilter(red_channel, 3, 55, 55)\n",
    "\n",
    "cv2.imshow('red', red_channel)\n",
    "# cv2.imshow('blur',blur)\n",
    "\n",
    "\n",
    "cv2.waitKey(0)\n",
    "cv2.destroyAllWindows()\n",
    "\n",
    "ret, binary = cv2.threshold(blur, 100, 255,\n",
    "                           cv2.THRESH_OTSU)\n",
    "\n",
    "cv2.imshow('binary image', binary)\n",
    "cv2.waitKey(0)\n",
    "cv2.destroyAllWindows()\n",
    "\n",
    "contours, hierarchy = cv2.findContours(binary, cv2.RETR_EXTERNAL, cv2.CHAIN_APPROX_SIMPLE)\n",
    "\n",
    "idx = 0\n",
    "while idx >= 0:\n",
    "    cv2.drawContours(img, contours, idx, (255,0,0), 3, cv2.LINE_8, hierarchy)\n",
    "    idx = hierarchy[0, idx, 0]\n",
    "\n",
    "cv2.imshow('img', img)\n",
    "\n",
    "cv2.waitKey()\n",
    "cv2.destroyAllWindows()\n",
    "\n",
    "_, th = cv2.threshold(binary, 0, 255, cv2.THRESH_OTSU + cv2.THRESH_BINARY_INV)\n",
    "dst = cv2.cvtColor(th, cv2.COLOR_GRAY2BGR)\n",
    "\n",
    "\n",
    "_, labels, stats, centroids = cv2.connectedComponentsWithStats(th)\n",
    "# print(stats)\n",
    "\n",
    "for x, y, w, h, cnt in stats:\n",
    "    if (5,5) < (h,w) < dst.shape:\n",
    "        cv2.rectangle(dst, (x, y, w, h), (0, 255, 0), 1)\n",
    "\n",
    "cv2.imshow('dst', dst)\n",
    "\n",
    "cv2.waitKey()\n",
    "cv2.destroyAllWindows()\n"
   ]
  },
  {
   "cell_type": "code",
   "execution_count": null,
   "metadata": {},
   "outputs": [],
   "source": []
  },
  {
   "cell_type": "code",
   "execution_count": null,
   "metadata": {},
   "outputs": [],
   "source": []
  },
  {
   "cell_type": "code",
   "execution_count": 23,
   "metadata": {},
   "outputs": [],
   "source": [
    "import cv2\n",
    "image = cv2.imread('sample.jpg')\n",
    "gray = cv2.cvtColor(image, cv2.COLOR_BGR2GRAY)\n",
    "blur = cv2.medianBlur(gray, 9)\n",
    "thresh = cv2.threshold(blur, 0, 255, cv2.THRESH_BINARY_INV + cv2.THRESH_OTSU)[1]\n",
    "kernel = cv2.getStructuringElement(cv2.MORPH_RECT, (3,3))\n",
    "opening = cv2.morphologyEx(thresh, cv2.MORPH_OPEN, kernel, iterations=1)\n",
    "dilate_kernel = cv2.getStructuringElement(cv2.MORPH_RECT, (20,20))\n",
    "dilate = cv2.dilate(opening, dilate_kernel, iterations=2)\n",
    "cnts = cv2.findContours(dilate, cv2.RETR_EXTERNAL, cv2.CHAIN_APPROX_SIMPLE)\n",
    "cnts = cnts[0] if len(cnts) == 2 else cnts[1]\n",
    "for c in cnts:\n",
    "    x,y,w,h = cv2.boundingRect(c)\n",
    "    cv2.rectangle(image, (x, y), (x + w, y + h), (36,255,12), 2)\n",
    "cv2.imshow('thresh', thresh)\n",
    "cv2.imshow('opening', opening)\n",
    "cv2.imshow('dilate', dilate)\n",
    "cv2.imshow('image', image)\n",
    "cv2.waitKey()\n",
    "cv2.destroyAllWindows()"
   ]
  },
  {
   "cell_type": "code",
   "execution_count": 24,
   "metadata": {},
   "outputs": [],
   "source": [
    "# 색공간 추출\n",
    "# https://dsbook.tistory.com/166?category=802614\n",
    "# 까만 부분만 추출 하면?\n",
    "# 이미지 -> red channel 제거(도장 등 제거)-> blur 연한 색 제거 -> 색공간 추출 후 영역 지정(까만 글씨 추출)"
   ]
  },
  {
   "cell_type": "code",
   "execution_count": 84,
   "metadata": {},
   "outputs": [],
   "source": [
    "import cv2\n",
    "image = cv2.imread('sample2.jpg')\n",
    "\n",
    "image_height, image_width = image.shape[:2]\n",
    "\n",
    "resize_height = int(0.5*image_height)\n",
    "resize_width = int(0.3*image_width)\n",
    "\n",
    "image = cv2.resize(image, (resize_height, resize_width), interpolation = cv2.INTER_CUBIC)"
   ]
  },
  {
   "cell_type": "code",
   "execution_count": 85,
   "metadata": {},
   "outputs": [],
   "source": [
    "\n",
    "gray = cv2.cvtColor(image, cv2.COLOR_BGR2GRAY)\n",
    "blur = cv2.medianBlur(gray, 7)\n",
    "# blur = cv2.bilateralFilter(blur, 9, 35, 35)\n",
    "thresh = cv2.threshold(blur, 0, 255, cv2.THRESH_BINARY_INV + cv2.THRESH_OTSU)[1]\n",
    "kernel = cv2.getStructuringElement(cv2.MORPH_RECT, (1,2))\n",
    "opening = cv2.morphologyEx(thresh, cv2.MORPH_OPEN, kernel, iterations=2)\n",
    "dilate_kernel = cv2.getStructuringElement(cv2.MORPH_RECT, (10,10))\n",
    "dilate = cv2.dilate(opening, dilate_kernel, iterations=2)\n",
    "cnts = cv2.findContours(dilate, cv2.RETR_EXTERNAL, cv2.CHAIN_APPROX_SIMPLE)\n",
    "cnts = cnts[0] if len(cnts) == 2 else cnts[1]\n",
    "for c in cnts:\n",
    "    x,y,w,h = cv2.boundingRect(c)\n",
    "    cv2.rectangle(image, (x, y), (x + w, y + h), (36,255,12), 2)\n",
    "cv2.imshow('thresh', thresh)\n",
    "cv2.imshow('opening', opening)\n",
    "cv2.imshow('dilate', dilate)\n",
    "cv2.imshow('image', image)\n",
    "cv2.waitKey()\n",
    "cv2.destroyAllWindows()"
   ]
  },
  {
   "cell_type": "code",
   "execution_count": null,
   "metadata": {},
   "outputs": [],
   "source": []
  }
 ],
 "metadata": {
  "kernelspec": {
   "display_name": "Python 3",
   "language": "python",
   "name": "python3"
  },
  "language_info": {
   "codemirror_mode": {
    "name": "ipython",
    "version": 3
   },
   "file_extension": ".py",
   "mimetype": "text/x-python",
   "name": "python",
   "nbconvert_exporter": "python",
   "pygments_lexer": "ipython3",
   "version": "3.8.5"
  }
 },
 "nbformat": 4,
 "nbformat_minor": 4
}
