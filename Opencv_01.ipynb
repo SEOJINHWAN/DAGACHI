{
 "cells": [
  {
   "cell_type": "code",
   "execution_count": 1,
   "metadata": {},
   "outputs": [],
   "source": [
    "import csv\n",
    "import pandas as pd\n",
    "from sklearn.preprocessing import  LabelEncoder\n",
    "import matplotlib.pyplot as plt\n",
    "import numpy as np"
   ]
  },
  {
   "cell_type": "code",
   "execution_count": 2,
   "metadata": {},
   "outputs": [],
   "source": [
    "df_care_center = pd.read_csv('Desktop/python Ex/프로젝트 연습/apartment/day_care_center.csv')\n",
    "df_park = pd.read_csv('Desktop/python Ex/프로젝트 연습/apartment/park.csv')\n",
    "df_submission = pd.read_csv('Desktop/python Ex/프로젝트 연습/apartment/submission.csv')"
   ]
  },
  {
   "cell_type": "code",
   "execution_count": 3,
   "metadata": {},
   "outputs": [
    {
     "name": "stdout",
     "output_type": "stream",
     "text": [
      "<class 'pandas.core.frame.DataFrame'>\n",
      "RangeIndex: 7551 entries, 0 to 7550\n",
      "Data columns (total 11 columns):\n",
      " #   Column                Non-Null Count  Dtype  \n",
      "---  ------                --------------  -----  \n",
      " 0   city                  7551 non-null   object \n",
      " 1   gu                    7551 non-null   object \n",
      " 2   day_care_name         7551 non-null   object \n",
      " 3   day_care_type         7551 non-null   object \n",
      " 4   day_care_baby_num     7551 non-null   int64  \n",
      " 5   teacher_num           7326 non-null   float64\n",
      " 6   nursing_room_num      4352 non-null   float64\n",
      " 7   playground_num        3626 non-null   float64\n",
      " 8   CCTV_num              5280 non-null   float64\n",
      " 9   is_commuting_vehicle  7055 non-null   object \n",
      " 10  reference_date        7551 non-null   object \n",
      "dtypes: float64(4), int64(1), object(6)\n",
      "memory usage: 649.0+ KB\n"
     ]
    }
   ],
   "source": [
    "df_care_center.info()"
   ]
  },
  {
   "cell_type": "code",
   "execution_count": 4,
   "metadata": {},
   "outputs": [
    {
     "name": "stdout",
     "output_type": "stream",
     "text": [
      "<class 'pandas.core.frame.DataFrame'>\n",
      "RangeIndex: 1359 entries, 0 to 1358\n",
      "Data columns (total 13 columns):\n",
      " #   Column                       Non-Null Count  Dtype  \n",
      "---  ------                       --------------  -----  \n",
      " 0   city                         1359 non-null   object \n",
      " 1   gu                           1356 non-null   object \n",
      " 2   dong                         1359 non-null   object \n",
      " 3   park_name                    1359 non-null   object \n",
      " 4   park_type                    1359 non-null   object \n",
      " 5   park_area                    1359 non-null   float64\n",
      " 6   park_exercise_facility       277 non-null    object \n",
      " 7   park_entertainment_facility  435 non-null    object \n",
      " 8   park_benefit_facility        266 non-null    object \n",
      " 9   park_cultural_facitiy        72 non-null     object \n",
      " 10  park_facility_other          175 non-null    object \n",
      " 11  park_open_year               937 non-null    float64\n",
      " 12  reference_date               1359 non-null   object \n",
      "dtypes: float64(2), object(11)\n",
      "memory usage: 138.1+ KB\n"
     ]
    }
   ],
   "source": [
    "df_park.info()"
   ]
  },
  {
   "cell_type": "code",
   "execution_count": 5,
   "metadata": {},
   "outputs": [
    {
     "name": "stdout",
     "output_type": "stream",
     "text": [
      "<class 'pandas.core.frame.DataFrame'>\n",
      "RangeIndex: 5463 entries, 0 to 5462\n",
      "Data columns (total 2 columns):\n",
      " #   Column                  Non-Null Count  Dtype\n",
      "---  ------                  --------------  -----\n",
      " 0   transaction_id          5463 non-null   int64\n",
      " 1   transaction_real_price  5463 non-null   int64\n",
      "dtypes: int64(2)\n",
      "memory usage: 85.5 KB\n"
     ]
    }
   ],
   "source": [
    "df_submission.info()"
   ]
  },
  {
   "cell_type": "code",
   "execution_count": 6,
   "metadata": {},
   "outputs": [
    {
     "data": {
      "text/plain": [
       "서울특별시    5656\n",
       "부산광역시    1895\n",
       "Name: city, dtype: int64"
      ]
     },
     "execution_count": 6,
     "metadata": {},
     "output_type": "execute_result"
    }
   ],
   "source": [
    "df_care_center.city.value_counts()"
   ]
  },
  {
   "cell_type": "code",
   "execution_count": 7,
   "metadata": {},
   "outputs": [
    {
     "data": {
      "text/plain": [
       "서울특별시    930\n",
       "부산광역시    429\n",
       "Name: city, dtype: int64"
      ]
     },
     "execution_count": 7,
     "metadata": {},
     "output_type": "execute_result"
    }
   ],
   "source": [
    "df_park.city.value_counts()"
   ]
  },
  {
   "cell_type": "code",
   "execution_count": 8,
   "metadata": {},
   "outputs": [],
   "source": [
    "train_df = pd.read_csv(\"Desktop/python Ex/프로젝트 연습/apartment/train.csv\")\n",
    "test_df = pd.read_csv(\"Desktop/python Ex/프로젝트 연습/apartment/test.csv\")"
   ]
  },
  {
   "cell_type": "code",
   "execution_count": 9,
   "metadata": {},
   "outputs": [],
   "source": [
    "# import re\n",
    "# from tqdm import tqdm\n",
    "\n",
    "# # 괄호와 괄호안내용 제거\n",
    "# regex = \"\\(.*\\)|\\s-\\s.*\"\n",
    "# for i in tqdm(range(len(train_df)), position=0, leave=True):\n",
    "#    train_df['apt'][i] = re.sub(regex, '', train_df['apt'][i])\n",
    "\n",
    "# # 처리시간이 길어서 과정을 생략하기 위해 따로 csv 파일 생성\n",
    "# # 추후에 로드할 때는 train_df 대신 train_df_regex를 로드함(test도 마찬가지)\n",
    "# train_df.to_csv('train_df_regex.csv', index=False)"
   ]
  },
  {
   "cell_type": "code",
   "execution_count": 10,
   "metadata": {},
   "outputs": [],
   "source": [
    "# import re\n",
    "# from tqdm import tqdm\n",
    "\n",
    "# # 괄호와 괄호안내용 제거\n",
    "# regex = \"\\(.*\\)|\\s-\\s.*\"\n",
    "# for i in tqdm(range(len(test_df)), position=0, leave=True):\n",
    "#    test_df['apt'][i] = re.sub(regex, '', test_df['apt'][i])\n",
    "\n",
    "# # 처리시간이 길어서 과정을 생략하기 위해 따로 csv 파일 생성\n",
    "# # 추후에 로드할 때는 test_df 대신 test_df_regex를 로드함\n",
    "# test_df.to_csv('test_df_regex.csv', index=False)"
   ]
  },
  {
   "cell_type": "code",
   "execution_count": 11,
   "metadata": {},
   "outputs": [
    {
     "name": "stdout",
     "output_type": "stream",
     "text": [
      "<class 'pandas.core.frame.DataFrame'>\n",
      "RangeIndex: 1216553 entries, 0 to 1216552\n",
      "Data columns (total 13 columns):\n",
      " #   Column                  Non-Null Count    Dtype  \n",
      "---  ------                  --------------    -----  \n",
      " 0   transaction_id          1216553 non-null  int64  \n",
      " 1   apartment_id            1216553 non-null  int64  \n",
      " 2   city                    1216553 non-null  object \n",
      " 3   dong                    1216553 non-null  object \n",
      " 4   jibun                   1216553 non-null  object \n",
      " 5   apt                     1216553 non-null  object \n",
      " 6   addr_kr                 1216553 non-null  object \n",
      " 7   exclusive_use_area      1216553 non-null  float64\n",
      " 8   year_of_completion      1216553 non-null  int64  \n",
      " 9   transaction_year_month  1216553 non-null  int64  \n",
      " 10  transaction_date        1216553 non-null  object \n",
      " 11  floor                   1216553 non-null  int64  \n",
      " 12  transaction_real_price  1216553 non-null  int64  \n",
      "dtypes: float64(1), int64(6), object(6)\n",
      "memory usage: 120.7+ MB\n"
     ]
    }
   ],
   "source": [
    "train_df.info()"
   ]
  },
  {
   "cell_type": "code",
   "execution_count": 12,
   "metadata": {},
   "outputs": [
    {
     "name": "stdout",
     "output_type": "stream",
     "text": [
      "<class 'pandas.core.frame.DataFrame'>\n",
      "RangeIndex: 5463 entries, 0 to 5462\n",
      "Data columns (total 12 columns):\n",
      " #   Column                  Non-Null Count  Dtype  \n",
      "---  ------                  --------------  -----  \n",
      " 0   transaction_id          5463 non-null   int64  \n",
      " 1   apartment_id            5463 non-null   int64  \n",
      " 2   city                    5463 non-null   object \n",
      " 3   dong                    5463 non-null   object \n",
      " 4   jibun                   5463 non-null   object \n",
      " 5   apt                     5463 non-null   object \n",
      " 6   addr_kr                 5463 non-null   object \n",
      " 7   exclusive_use_area      5463 non-null   float64\n",
      " 8   year_of_completion      5463 non-null   int64  \n",
      " 9   transaction_year_month  5463 non-null   int64  \n",
      " 10  transaction_date        5463 non-null   object \n",
      " 11  floor                   5463 non-null   int64  \n",
      "dtypes: float64(1), int64(5), object(6)\n",
      "memory usage: 512.3+ KB\n"
     ]
    }
   ],
   "source": [
    "test_df.info()"
   ]
  },
  {
   "cell_type": "markdown",
   "metadata": {},
   "source": [
    "#### train_df, test_df 결측치 없음"
   ]
  },
  {
   "cell_type": "code",
   "execution_count": 13,
   "metadata": {},
   "outputs": [
    {
     "data": {
      "text/plain": [
       "현대          13154\n",
       "한신           9766\n",
       "삼성           6729\n",
       "대우           6216\n",
       "신동아          5851\n",
       "두산           5801\n",
       "주공2          5669\n",
       "삼성래미안        5483\n",
       "우성           5411\n",
       "벽산           4651\n",
       "동원로얄듀크       4430\n",
       "경남           4028\n",
       "삼환           3896\n",
       "쌍용           3409\n",
       "롯데캐슬         3381\n",
       "삼익           3362\n",
       "대림           3238\n",
       "오륙도에스케이뷰     3220\n",
       "코오롱          3174\n",
       "파크리오         3094\n",
       "Name: apt, dtype: int64"
      ]
     },
     "execution_count": 13,
     "metadata": {},
     "output_type": "execute_result"
    }
   ],
   "source": [
    "train_df.apt.value_counts()[:20]"
   ]
  },
  {
   "cell_type": "code",
   "execution_count": 14,
   "metadata": {},
   "outputs": [
    {
     "data": {
      "text/plain": [
       "(1216553, 13)"
      ]
     },
     "execution_count": 14,
     "metadata": {},
     "output_type": "execute_result"
    }
   ],
   "source": [
    "train_df.shape"
   ]
  },
  {
   "cell_type": "code",
   "execution_count": 15,
   "metadata": {},
   "outputs": [
    {
     "data": {
      "text/html": [
       "<div>\n",
       "<style scoped>\n",
       "    .dataframe tbody tr th:only-of-type {\n",
       "        vertical-align: middle;\n",
       "    }\n",
       "\n",
       "    .dataframe tbody tr th {\n",
       "        vertical-align: top;\n",
       "    }\n",
       "\n",
       "    .dataframe thead th {\n",
       "        text-align: right;\n",
       "    }\n",
       "</style>\n",
       "<table border=\"1\" class=\"dataframe\">\n",
       "  <thead>\n",
       "    <tr style=\"text-align: right;\">\n",
       "      <th></th>\n",
       "      <th>transaction_id</th>\n",
       "      <th>apartment_id</th>\n",
       "      <th>city</th>\n",
       "      <th>dong</th>\n",
       "      <th>jibun</th>\n",
       "      <th>apt</th>\n",
       "      <th>addr_kr</th>\n",
       "      <th>exclusive_use_area</th>\n",
       "      <th>year_of_completion</th>\n",
       "      <th>transaction_year_month</th>\n",
       "      <th>transaction_date</th>\n",
       "      <th>floor</th>\n",
       "      <th>transaction_real_price</th>\n",
       "      <th>apt_counts</th>\n",
       "    </tr>\n",
       "  </thead>\n",
       "  <tbody>\n",
       "    <tr>\n",
       "      <th>0</th>\n",
       "      <td>0</td>\n",
       "      <td>7622</td>\n",
       "      <td>서울특별시</td>\n",
       "      <td>신교동</td>\n",
       "      <td>6-13</td>\n",
       "      <td>신현(101동)</td>\n",
       "      <td>신교동 6-13 신현(101동)</td>\n",
       "      <td>84.82</td>\n",
       "      <td>2002</td>\n",
       "      <td>200801</td>\n",
       "      <td>21~31</td>\n",
       "      <td>2</td>\n",
       "      <td>37500</td>\n",
       "      <td>5</td>\n",
       "    </tr>\n",
       "    <tr>\n",
       "      <th>1</th>\n",
       "      <td>1</td>\n",
       "      <td>5399</td>\n",
       "      <td>서울특별시</td>\n",
       "      <td>필운동</td>\n",
       "      <td>142</td>\n",
       "      <td>사직파크맨션</td>\n",
       "      <td>필운동 142 사직파크맨션</td>\n",
       "      <td>99.17</td>\n",
       "      <td>1973</td>\n",
       "      <td>200801</td>\n",
       "      <td>1~10</td>\n",
       "      <td>6</td>\n",
       "      <td>20000</td>\n",
       "      <td>1</td>\n",
       "    </tr>\n",
       "    <tr>\n",
       "      <th>2</th>\n",
       "      <td>2</td>\n",
       "      <td>3578</td>\n",
       "      <td>서울특별시</td>\n",
       "      <td>필운동</td>\n",
       "      <td>174-1</td>\n",
       "      <td>두레엘리시안</td>\n",
       "      <td>필운동 174-1 두레엘리시안</td>\n",
       "      <td>84.74</td>\n",
       "      <td>2007</td>\n",
       "      <td>200801</td>\n",
       "      <td>1~10</td>\n",
       "      <td>6</td>\n",
       "      <td>38500</td>\n",
       "      <td>13</td>\n",
       "    </tr>\n",
       "  </tbody>\n",
       "</table>\n",
       "</div>"
      ],
      "text/plain": [
       "   transaction_id  apartment_id   city dong  jibun       apt  \\\n",
       "0               0          7622  서울특별시  신교동   6-13  신현(101동)   \n",
       "1               1          5399  서울특별시  필운동    142    사직파크맨션   \n",
       "2               2          3578  서울특별시  필운동  174-1    두레엘리시안   \n",
       "\n",
       "             addr_kr  exclusive_use_area  year_of_completion  \\\n",
       "0  신교동 6-13 신현(101동)               84.82                2002   \n",
       "1     필운동 142 사직파크맨션               99.17                1973   \n",
       "2   필운동 174-1 두레엘리시안               84.74                2007   \n",
       "\n",
       "   transaction_year_month transaction_date  floor  transaction_real_price  \\\n",
       "0                  200801            21~31      2                   37500   \n",
       "1                  200801             1~10      6                   20000   \n",
       "2                  200801             1~10      6                   38500   \n",
       "\n",
       "   apt_counts  \n",
       "0           5  \n",
       "1           1  \n",
       "2          13  "
      ]
     },
     "execution_count": 15,
     "metadata": {},
     "output_type": "execute_result"
    }
   ],
   "source": [
    "train_df['apt_counts'] = 0\n",
    "train_df.groupby('apt')['apt_counts'].count()\n",
    "train_df = pd.merge(train_df, train_df.groupby('apt')['apt_counts'].count(), on='apt', how='left').drop('apt_counts_x',axis = 1).rename(columns={'apt_counts_y':'apt_counts'})\n",
    "\n",
    "\n",
    "test_df['apt_counts'] = 0\n",
    "test_df.groupby('apt')['apt_counts'].count()\n",
    "test_df = pd.merge(test_df, test_df.groupby('apt')['apt_counts'].count(), on='apt', how='left').drop('apt_counts_x', axis=1).rename(columns={'apt_counts_y':'apt_counts'})\n",
    "\n",
    "train_df.head(3)"
   ]
  },
  {
   "cell_type": "code",
   "execution_count": 16,
   "metadata": {},
   "outputs": [
    {
     "data": {
      "text/plain": [
       "(1216553, 14)"
      ]
     },
     "execution_count": 16,
     "metadata": {},
     "output_type": "execute_result"
    }
   ],
   "source": [
    "train_df.shape"
   ]
  },
  {
   "cell_type": "code",
   "execution_count": 17,
   "metadata": {},
   "outputs": [
    {
     "data": {
      "text/plain": [
       "현대       13154\n",
       "한신        9766\n",
       "삼성        6729\n",
       "대우        6216\n",
       "신동아       5851\n",
       "두산        5801\n",
       "주공2       5669\n",
       "삼성래미안     5483\n",
       "우성        5411\n",
       "벽산        4651\n",
       "Name: apt, dtype: int64"
      ]
     },
     "execution_count": 17,
     "metadata": {},
     "output_type": "execute_result"
    }
   ],
   "source": [
    "train_df['apt'].value_counts()[:10]"
   ]
  },
  {
   "cell_type": "code",
   "execution_count": 18,
   "metadata": {},
   "outputs": [],
   "source": [
    "train_df['top10'] = 0\n",
    "test_df['top10'] = 0\n",
    "top10 = ['자이', '푸르지오', '더샾', '롯데캐슬', '이편한|e편한|e-편한',\n",
    "        '힐스테이트', '아이파크', '래미안', 'sk|SK|에스케이', '데시앙']\n",
    "\n",
    "train_df['apt'] = train_df['apt'].fillna('others')\n",
    "for i, brand in enumerate(top10):\n",
    "    train_df.loc[train_df['apt'].str.contains(brand),'top10'] = 1\n",
    "    test_df.loc[test_df['apt'].str.contains(brand),'top10'] = 1"
   ]
  },
  {
   "cell_type": "code",
   "execution_count": 19,
   "metadata": {},
   "outputs": [
    {
     "data": {
      "text/html": [
       "<div>\n",
       "<style scoped>\n",
       "    .dataframe tbody tr th:only-of-type {\n",
       "        vertical-align: middle;\n",
       "    }\n",
       "\n",
       "    .dataframe tbody tr th {\n",
       "        vertical-align: top;\n",
       "    }\n",
       "\n",
       "    .dataframe thead th {\n",
       "        text-align: right;\n",
       "    }\n",
       "</style>\n",
       "<table border=\"1\" class=\"dataframe\">\n",
       "  <thead>\n",
       "    <tr style=\"text-align: right;\">\n",
       "      <th></th>\n",
       "      <th>transaction_id</th>\n",
       "      <th>apartment_id</th>\n",
       "      <th>city</th>\n",
       "      <th>dong</th>\n",
       "      <th>jibun</th>\n",
       "      <th>apt</th>\n",
       "      <th>addr_kr</th>\n",
       "      <th>exclusive_use_area</th>\n",
       "      <th>year_of_completion</th>\n",
       "      <th>transaction_year_month</th>\n",
       "      <th>transaction_date</th>\n",
       "      <th>floor</th>\n",
       "      <th>transaction_real_price</th>\n",
       "      <th>apt_counts</th>\n",
       "      <th>top10</th>\n",
       "    </tr>\n",
       "  </thead>\n",
       "  <tbody>\n",
       "    <tr>\n",
       "      <th>0</th>\n",
       "      <td>0</td>\n",
       "      <td>7622</td>\n",
       "      <td>서울특별시</td>\n",
       "      <td>신교동</td>\n",
       "      <td>6-13</td>\n",
       "      <td>신현(101동)</td>\n",
       "      <td>신교동 6-13 신현(101동)</td>\n",
       "      <td>84.82</td>\n",
       "      <td>2002</td>\n",
       "      <td>200801</td>\n",
       "      <td>21~31</td>\n",
       "      <td>2</td>\n",
       "      <td>37500</td>\n",
       "      <td>5</td>\n",
       "      <td>0</td>\n",
       "    </tr>\n",
       "  </tbody>\n",
       "</table>\n",
       "</div>"
      ],
      "text/plain": [
       "   transaction_id  apartment_id   city dong jibun       apt  \\\n",
       "0               0          7622  서울특별시  신교동  6-13  신현(101동)   \n",
       "\n",
       "             addr_kr  exclusive_use_area  year_of_completion  \\\n",
       "0  신교동 6-13 신현(101동)               84.82                2002   \n",
       "\n",
       "   transaction_year_month transaction_date  floor  transaction_real_price  \\\n",
       "0                  200801            21~31      2                   37500   \n",
       "\n",
       "   apt_counts  top10  \n",
       "0           5      0  "
      ]
     },
     "execution_count": 19,
     "metadata": {},
     "output_type": "execute_result"
    }
   ],
   "source": [
    "train_df.head(1)"
   ]
  },
  {
   "cell_type": "code",
   "execution_count": 20,
   "metadata": {},
   "outputs": [],
   "source": [
    "apt_names = ['그레이스', '양지', '쌍용', '현대', '한신', '삼성', '대우', '신동아', '두산', '주공',\n",
    "             '우성', '벽산', '동원로얄듀크','경남', '삼환', '쌍용', '삼익', '대림', '코오롱', '파크리오',\n",
    "             '엘지', '성원', '잠실', '동궁리치웰', '동성']\n",
    "apt_names_list = top10 + apt_names\n",
    "\n",
    "train_df['transformed'] = False\n",
    "test_df['transformed'] = False\n",
    "\n",
    "for a in apt_names_list:\n",
    "    train_df.loc[train_df['apt'].str.contains(a), 'apt'] = a\n",
    "    test_df.loc[test_df['apt'].str.contains(a), 'apt'] = a\n",
    "    train_df.loc[train_df['apt'].str.contains(a), 'transformed'] = True\n",
    "    test_df.loc[test_df['apt'].str.contains(a), 'transformed'] = True\n",
    "\n",
    "#아파트 이름이 변경되지 않았을 경우 others로 변경\n",
    "for a in apt_names:\n",
    "    train_df.loc[~train_df['transformed'], 'apt'] = 'others'\n",
    "    test_df.loc[~test_df['transformed'] , 'apt'] = 'others'"
   ]
  },
  {
   "cell_type": "code",
   "execution_count": 21,
   "metadata": {},
   "outputs": [
    {
     "data": {
      "text/plain": [
       "others          649780\n",
       "현대               81824\n",
       "주공               65937\n",
       "래미안              35322\n",
       "한신               27481\n",
       "벽산               26968\n",
       "롯데캐슬             24803\n",
       "우성               24524\n",
       "삼성               21055\n",
       "두산               20691\n",
       "푸르지오             19924\n",
       "sk|SK|에스케이       19709\n",
       "대우               18737\n",
       "삼익               18708\n",
       "쌍용               18256\n",
       "대림               18194\n",
       "이편한|e편한|e-편한     15567\n",
       "신동아              14049\n",
       "힐스테이트            12489\n",
       "자이               11719\n",
       "엘지               10938\n",
       "경남               10875\n",
       "코오롱               8765\n",
       "아이파크              8625\n",
       "성원                7697\n",
       "삼환                6073\n",
       "동원로얄듀크            6070\n",
       "파크리오              3094\n",
       "잠실                2606\n",
       "데시앙               2327\n",
       "동성                2228\n",
       "양지                1033\n",
       "그레이스               393\n",
       "동궁리치웰               92\n",
       "Name: apt, dtype: int64"
      ]
     },
     "execution_count": 21,
     "metadata": {},
     "output_type": "execute_result"
    }
   ],
   "source": [
    "train_df['apt'].value_counts()"
   ]
  },
  {
   "cell_type": "code",
   "execution_count": 22,
   "metadata": {},
   "outputs": [
    {
     "name": "stdout",
     "output_type": "stream",
     "text": [
      "34 34\n"
     ]
    }
   ],
   "source": [
    "print(train_df['apt'].nunique(), test_df['apt'].nunique())"
   ]
  },
  {
   "cell_type": "code",
   "execution_count": 23,
   "metadata": {},
   "outputs": [
    {
     "name": "stdout",
     "output_type": "stream",
     "text": [
      "변환전\n",
      " apt\n",
      "잠실      91273.525326\n",
      "파크리오    88739.646736\n",
      "자이      79838.112467\n",
      "래미안     63231.332512\n",
      "아이파크    62427.703884\n",
      "Name: transaction_real_price, dtype: float64\n",
      "변환후\n",
      " apt\n",
      "0    91273.525326\n",
      "1    88739.646736\n",
      "2    79838.112467\n",
      "3    63231.332512\n",
      "4    62427.703884\n",
      "Name: transaction_real_price, dtype: float64\n"
     ]
    }
   ],
   "source": [
    "# 아파트별 가격의 평균 내림차순 정렬, 라벨인코딩\n",
    "all_df = pd.concat([train_df, test_df], axis=0).reset_index(drop=True)\n",
    "apt_price = all_df.groupby('apt')['transaction_real_price'].agg('mean').sort_values(ascending=False)\n",
    "print('변환전\\n', apt_price[:5])\n",
    "\n",
    "for i, a in enumerate(list(apt_price.index)):\n",
    "    all_df.loc[all_df['apt'] == a, 'apt'] = i\n",
    "apt_price = all_df.groupby('apt')['transaction_real_price'].agg('mean').sort_values(ascending=False)\n",
    "print('변환후\\n', apt_price[:5])"
   ]
  },
  {
   "cell_type": "code",
   "execution_count": 24,
   "metadata": {},
   "outputs": [
    {
     "name": "stdout",
     "output_type": "stream",
     "text": [
      "변환전\n",
      " [2002 1973 2007 2003 2004]\n",
      "변환후\n",
      " [41 12 46 42 43]\n",
      "변환전\n",
      " [200801 200802 200803 200804 200805]\n",
      "변환후\n",
      " [0 1 2 3 4]\n"
     ]
    }
   ],
   "source": [
    "# 완공연도에서 최소연도를 뺌으로써 완공연도 라벨인코딩\n",
    "print('변환전\\n', all_df['year_of_completion'].unique()[:5])\n",
    "all_df['year_of_completion'] = all_df['year_of_completion'] - all_df['year_of_completion'].min()\n",
    "print('변환후\\n', all_df['year_of_completion'].unique()[:5])\n",
    "# 연월 증가하는 순으로 라벨 인코딩\n",
    "print('변환전\\n', all_df['transaction_year_month'].unique()[:5])\n",
    "le = LabelEncoder()\n",
    "all_df['transaction_year_month'] = le.fit_transform(all_df['transaction_year_month'])\n",
    "print('변환후\\n', all_df['transaction_year_month'].unique()[:5])\n",
    "# 필요없는 열 제거\n",
    "all_df = all_df.drop(['jibun', 'transaction_date', 'addr_kr'], axis=1)"
   ]
  },
  {
   "cell_type": "code",
   "execution_count": 25,
   "metadata": {},
   "outputs": [
    {
     "data": {
      "text/html": [
       "<div>\n",
       "<style scoped>\n",
       "    .dataframe tbody tr th:only-of-type {\n",
       "        vertical-align: middle;\n",
       "    }\n",
       "\n",
       "    .dataframe tbody tr th {\n",
       "        vertical-align: top;\n",
       "    }\n",
       "\n",
       "    .dataframe thead th {\n",
       "        text-align: right;\n",
       "    }\n",
       "</style>\n",
       "<table border=\"1\" class=\"dataframe\">\n",
       "  <thead>\n",
       "    <tr style=\"text-align: right;\">\n",
       "      <th></th>\n",
       "      <th>transaction_id</th>\n",
       "      <th>apartment_id</th>\n",
       "      <th>city</th>\n",
       "      <th>dong</th>\n",
       "      <th>apt</th>\n",
       "      <th>exclusive_use_area</th>\n",
       "      <th>year_of_completion</th>\n",
       "      <th>transaction_year_month</th>\n",
       "      <th>floor</th>\n",
       "      <th>transaction_real_price</th>\n",
       "      <th>apt_counts</th>\n",
       "      <th>top10</th>\n",
       "      <th>transformed</th>\n",
       "    </tr>\n",
       "  </thead>\n",
       "  <tbody>\n",
       "    <tr>\n",
       "      <th>0</th>\n",
       "      <td>0</td>\n",
       "      <td>7622</td>\n",
       "      <td>서울특별시</td>\n",
       "      <td>신교동</td>\n",
       "      <td>22</td>\n",
       "      <td>84.82</td>\n",
       "      <td>41</td>\n",
       "      <td>0</td>\n",
       "      <td>2</td>\n",
       "      <td>37500.0</td>\n",
       "      <td>5</td>\n",
       "      <td>0</td>\n",
       "      <td>False</td>\n",
       "    </tr>\n",
       "    <tr>\n",
       "      <th>1</th>\n",
       "      <td>1</td>\n",
       "      <td>5399</td>\n",
       "      <td>서울특별시</td>\n",
       "      <td>필운동</td>\n",
       "      <td>22</td>\n",
       "      <td>99.17</td>\n",
       "      <td>12</td>\n",
       "      <td>0</td>\n",
       "      <td>6</td>\n",
       "      <td>20000.0</td>\n",
       "      <td>1</td>\n",
       "      <td>0</td>\n",
       "      <td>False</td>\n",
       "    </tr>\n",
       "    <tr>\n",
       "      <th>2</th>\n",
       "      <td>2</td>\n",
       "      <td>3578</td>\n",
       "      <td>서울특별시</td>\n",
       "      <td>필운동</td>\n",
       "      <td>22</td>\n",
       "      <td>84.74</td>\n",
       "      <td>46</td>\n",
       "      <td>0</td>\n",
       "      <td>6</td>\n",
       "      <td>38500.0</td>\n",
       "      <td>13</td>\n",
       "      <td>0</td>\n",
       "      <td>False</td>\n",
       "    </tr>\n",
       "    <tr>\n",
       "      <th>3</th>\n",
       "      <td>3</td>\n",
       "      <td>10957</td>\n",
       "      <td>서울특별시</td>\n",
       "      <td>내수동</td>\n",
       "      <td>22</td>\n",
       "      <td>146.39</td>\n",
       "      <td>42</td>\n",
       "      <td>0</td>\n",
       "      <td>15</td>\n",
       "      <td>118000.0</td>\n",
       "      <td>55</td>\n",
       "      <td>0</td>\n",
       "      <td>False</td>\n",
       "    </tr>\n",
       "    <tr>\n",
       "      <th>4</th>\n",
       "      <td>4</td>\n",
       "      <td>10639</td>\n",
       "      <td>서울특별시</td>\n",
       "      <td>내수동</td>\n",
       "      <td>22</td>\n",
       "      <td>194.43</td>\n",
       "      <td>43</td>\n",
       "      <td>0</td>\n",
       "      <td>3</td>\n",
       "      <td>120000.0</td>\n",
       "      <td>15</td>\n",
       "      <td>0</td>\n",
       "      <td>False</td>\n",
       "    </tr>\n",
       "  </tbody>\n",
       "</table>\n",
       "</div>"
      ],
      "text/plain": [
       "   transaction_id  apartment_id   city dong apt  exclusive_use_area  \\\n",
       "0               0          7622  서울특별시  신교동  22               84.82   \n",
       "1               1          5399  서울특별시  필운동  22               99.17   \n",
       "2               2          3578  서울특별시  필운동  22               84.74   \n",
       "3               3         10957  서울특별시  내수동  22              146.39   \n",
       "4               4         10639  서울특별시  내수동  22              194.43   \n",
       "\n",
       "   year_of_completion  transaction_year_month  floor  transaction_real_price  \\\n",
       "0                  41                       0      2                 37500.0   \n",
       "1                  12                       0      6                 20000.0   \n",
       "2                  46                       0      6                 38500.0   \n",
       "3                  42                       0     15                118000.0   \n",
       "4                  43                       0      3                120000.0   \n",
       "\n",
       "   apt_counts  top10  transformed  \n",
       "0           5      0        False  \n",
       "1           1      0        False  \n",
       "2          13      0        False  \n",
       "3          55      0        False  \n",
       "4          15      0        False  "
      ]
     },
     "execution_count": 25,
     "metadata": {},
     "output_type": "execute_result"
    }
   ],
   "source": [
    "all_df.head(5)"
   ]
  },
  {
   "cell_type": "code",
   "execution_count": 26,
   "metadata": {},
   "outputs": [
    {
     "name": "stdout",
     "output_type": "stream",
     "text": [
      "{'부암동', '송정동', '사직동', '중동'}\n"
     ]
    }
   ],
   "source": [
    "seoul_set = set(all_df.loc[all_df['city']=='서울특별시', 'dong'])\n",
    "busan_set = set(all_df.loc[all_df['city']=='부산광역시', 'dong'])\n",
    "same_dong = seoul_set & busan_set \n",
    "print(same_dong)"
   ]
  },
  {
   "cell_type": "code",
   "execution_count": 27,
   "metadata": {},
   "outputs": [
    {
     "name": "stdout",
     "output_type": "stream",
     "text": [
      "set()\n"
     ]
    }
   ],
   "source": [
    "for d in same_dong:\n",
    "    all_df.loc[(all_df['city']=='서울특별시') & (all_df['dong']==d), 'dong'] = '서울' + d\n",
    "    all_df.loc[(all_df['city']=='부산광역시') & (all_df['dong']==d), 'dong'] = '부산' + d\n",
    "\n",
    "seoul_set = set(all_df.loc[all_df['city']=='서울특별시', 'dong'])\n",
    "busan_set = set(all_df.loc[all_df['city']=='부산광역시', 'dong'])\n",
    "same_dong = seoul_set & busan_set\n",
    "print(same_dong)  "
   ]
  },
  {
   "cell_type": "code",
   "execution_count": 28,
   "metadata": {},
   "outputs": [
    {
     "data": {
      "text/plain": [
       "dong\n",
       "장충동1가    269888.888889\n",
       "장충동2가      6628.421053\n",
       "Name: transaction_real_price, dtype: float64"
      ]
     },
     "execution_count": 28,
     "metadata": {},
     "output_type": "execute_result"
    }
   ],
   "source": [
    "train_df.loc[train_df['dong'].str.contains('장충동')].groupby('dong')['transaction_real_price'].\\\n",
    "agg('mean')"
   ]
  },
  {
   "cell_type": "code",
   "execution_count": 29,
   "metadata": {},
   "outputs": [
    {
     "data": {
      "text/plain": [
       "dong\n",
       "장충동1가     269888.888889\n",
       "압구정동      164534.722914\n",
       "청암동       161403.700000\n",
       "용산동5가     153497.331633\n",
       "회현동2가     139906.140351\n",
       "반포동       132489.395651\n",
       "한남동       122593.293264\n",
       "서빙고동      116547.239777\n",
       "대치동       116320.538909\n",
       "남대문로5가    113153.604651\n",
       "도곡동       110655.655354\n",
       "청담동       110289.411168\n",
       "교남동       108600.000000\n",
       "내수동       107899.014778\n",
       "주성동       106000.000000\n",
       "하중동       105900.477833\n",
       "삼성동       101379.971621\n",
       "잠실동       101166.337275\n",
       "동자동        99472.876033\n",
       "동빙고동       99057.552239\n",
       "회현동1가      98753.660066\n",
       "한강로3가      96027.903297\n",
       "여의도동       93456.214326\n",
       "서울사직동      93144.310145\n",
       "이촌동        89409.952902\n",
       "서교동        88442.874302\n",
       "견지동        87004.741935\n",
       "잠원동        86980.647308\n",
       "방배동        85883.661956\n",
       "신천동        85334.022796\n",
       "신계동        84490.522184\n",
       "자곡동        83905.484615\n",
       "서초동        83858.755537\n",
       "한강로1가      82761.069620\n",
       "원효로1가      81194.484429\n",
       "방이동        80720.686653\n",
       "내곡동        79034.412121\n",
       "상수동        77964.221557\n",
       "일원동        77417.897626\n",
       "상왕십리동      77258.186364\n",
       "신원동        77225.606936\n",
       "Name: transaction_real_price, dtype: float64"
      ]
     },
     "execution_count": 29,
     "metadata": {},
     "output_type": "execute_result"
    }
   ],
   "source": [
    "dong_price = all_df.groupby('dong')['transaction_real_price'].agg('mean').sort_values(ascending=False)\n",
    "dong_price[:41]"
   ]
  },
  {
   "cell_type": "code",
   "execution_count": 30,
   "metadata": {},
   "outputs": [
    {
     "data": {
      "text/html": [
       "<div>\n",
       "<style scoped>\n",
       "    .dataframe tbody tr th:only-of-type {\n",
       "        vertical-align: middle;\n",
       "    }\n",
       "\n",
       "    .dataframe tbody tr th {\n",
       "        vertical-align: top;\n",
       "    }\n",
       "\n",
       "    .dataframe thead th {\n",
       "        text-align: right;\n",
       "    }\n",
       "</style>\n",
       "<table border=\"1\" class=\"dataframe\">\n",
       "  <thead>\n",
       "    <tr style=\"text-align: right;\">\n",
       "      <th></th>\n",
       "      <th>transaction_id</th>\n",
       "      <th>apartment_id</th>\n",
       "      <th>city</th>\n",
       "      <th>dong</th>\n",
       "      <th>apt</th>\n",
       "      <th>exclusive_use_area</th>\n",
       "      <th>year_of_completion</th>\n",
       "      <th>transaction_year_month</th>\n",
       "      <th>floor</th>\n",
       "      <th>transaction_real_price</th>\n",
       "      <th>apt_counts</th>\n",
       "      <th>top10</th>\n",
       "      <th>transformed</th>\n",
       "    </tr>\n",
       "  </thead>\n",
       "  <tbody>\n",
       "    <tr>\n",
       "      <th>0</th>\n",
       "      <td>0</td>\n",
       "      <td>7622</td>\n",
       "      <td>서울특별시</td>\n",
       "      <td>138</td>\n",
       "      <td>22</td>\n",
       "      <td>84.82</td>\n",
       "      <td>41</td>\n",
       "      <td>0</td>\n",
       "      <td>2</td>\n",
       "      <td>37500.0</td>\n",
       "      <td>5</td>\n",
       "      <td>0</td>\n",
       "      <td>False</td>\n",
       "    </tr>\n",
       "    <tr>\n",
       "      <th>1</th>\n",
       "      <td>1</td>\n",
       "      <td>5399</td>\n",
       "      <td>서울특별시</td>\n",
       "      <td>65</td>\n",
       "      <td>22</td>\n",
       "      <td>99.17</td>\n",
       "      <td>12</td>\n",
       "      <td>0</td>\n",
       "      <td>6</td>\n",
       "      <td>20000.0</td>\n",
       "      <td>1</td>\n",
       "      <td>0</td>\n",
       "      <td>False</td>\n",
       "    </tr>\n",
       "    <tr>\n",
       "      <th>2</th>\n",
       "      <td>2</td>\n",
       "      <td>3578</td>\n",
       "      <td>서울특별시</td>\n",
       "      <td>65</td>\n",
       "      <td>22</td>\n",
       "      <td>84.74</td>\n",
       "      <td>46</td>\n",
       "      <td>0</td>\n",
       "      <td>6</td>\n",
       "      <td>38500.0</td>\n",
       "      <td>13</td>\n",
       "      <td>0</td>\n",
       "      <td>False</td>\n",
       "    </tr>\n",
       "    <tr>\n",
       "      <th>3</th>\n",
       "      <td>3</td>\n",
       "      <td>10957</td>\n",
       "      <td>서울특별시</td>\n",
       "      <td>13</td>\n",
       "      <td>22</td>\n",
       "      <td>146.39</td>\n",
       "      <td>42</td>\n",
       "      <td>0</td>\n",
       "      <td>15</td>\n",
       "      <td>118000.0</td>\n",
       "      <td>55</td>\n",
       "      <td>0</td>\n",
       "      <td>False</td>\n",
       "    </tr>\n",
       "    <tr>\n",
       "      <th>4</th>\n",
       "      <td>4</td>\n",
       "      <td>10639</td>\n",
       "      <td>서울특별시</td>\n",
       "      <td>13</td>\n",
       "      <td>22</td>\n",
       "      <td>194.43</td>\n",
       "      <td>43</td>\n",
       "      <td>0</td>\n",
       "      <td>3</td>\n",
       "      <td>120000.0</td>\n",
       "      <td>15</td>\n",
       "      <td>0</td>\n",
       "      <td>False</td>\n",
       "    </tr>\n",
       "  </tbody>\n",
       "</table>\n",
       "</div>"
      ],
      "text/plain": [
       "   transaction_id  apartment_id   city dong apt  exclusive_use_area  \\\n",
       "0               0          7622  서울특별시  138  22               84.82   \n",
       "1               1          5399  서울특별시   65  22               99.17   \n",
       "2               2          3578  서울특별시   65  22               84.74   \n",
       "3               3         10957  서울특별시   13  22              146.39   \n",
       "4               4         10639  서울특별시   13  22              194.43   \n",
       "\n",
       "   year_of_completion  transaction_year_month  floor  transaction_real_price  \\\n",
       "0                  41                       0      2                 37500.0   \n",
       "1                  12                       0      6                 20000.0   \n",
       "2                  46                       0      6                 38500.0   \n",
       "3                  42                       0     15                118000.0   \n",
       "4                  43                       0      3                120000.0   \n",
       "\n",
       "   apt_counts  top10  transformed  \n",
       "0           5      0        False  \n",
       "1           1      0        False  \n",
       "2          13      0        False  \n",
       "3          55      0        False  \n",
       "4          15      0        False  "
      ]
     },
     "execution_count": 30,
     "metadata": {},
     "output_type": "execute_result"
    }
   ],
   "source": [
    "# 가격기준으로 동을 정렬한 리스트를 바탕으로 dong에 대해 라벨 인코딩 진행\n",
    "for i, d in enumerate(list(dong_price.index)):\n",
    "    all_df.loc[all_df['dong'] == d, 'dong'] = i\n",
    "all_df.head()"
   ]
  },
  {
   "cell_type": "code",
   "execution_count": 31,
   "metadata": {},
   "outputs": [
    {
     "data": {
      "text/html": [
       "<div>\n",
       "<style scoped>\n",
       "    .dataframe tbody tr th:only-of-type {\n",
       "        vertical-align: middle;\n",
       "    }\n",
       "\n",
       "    .dataframe tbody tr th {\n",
       "        vertical-align: top;\n",
       "    }\n",
       "\n",
       "    .dataframe thead th {\n",
       "        text-align: right;\n",
       "    }\n",
       "</style>\n",
       "<table border=\"1\" class=\"dataframe\">\n",
       "  <thead>\n",
       "    <tr style=\"text-align: right;\">\n",
       "      <th></th>\n",
       "      <th>transaction_id</th>\n",
       "      <th>apartment_id</th>\n",
       "      <th>exclusive_use_area</th>\n",
       "      <th>year_of_completion</th>\n",
       "      <th>transaction_year_month</th>\n",
       "      <th>floor</th>\n",
       "      <th>transaction_real_price</th>\n",
       "      <th>apt_counts</th>\n",
       "      <th>top10</th>\n",
       "    </tr>\n",
       "  </thead>\n",
       "  <tbody>\n",
       "    <tr>\n",
       "      <th>count</th>\n",
       "      <td>1.222016e+06</td>\n",
       "      <td>1.222016e+06</td>\n",
       "      <td>1.222016e+06</td>\n",
       "      <td>1.222016e+06</td>\n",
       "      <td>1.222016e+06</td>\n",
       "      <td>1.222016e+06</td>\n",
       "      <td>1.216553e+06</td>\n",
       "      <td>1.222016e+06</td>\n",
       "      <td>1.222016e+06</td>\n",
       "    </tr>\n",
       "    <tr>\n",
       "      <th>mean</th>\n",
       "      <td>6.116474e+05</td>\n",
       "      <td>6.299630e+03</td>\n",
       "      <td>7.817144e+01</td>\n",
       "      <td>3.730611e+01</td>\n",
       "      <td>6.461461e+01</td>\n",
       "      <td>9.338479e+00</td>\n",
       "      <td>3.822769e+04</td>\n",
       "      <td>1.165050e+03</td>\n",
       "      <td>1.236833e-01</td>\n",
       "    </tr>\n",
       "    <tr>\n",
       "      <th>std</th>\n",
       "      <td>3.538049e+05</td>\n",
       "      <td>3.581363e+03</td>\n",
       "      <td>2.916926e+01</td>\n",
       "      <td>8.947398e+00</td>\n",
       "      <td>3.519266e+01</td>\n",
       "      <td>6.604638e+00</td>\n",
       "      <td>3.104898e+04</td>\n",
       "      <td>1.930563e+03</td>\n",
       "      <td>3.292201e-01</td>\n",
       "    </tr>\n",
       "    <tr>\n",
       "      <th>min</th>\n",
       "      <td>0.000000e+00</td>\n",
       "      <td>0.000000e+00</td>\n",
       "      <td>9.260000e+00</td>\n",
       "      <td>0.000000e+00</td>\n",
       "      <td>0.000000e+00</td>\n",
       "      <td>-4.000000e+00</td>\n",
       "      <td>1.000000e+02</td>\n",
       "      <td>1.000000e+00</td>\n",
       "      <td>0.000000e+00</td>\n",
       "    </tr>\n",
       "    <tr>\n",
       "      <th>25%</th>\n",
       "      <td>3.055038e+05</td>\n",
       "      <td>3.345000e+03</td>\n",
       "      <td>5.976000e+01</td>\n",
       "      <td>3.200000e+01</td>\n",
       "      <td>3.300000e+01</td>\n",
       "      <td>4.000000e+00</td>\n",
       "      <td>1.900000e+04</td>\n",
       "      <td>1.890000e+02</td>\n",
       "      <td>0.000000e+00</td>\n",
       "    </tr>\n",
       "    <tr>\n",
       "      <th>50%</th>\n",
       "      <td>6.110075e+05</td>\n",
       "      <td>5.964000e+03</td>\n",
       "      <td>8.240000e+01</td>\n",
       "      <td>3.800000e+01</td>\n",
       "      <td>7.200000e+01</td>\n",
       "      <td>8.000000e+00</td>\n",
       "      <td>3.090000e+04</td>\n",
       "      <td>5.530000e+02</td>\n",
       "      <td>0.000000e+00</td>\n",
       "    </tr>\n",
       "    <tr>\n",
       "      <th>75%</th>\n",
       "      <td>9.165112e+05</td>\n",
       "      <td>9.436000e+03</td>\n",
       "      <td>8.497000e+01</td>\n",
       "      <td>4.400000e+01</td>\n",
       "      <td>9.400000e+01</td>\n",
       "      <td>1.300000e+01</td>\n",
       "      <td>4.700000e+04</td>\n",
       "      <td>1.207000e+03</td>\n",
       "      <td>0.000000e+00</td>\n",
       "    </tr>\n",
       "    <tr>\n",
       "      <th>max</th>\n",
       "      <td>1.234930e+06</td>\n",
       "      <td>1.265800e+04</td>\n",
       "      <td>4.243200e+02</td>\n",
       "      <td>5.600000e+01</td>\n",
       "      <td>1.190000e+02</td>\n",
       "      <td>8.000000e+01</td>\n",
       "      <td>8.200000e+05</td>\n",
       "      <td>1.315400e+04</td>\n",
       "      <td>1.000000e+00</td>\n",
       "    </tr>\n",
       "  </tbody>\n",
       "</table>\n",
       "</div>"
      ],
      "text/plain": [
       "       transaction_id  apartment_id  exclusive_use_area  year_of_completion  \\\n",
       "count    1.222016e+06  1.222016e+06        1.222016e+06        1.222016e+06   \n",
       "mean     6.116474e+05  6.299630e+03        7.817144e+01        3.730611e+01   \n",
       "std      3.538049e+05  3.581363e+03        2.916926e+01        8.947398e+00   \n",
       "min      0.000000e+00  0.000000e+00        9.260000e+00        0.000000e+00   \n",
       "25%      3.055038e+05  3.345000e+03        5.976000e+01        3.200000e+01   \n",
       "50%      6.110075e+05  5.964000e+03        8.240000e+01        3.800000e+01   \n",
       "75%      9.165112e+05  9.436000e+03        8.497000e+01        4.400000e+01   \n",
       "max      1.234930e+06  1.265800e+04        4.243200e+02        5.600000e+01   \n",
       "\n",
       "       transaction_year_month         floor  transaction_real_price  \\\n",
       "count            1.222016e+06  1.222016e+06            1.216553e+06   \n",
       "mean             6.461461e+01  9.338479e+00            3.822769e+04   \n",
       "std              3.519266e+01  6.604638e+00            3.104898e+04   \n",
       "min              0.000000e+00 -4.000000e+00            1.000000e+02   \n",
       "25%              3.300000e+01  4.000000e+00            1.900000e+04   \n",
       "50%              7.200000e+01  8.000000e+00            3.090000e+04   \n",
       "75%              9.400000e+01  1.300000e+01            4.700000e+04   \n",
       "max              1.190000e+02  8.000000e+01            8.200000e+05   \n",
       "\n",
       "         apt_counts         top10  \n",
       "count  1.222016e+06  1.222016e+06  \n",
       "mean   1.165050e+03  1.236833e-01  \n",
       "std    1.930563e+03  3.292201e-01  \n",
       "min    1.000000e+00  0.000000e+00  \n",
       "25%    1.890000e+02  0.000000e+00  \n",
       "50%    5.530000e+02  0.000000e+00  \n",
       "75%    1.207000e+03  0.000000e+00  \n",
       "max    1.315400e+04  1.000000e+00  "
      ]
     },
     "execution_count": 31,
     "metadata": {},
     "output_type": "execute_result"
    }
   ],
   "source": [
    "all_df.describe()"
   ]
  },
  {
   "cell_type": "code",
   "execution_count": 32,
   "metadata": {},
   "outputs": [
    {
     "name": "stdout",
     "output_type": "stream",
     "text": [
      "변환전\n",
      " [ 2  6  6 15  3]\n",
      "변환후\n",
      " [ 6 10 10 19  7]\n"
     ]
    }
   ],
   "source": [
    "# 최소값이 -4이므로 4를 더해서 음수를 없애고 순서형범주처리\n",
    "print('변환전\\n', all_df['floor'].values[:5])\n",
    "all_df['floor'] = all_df['floor'].map(lambda x: x+4)\n",
    "print('변환후\\n', all_df['floor'].values[:5])"
   ]
  },
  {
   "cell_type": "code",
   "execution_count": 33,
   "metadata": {},
   "outputs": [
    {
     "data": {
      "text/html": [
       "<div>\n",
       "<style scoped>\n",
       "    .dataframe tbody tr th:only-of-type {\n",
       "        vertical-align: middle;\n",
       "    }\n",
       "\n",
       "    .dataframe tbody tr th {\n",
       "        vertical-align: top;\n",
       "    }\n",
       "\n",
       "    .dataframe thead th {\n",
       "        text-align: right;\n",
       "    }\n",
       "</style>\n",
       "<table border=\"1\" class=\"dataframe\">\n",
       "  <thead>\n",
       "    <tr style=\"text-align: right;\">\n",
       "      <th></th>\n",
       "      <th>transaction_id</th>\n",
       "      <th>apartment_id</th>\n",
       "      <th>exclusive_use_area</th>\n",
       "      <th>year_of_completion</th>\n",
       "      <th>transaction_year_month</th>\n",
       "      <th>floor</th>\n",
       "      <th>transaction_real_price</th>\n",
       "      <th>apt_counts</th>\n",
       "      <th>top10</th>\n",
       "    </tr>\n",
       "  </thead>\n",
       "  <tbody>\n",
       "    <tr>\n",
       "      <th>count</th>\n",
       "      <td>1.222016e+06</td>\n",
       "      <td>1.222016e+06</td>\n",
       "      <td>1.222016e+06</td>\n",
       "      <td>1.222016e+06</td>\n",
       "      <td>1.222016e+06</td>\n",
       "      <td>1.222016e+06</td>\n",
       "      <td>1.216553e+06</td>\n",
       "      <td>1.222016e+06</td>\n",
       "      <td>1.222016e+06</td>\n",
       "    </tr>\n",
       "    <tr>\n",
       "      <th>mean</th>\n",
       "      <td>6.116474e+05</td>\n",
       "      <td>6.299630e+03</td>\n",
       "      <td>7.817144e+01</td>\n",
       "      <td>3.730611e+01</td>\n",
       "      <td>6.461461e+01</td>\n",
       "      <td>1.333848e+01</td>\n",
       "      <td>3.822769e+04</td>\n",
       "      <td>1.165050e+03</td>\n",
       "      <td>1.236833e-01</td>\n",
       "    </tr>\n",
       "    <tr>\n",
       "      <th>std</th>\n",
       "      <td>3.538049e+05</td>\n",
       "      <td>3.581363e+03</td>\n",
       "      <td>2.916926e+01</td>\n",
       "      <td>8.947398e+00</td>\n",
       "      <td>3.519266e+01</td>\n",
       "      <td>6.604638e+00</td>\n",
       "      <td>3.104898e+04</td>\n",
       "      <td>1.930563e+03</td>\n",
       "      <td>3.292201e-01</td>\n",
       "    </tr>\n",
       "    <tr>\n",
       "      <th>min</th>\n",
       "      <td>0.000000e+00</td>\n",
       "      <td>0.000000e+00</td>\n",
       "      <td>9.260000e+00</td>\n",
       "      <td>0.000000e+00</td>\n",
       "      <td>0.000000e+00</td>\n",
       "      <td>0.000000e+00</td>\n",
       "      <td>1.000000e+02</td>\n",
       "      <td>1.000000e+00</td>\n",
       "      <td>0.000000e+00</td>\n",
       "    </tr>\n",
       "    <tr>\n",
       "      <th>25%</th>\n",
       "      <td>3.055038e+05</td>\n",
       "      <td>3.345000e+03</td>\n",
       "      <td>5.976000e+01</td>\n",
       "      <td>3.200000e+01</td>\n",
       "      <td>3.300000e+01</td>\n",
       "      <td>8.000000e+00</td>\n",
       "      <td>1.900000e+04</td>\n",
       "      <td>1.890000e+02</td>\n",
       "      <td>0.000000e+00</td>\n",
       "    </tr>\n",
       "    <tr>\n",
       "      <th>50%</th>\n",
       "      <td>6.110075e+05</td>\n",
       "      <td>5.964000e+03</td>\n",
       "      <td>8.240000e+01</td>\n",
       "      <td>3.800000e+01</td>\n",
       "      <td>7.200000e+01</td>\n",
       "      <td>1.200000e+01</td>\n",
       "      <td>3.090000e+04</td>\n",
       "      <td>5.530000e+02</td>\n",
       "      <td>0.000000e+00</td>\n",
       "    </tr>\n",
       "    <tr>\n",
       "      <th>75%</th>\n",
       "      <td>9.165112e+05</td>\n",
       "      <td>9.436000e+03</td>\n",
       "      <td>8.497000e+01</td>\n",
       "      <td>4.400000e+01</td>\n",
       "      <td>9.400000e+01</td>\n",
       "      <td>1.700000e+01</td>\n",
       "      <td>4.700000e+04</td>\n",
       "      <td>1.207000e+03</td>\n",
       "      <td>0.000000e+00</td>\n",
       "    </tr>\n",
       "    <tr>\n",
       "      <th>max</th>\n",
       "      <td>1.234930e+06</td>\n",
       "      <td>1.265800e+04</td>\n",
       "      <td>4.243200e+02</td>\n",
       "      <td>5.600000e+01</td>\n",
       "      <td>1.190000e+02</td>\n",
       "      <td>8.400000e+01</td>\n",
       "      <td>8.200000e+05</td>\n",
       "      <td>1.315400e+04</td>\n",
       "      <td>1.000000e+00</td>\n",
       "    </tr>\n",
       "  </tbody>\n",
       "</table>\n",
       "</div>"
      ],
      "text/plain": [
       "       transaction_id  apartment_id  exclusive_use_area  year_of_completion  \\\n",
       "count    1.222016e+06  1.222016e+06        1.222016e+06        1.222016e+06   \n",
       "mean     6.116474e+05  6.299630e+03        7.817144e+01        3.730611e+01   \n",
       "std      3.538049e+05  3.581363e+03        2.916926e+01        8.947398e+00   \n",
       "min      0.000000e+00  0.000000e+00        9.260000e+00        0.000000e+00   \n",
       "25%      3.055038e+05  3.345000e+03        5.976000e+01        3.200000e+01   \n",
       "50%      6.110075e+05  5.964000e+03        8.240000e+01        3.800000e+01   \n",
       "75%      9.165112e+05  9.436000e+03        8.497000e+01        4.400000e+01   \n",
       "max      1.234930e+06  1.265800e+04        4.243200e+02        5.600000e+01   \n",
       "\n",
       "       transaction_year_month         floor  transaction_real_price  \\\n",
       "count            1.222016e+06  1.222016e+06            1.216553e+06   \n",
       "mean             6.461461e+01  1.333848e+01            3.822769e+04   \n",
       "std              3.519266e+01  6.604638e+00            3.104898e+04   \n",
       "min              0.000000e+00  0.000000e+00            1.000000e+02   \n",
       "25%              3.300000e+01  8.000000e+00            1.900000e+04   \n",
       "50%              7.200000e+01  1.200000e+01            3.090000e+04   \n",
       "75%              9.400000e+01  1.700000e+01            4.700000e+04   \n",
       "max              1.190000e+02  8.400000e+01            8.200000e+05   \n",
       "\n",
       "         apt_counts         top10  \n",
       "count  1.222016e+06  1.222016e+06  \n",
       "mean   1.165050e+03  1.236833e-01  \n",
       "std    1.930563e+03  3.292201e-01  \n",
       "min    1.000000e+00  0.000000e+00  \n",
       "25%    1.890000e+02  0.000000e+00  \n",
       "50%    5.530000e+02  0.000000e+00  \n",
       "75%    1.207000e+03  0.000000e+00  \n",
       "max    1.315400e+04  1.000000e+00  "
      ]
     },
     "execution_count": 33,
     "metadata": {},
     "output_type": "execute_result"
    }
   ],
   "source": [
    "all_df.describe()"
   ]
  },
  {
   "cell_type": "code",
   "execution_count": 34,
   "metadata": {},
   "outputs": [
    {
     "data": {
      "image/png": "[encoded data removed]",
      "text/plain": [
       "<Figure size 432x288 with 1 Axes>"
      ]
     },
     "metadata": {
      "needs_background": "light"
     },
     "output_type": "display_data"
    }
   ],
   "source": [
    "# train price\n",
    "plt.figure()\n",
    "plt.hist(train_df['transaction_real_price'], bins=30)\n",
    "plt.xlabel('Price(10000 won)')\n",
    "plt.title('Distribution of Price')\n",
    "plt.show()"
   ]
  },
  {
   "cell_type": "code",
   "execution_count": 35,
   "metadata": {},
   "outputs": [
    {
     "data": {
      "text/html": [
       "<div>\n",
       "<style scoped>\n",
       "    .dataframe tbody tr th:only-of-type {\n",
       "        vertical-align: middle;\n",
       "    }\n",
       "\n",
       "    .dataframe tbody tr th {\n",
       "        vertical-align: top;\n",
       "    }\n",
       "\n",
       "    .dataframe thead th {\n",
       "        text-align: right;\n",
       "    }\n",
       "</style>\n",
       "<table border=\"1\" class=\"dataframe\">\n",
       "  <thead>\n",
       "    <tr style=\"text-align: right;\">\n",
       "      <th></th>\n",
       "      <th>transaction_id</th>\n",
       "      <th>apartment_id</th>\n",
       "      <th>city</th>\n",
       "      <th>dong</th>\n",
       "      <th>apt</th>\n",
       "      <th>exclusive_use_area</th>\n",
       "      <th>year_of_completion</th>\n",
       "      <th>transaction_year_month</th>\n",
       "      <th>floor</th>\n",
       "      <th>apt_counts</th>\n",
       "      <th>top10</th>\n",
       "      <th>transformed</th>\n",
       "      <th>log_price</th>\n",
       "    </tr>\n",
       "  </thead>\n",
       "  <tbody>\n",
       "    <tr>\n",
       "      <th>0</th>\n",
       "      <td>0</td>\n",
       "      <td>7622</td>\n",
       "      <td>서울특별시</td>\n",
       "      <td>138</td>\n",
       "      <td>22</td>\n",
       "      <td>84.82</td>\n",
       "      <td>41</td>\n",
       "      <td>0</td>\n",
       "      <td>6</td>\n",
       "      <td>5</td>\n",
       "      <td>0</td>\n",
       "      <td>False</td>\n",
       "      <td>10.532123</td>\n",
       "    </tr>\n",
       "  </tbody>\n",
       "</table>\n",
       "</div>"
      ],
      "text/plain": [
       "   transaction_id  apartment_id   city dong apt  exclusive_use_area  \\\n",
       "0               0          7622  서울특별시  138  22               84.82   \n",
       "\n",
       "   year_of_completion  transaction_year_month  floor  apt_counts  top10  \\\n",
       "0                  41                       0      6           5      0   \n",
       "\n",
       "   transformed  log_price  \n",
       "0        False  10.532123  "
      ]
     },
     "execution_count": 35,
     "metadata": {},
     "output_type": "execute_result"
    }
   ],
   "source": [
    "# 가격 로그 변환 후 원래 가격 따로 저장\n",
    "all_df['log_price'] = np.log1p(all_df['transaction_real_price'])\n",
    "real_price = all_df['transaction_real_price'] # 원래 가격\n",
    "#train_y = real_price[:train_df.shape[0]] # train 데이터의 가격\n",
    "#test_y = real_price[train_df.shape[0]:] # test 데이터의 가격\n",
    "all_df.drop('transaction_real_price', axis=1, inplace=True)\n",
    "all_df.head(1)"
   ]
  },
  {
   "cell_type": "code",
   "execution_count": 36,
   "metadata": {},
   "outputs": [
    {
     "data": {
      "image/png": "[encoded data removed]",
      "text/plain": [
       "<Figure size 864x432 with 2 Axes>"
      ]
     },
     "metadata": {
      "needs_background": "light"
     },
     "output_type": "display_data"
    }
   ],
   "source": [
    "f, (ax1, ax2) = plt.subplots(1,2,figsize=(12,6))\n",
    "\n",
    "ax1.hist(train_df['transaction_real_price'], bins=30)\n",
    "ax1.set_title('Price Distribution')\n",
    "ax1.set_xlabel('Price')\n",
    "\n",
    "ax2.hist(np.log1p(train_df['transaction_real_price']), bins=30)\n",
    "ax2.set_title('Log Price Distribution')\n",
    "ax2.set_xlabel('Log Price')\n",
    "\n",
    "plt.show()"
   ]
  },
  {
   "cell_type": "code",
   "execution_count": 37,
   "metadata": {},
   "outputs": [
    {
     "data": {
      "image/png": "[encoded data removed]",
      "text/plain": [
       "<Figure size 432x288 with 1 Axes>"
      ]
     },
     "metadata": {
      "needs_background": "light"
     },
     "output_type": "display_data"
    }
   ],
   "source": [
    "# train price\n",
    "plt.figure()\n",
    "plt.hist(all_df['log_price'], bins=30)\n",
    "plt.xlabel('log_price')\n",
    "plt.title('Distribution of Price')\n",
    "plt.show()"
   ]
  },
  {
   "cell_type": "code",
   "execution_count": 38,
   "metadata": {},
   "outputs": [
    {
     "data": {
      "image/png": "[encoded data removed]",
      "text/plain": [
       "<Figure size 432x288 with 1 Axes>"
      ]
     },
     "metadata": {
      "needs_background": "light"
     },
     "output_type": "display_data"
    }
   ],
   "source": [
    "# train area\n",
    "plt.figure()\n",
    "plt.hist(train_df['exclusive_use_area'], bins=30)\n",
    "plt.xlabel('Area(Square meter)')\n",
    "plt.title('Distribution of Area')\n",
    "plt.show()"
   ]
  },
  {
   "cell_type": "code",
   "execution_count": 39,
   "metadata": {},
   "outputs": [
    {
     "data": {
      "text/html": [
       "<div>\n",
       "<style scoped>\n",
       "    .dataframe tbody tr th:only-of-type {\n",
       "        vertical-align: middle;\n",
       "    }\n",
       "\n",
       "    .dataframe tbody tr th {\n",
       "        vertical-align: top;\n",
       "    }\n",
       "\n",
       "    .dataframe thead th {\n",
       "        text-align: right;\n",
       "    }\n",
       "</style>\n",
       "<table border=\"1\" class=\"dataframe\">\n",
       "  <thead>\n",
       "    <tr style=\"text-align: right;\">\n",
       "      <th></th>\n",
       "      <th>transaction_id</th>\n",
       "      <th>apartment_id</th>\n",
       "      <th>city</th>\n",
       "      <th>dong</th>\n",
       "      <th>apt</th>\n",
       "      <th>year_of_completion</th>\n",
       "      <th>transaction_year_month</th>\n",
       "      <th>floor</th>\n",
       "      <th>apt_counts</th>\n",
       "      <th>top10</th>\n",
       "      <th>transformed</th>\n",
       "      <th>log_price</th>\n",
       "      <th>log_area</th>\n",
       "    </tr>\n",
       "  </thead>\n",
       "  <tbody>\n",
       "    <tr>\n",
       "      <th>0</th>\n",
       "      <td>0</td>\n",
       "      <td>7622</td>\n",
       "      <td>서울특별시</td>\n",
       "      <td>138</td>\n",
       "      <td>22</td>\n",
       "      <td>41</td>\n",
       "      <td>0</td>\n",
       "      <td>6</td>\n",
       "      <td>5</td>\n",
       "      <td>0</td>\n",
       "      <td>False</td>\n",
       "      <td>10.532123</td>\n",
       "      <td>4.452252</td>\n",
       "    </tr>\n",
       "  </tbody>\n",
       "</table>\n",
       "</div>"
      ],
      "text/plain": [
       "   transaction_id  apartment_id   city dong apt  year_of_completion  \\\n",
       "0               0          7622  서울특별시  138  22                  41   \n",
       "\n",
       "   transaction_year_month  floor  apt_counts  top10  transformed  log_price  \\\n",
       "0                       0      6           5      0        False  10.532123   \n",
       "\n",
       "   log_area  \n",
       "0  4.452252  "
      ]
     },
     "execution_count": 39,
     "metadata": {},
     "output_type": "execute_result"
    }
   ],
   "source": [
    "# 면적 로그 변환 후 원래 면적 따로 저장\n",
    "all_df['log_area'] = np.log1p(all_df['exclusive_use_area'])\n",
    "area = all_df['exclusive_use_area'] # 원래 가격\n",
    "all_df.drop('exclusive_use_area', axis=1, inplace=True)\n",
    "all_df.head(1)"
   ]
  },
  {
   "cell_type": "code",
   "execution_count": 40,
   "metadata": {},
   "outputs": [
    {
     "data": {
      "image/png": "[encoded data removed]",
      "text/plain": [
       "<Figure size 432x288 with 1 Axes>"
      ]
     },
     "metadata": {
      "needs_background": "light"
     },
     "output_type": "display_data"
    }
   ],
   "source": [
    "plt.figure()\n",
    "plt.hist(all_df['log_area'], bins=30)\n",
    "plt.xlabel('log_area')\n",
    "plt.title('Distribution of Area')\n",
    "plt.show()"
   ]
  },
  {
   "cell_type": "code",
   "execution_count": 41,
   "metadata": {},
   "outputs": [
    {
     "data": {
      "image/png": "[encoded data removed]",
      "text/plain": [
       "<Figure size 864x432 with 2 Axes>"
      ]
     },
     "metadata": {
      "needs_background": "light"
     },
     "output_type": "display_data"
    }
   ],
   "source": [
    "f, (ax1, ax2) = plt.subplots(1,2,figsize=(12,6))\n",
    "\n",
    "ax1.hist(train_df['exclusive_use_area'], bins=30)\n",
    "ax1.set_title('Area Distribution')\n",
    "ax1.set_xlabel('Area')\n",
    "\n",
    "ax2.hist(np.log1p(train_df['exclusive_use_area']), bins=30)\n",
    "ax2.set_title('Log Area Distribution')\n",
    "ax2.set_xlabel('Log Area')\n",
    "\n",
    "plt.show()"
   ]
  },
  {
   "cell_type": "code",
   "execution_count": 42,
   "metadata": {},
   "outputs": [],
   "source": [
    "ohe_col = ['city']\n",
    "drop_col = ['transaction_id', 'apartment_id', 'city', 'apt_counts', 'transformed']\n",
    "\n",
    "ohe_columns = pd.get_dummies(all_df[ohe_col])"
   ]
  },
  {
   "cell_type": "code",
   "execution_count": 43,
   "metadata": {},
   "outputs": [
    {
     "data": {
      "text/html": [
       "<div>\n",
       "<style scoped>\n",
       "    .dataframe tbody tr th:only-of-type {\n",
       "        vertical-align: middle;\n",
       "    }\n",
       "\n",
       "    .dataframe tbody tr th {\n",
       "        vertical-align: top;\n",
       "    }\n",
       "\n",
       "    .dataframe thead th {\n",
       "        text-align: right;\n",
       "    }\n",
       "</style>\n",
       "<table border=\"1\" class=\"dataframe\">\n",
       "  <thead>\n",
       "    <tr style=\"text-align: right;\">\n",
       "      <th></th>\n",
       "      <th>transaction_id</th>\n",
       "      <th>apartment_id</th>\n",
       "      <th>city</th>\n",
       "      <th>dong</th>\n",
       "      <th>apt</th>\n",
       "      <th>year_of_completion</th>\n",
       "      <th>transaction_year_month</th>\n",
       "      <th>floor</th>\n",
       "      <th>apt_counts</th>\n",
       "      <th>top10</th>\n",
       "      <th>transformed</th>\n",
       "      <th>log_price</th>\n",
       "      <th>log_area</th>\n",
       "    </tr>\n",
       "  </thead>\n",
       "  <tbody>\n",
       "    <tr>\n",
       "      <th>0</th>\n",
       "      <td>0</td>\n",
       "      <td>7622</td>\n",
       "      <td>서울특별시</td>\n",
       "      <td>138</td>\n",
       "      <td>22</td>\n",
       "      <td>41</td>\n",
       "      <td>0</td>\n",
       "      <td>6</td>\n",
       "      <td>5</td>\n",
       "      <td>0</td>\n",
       "      <td>False</td>\n",
       "      <td>10.532123</td>\n",
       "      <td>4.452252</td>\n",
       "    </tr>\n",
       "  </tbody>\n",
       "</table>\n",
       "</div>"
      ],
      "text/plain": [
       "   transaction_id  apartment_id   city dong apt  year_of_completion  \\\n",
       "0               0          7622  서울특별시  138  22                  41   \n",
       "\n",
       "   transaction_year_month  floor  apt_counts  top10  transformed  log_price  \\\n",
       "0                       0      6           5      0        False  10.532123   \n",
       "\n",
       "   log_area  \n",
       "0  4.452252  "
      ]
     },
     "execution_count": 43,
     "metadata": {},
     "output_type": "execute_result"
    }
   ],
   "source": [
    "all_df.head(1)"
   ]
  },
  {
   "cell_type": "code",
   "execution_count": 44,
   "metadata": {},
   "outputs": [
    {
     "data": {
      "text/html": [
       "<div>\n",
       "<style scoped>\n",
       "    .dataframe tbody tr th:only-of-type {\n",
       "        vertical-align: middle;\n",
       "    }\n",
       "\n",
       "    .dataframe tbody tr th {\n",
       "        vertical-align: top;\n",
       "    }\n",
       "\n",
       "    .dataframe thead th {\n",
       "        text-align: right;\n",
       "    }\n",
       "</style>\n",
       "<table border=\"1\" class=\"dataframe\">\n",
       "  <thead>\n",
       "    <tr style=\"text-align: right;\">\n",
       "      <th></th>\n",
       "      <th>dong</th>\n",
       "      <th>apt</th>\n",
       "      <th>year_of_completion</th>\n",
       "      <th>transaction_year_month</th>\n",
       "      <th>floor</th>\n",
       "      <th>top10</th>\n",
       "      <th>log_price</th>\n",
       "      <th>log_area</th>\n",
       "      <th>city_부산광역시</th>\n",
       "      <th>city_서울특별시</th>\n",
       "    </tr>\n",
       "  </thead>\n",
       "  <tbody>\n",
       "    <tr>\n",
       "      <th>0</th>\n",
       "      <td>138</td>\n",
       "      <td>22</td>\n",
       "      <td>41</td>\n",
       "      <td>0</td>\n",
       "      <td>6</td>\n",
       "      <td>0</td>\n",
       "      <td>10.532123</td>\n",
       "      <td>4.452252</td>\n",
       "      <td>0</td>\n",
       "      <td>1</td>\n",
       "    </tr>\n",
       "    <tr>\n",
       "      <th>1</th>\n",
       "      <td>65</td>\n",
       "      <td>22</td>\n",
       "      <td>12</td>\n",
       "      <td>0</td>\n",
       "      <td>10</td>\n",
       "      <td>0</td>\n",
       "      <td>9.903538</td>\n",
       "      <td>4.606869</td>\n",
       "      <td>0</td>\n",
       "      <td>1</td>\n",
       "    </tr>\n",
       "    <tr>\n",
       "      <th>2</th>\n",
       "      <td>65</td>\n",
       "      <td>22</td>\n",
       "      <td>46</td>\n",
       "      <td>0</td>\n",
       "      <td>10</td>\n",
       "      <td>0</td>\n",
       "      <td>10.558439</td>\n",
       "      <td>4.451319</td>\n",
       "      <td>0</td>\n",
       "      <td>1</td>\n",
       "    </tr>\n",
       "    <tr>\n",
       "      <th>3</th>\n",
       "      <td>13</td>\n",
       "      <td>22</td>\n",
       "      <td>42</td>\n",
       "      <td>0</td>\n",
       "      <td>19</td>\n",
       "      <td>0</td>\n",
       "      <td>11.678448</td>\n",
       "      <td>4.993082</td>\n",
       "      <td>0</td>\n",
       "      <td>1</td>\n",
       "    </tr>\n",
       "    <tr>\n",
       "      <th>4</th>\n",
       "      <td>13</td>\n",
       "      <td>22</td>\n",
       "      <td>43</td>\n",
       "      <td>0</td>\n",
       "      <td>7</td>\n",
       "      <td>0</td>\n",
       "      <td>11.695255</td>\n",
       "      <td>5.275202</td>\n",
       "      <td>0</td>\n",
       "      <td>1</td>\n",
       "    </tr>\n",
       "  </tbody>\n",
       "</table>\n",
       "</div>"
      ],
      "text/plain": [
       "  dong apt  year_of_completion  transaction_year_month  floor  top10  \\\n",
       "0  138  22                  41                       0      6      0   \n",
       "1   65  22                  12                       0     10      0   \n",
       "2   65  22                  46                       0     10      0   \n",
       "3   13  22                  42                       0     19      0   \n",
       "4   13  22                  43                       0      7      0   \n",
       "\n",
       "   log_price  log_area  city_부산광역시  city_서울특별시  \n",
       "0  10.532123  4.452252           0           1  \n",
       "1   9.903538  4.606869           0           1  \n",
       "2  10.558439  4.451319           0           1  \n",
       "3  11.678448  4.993082           0           1  \n",
       "4  11.695255  5.275202           0           1  "
      ]
     },
     "execution_count": 44,
     "metadata": {},
     "output_type": "execute_result"
    }
   ],
   "source": [
    "all_df = pd.concat([all_df.drop(drop_col, axis=1), ohe_columns], axis=1)\n",
    "all_df.head()"
   ]
  },
  {
   "cell_type": "code",
   "execution_count": 45,
   "metadata": {},
   "outputs": [
    {
     "data": {
      "text/plain": [
       "(1222016, 10)"
      ]
     },
     "execution_count": 45,
     "metadata": {},
     "output_type": "execute_result"
    }
   ],
   "source": [
    "all_df.shape"
   ]
  },
  {
   "cell_type": "code",
   "execution_count": 46,
   "metadata": {},
   "outputs": [],
   "source": [
    "# all_df.to_csv('Desktop/python Ex/프로젝트 연습/apartment/all_df.csv', index=False)"
   ]
  },
  {
   "cell_type": "code",
   "execution_count": 47,
   "metadata": {},
   "outputs": [
    {
     "name": "stdout",
     "output_type": "stream",
     "text": [
      "Requirement already satisfied: xgboost in c:\\users\\jeong\\anaconda3\\lib\\site-packages (1.4.2)\n",
      "Requirement already satisfied: numpy in c:\\users\\jeong\\anaconda3\\lib\\site-packages (from xgboost) (1.19.5)\n",
      "Requirement already satisfied: scipy in c:\\users\\jeong\\anaconda3\\lib\\site-packages (from xgboost) (1.5.2)\n"
     ]
    }
   ],
   "source": [
    "import pandas as pd\n",
    "import numpy as np\n",
    "import matplotlib.pyplot as plt\n",
    "import warnings\n",
    "import seaborn as sns\n",
    "!pip install xgboost\n",
    "from tqdm import tqdm\n",
    "from sklearn.linear_model import LinearRegression, ElasticNet, Lasso,  Ridge \n",
    "from sklearn.tree import DecisionTreeRegressor\n",
    "from sklearn.ensemble import RandomForestRegressor\n",
    "from sklearn.preprocessing import  LabelEncoder\n",
    "from sklearn.model_selection import KFold, cross_val_score, train_test_split, TimeSeriesSplit\n",
    "from sklearn.metrics import mean_squared_error\n",
    "import xgboost as xgb"
   ]
  },
  {
   "cell_type": "code",
   "execution_count": 48,
   "metadata": {},
   "outputs": [
    {
     "name": "stdout",
     "output_type": "stream",
     "text": [
      "Requirement already satisfied: lightgbm in c:\\users\\jeong\\anaconda3\\lib\\site-packages (3.2.1)\n",
      "Requirement already satisfied: scipy in c:\\users\\jeong\\anaconda3\\lib\\site-packages (from lightgbm) (1.5.2)\n",
      "Requirement already satisfied: numpy in c:\\users\\jeong\\anaconda3\\lib\\site-packages (from lightgbm) (1.19.5)\n",
      "Requirement already satisfied: scikit-learn!=0.22.0 in c:\\users\\jeong\\anaconda3\\lib\\site-packages (from lightgbm) (0.23.2)\n",
      "Requirement already satisfied: wheel in c:\\users\\jeong\\anaconda3\\lib\\site-packages (from lightgbm) (0.35.1)\n",
      "Requirement already satisfied: joblib>=0.11 in c:\\users\\jeong\\anaconda3\\lib\\site-packages (from scikit-learn!=0.22.0->lightgbm) (0.17.0)\n",
      "Requirement already satisfied: threadpoolctl>=2.0.0 in c:\\users\\jeong\\anaconda3\\lib\\site-packages (from scikit-learn!=0.22.0->lightgbm) (2.1.0)\n"
     ]
    }
   ],
   "source": [
    "from sklearn.linear_model import LinearRegression, ElasticNet, Lasso,  Ridge\n",
    "from sklearn.tree import DecisionTreeRegressor\n",
    "from sklearn.ensemble import RandomForestRegressor\n",
    "from sklearn.preprocessing import  LabelEncoder\n",
    "from sklearn.model_selection import KFold, cross_val_score, train_test_split, TimeSeriesSplit\n",
    "from sklearn.metrics import mean_squared_error\n",
    "!pip install lightgbm\n",
    "import lightgbm as lgb"
   ]
  },
  {
   "cell_type": "code",
   "execution_count": 49,
   "metadata": {},
   "outputs": [
    {
     "name": "stdout",
     "output_type": "stream",
     "text": [
      "DejaVu Sans\n"
     ]
    }
   ],
   "source": [
    "import matplotlib as mpl\n",
    "import matplotlib.font_manager as fm\n",
    "font_name = fm.FontProperties(size=10).get_name()\n",
    "print(font_name)\n",
    "plt.rc('font', family=font_name)\n",
    "fm._rebuild()\n",
    "mpl.rcParams['axes.unicode_minus'] = False"
   ]
  },
  {
   "cell_type": "code",
   "execution_count": 72,
   "metadata": {},
   "outputs": [
    {
     "name": "stdout",
     "output_type": "stream",
     "text": [
      "Requirement already satisfied: optuna in c:\\users\\jeong\\anaconda3\\lib\\site-packages (2.9.1)\n",
      "Requirement already satisfied: numpy in c:\\users\\jeong\\anaconda3\\lib\\site-packages (from optuna) (1.19.5)\n",
      "Requirement already satisfied: cmaes>=0.8.2 in c:\\users\\jeong\\anaconda3\\lib\\site-packages (from optuna) (0.8.2)\n",
      "Requirement already satisfied: tqdm in c:\\users\\jeong\\anaconda3\\lib\\site-packages (from optuna) (4.50.2)\n",
      "Requirement already satisfied: PyYAML in c:\\users\\jeong\\anaconda3\\lib\\site-packages (from optuna) (5.3.1)\n",
      "Requirement already satisfied: sqlalchemy>=1.1.0 in c:\\users\\jeong\\anaconda3\\lib\\site-packages (from optuna) (1.3.20)\n",
      "Requirement already satisfied: alembic in c:\\users\\jeong\\anaconda3\\lib\\site-packages (from optuna) (1.6.5)\n",
      "Requirement already satisfied: cliff in c:\\users\\jeong\\anaconda3\\lib\\site-packages (from optuna) (3.8.0)\n",
      "Requirement already satisfied: scipy!=1.4.0 in c:\\users\\jeong\\anaconda3\\lib\\site-packages (from optuna) (1.5.2)\n",
      "Requirement already satisfied: colorlog in c:\\users\\jeong\\anaconda3\\lib\\site-packages (from optuna) (6.4.1)\n",
      "Requirement already satisfied: packaging>=20.0 in c:\\users\\jeong\\anaconda3\\lib\\site-packages (from optuna) (20.4)\n",
      "Requirement already satisfied: python-dateutil in c:\\users\\jeong\\anaconda3\\lib\\site-packages (from alembic->optuna) (2.8.1)\n",
      "Requirement already satisfied: python-editor>=0.3 in c:\\users\\jeong\\anaconda3\\lib\\site-packages (from alembic->optuna) (1.0.4)\n",
      "Requirement already satisfied: Mako in c:\\users\\jeong\\anaconda3\\lib\\site-packages (from alembic->optuna) (1.1.5)\n",
      "Requirement already satisfied: stevedore>=2.0.1 in c:\\users\\jeong\\anaconda3\\lib\\site-packages (from cliff->optuna) (3.4.0)\n",
      "Requirement already satisfied: pbr!=2.1.0,>=2.0.0 in c:\\users\\jeong\\anaconda3\\lib\\site-packages (from cliff->optuna) (5.6.0)\n",
      "Requirement already satisfied: pyparsing>=2.1.0 in c:\\users\\jeong\\anaconda3\\lib\\site-packages (from cliff->optuna) (2.4.7)\n",
      "Requirement already satisfied: cmd2>=1.0.0 in c:\\users\\jeong\\anaconda3\\lib\\site-packages (from cliff->optuna) (2.1.2)\n",
      "Requirement already satisfied: PrettyTable>=0.7.2 in c:\\users\\jeong\\anaconda3\\lib\\site-packages (from cliff->optuna) (2.1.0)\n",
      "Requirement already satisfied: colorama; sys_platform == \"win32\" in c:\\users\\jeong\\anaconda3\\lib\\site-packages (from colorlog->optuna) (0.4.4)\n",
      "Requirement already satisfied: six in c:\\users\\jeong\\anaconda3\\lib\\site-packages (from packaging>=20.0->optuna) (1.15.0)\n",
      "Requirement already satisfied: MarkupSafe>=0.9.2 in c:\\users\\jeong\\anaconda3\\lib\\site-packages (from Mako->alembic->optuna) (1.1.1)\n",
      "Requirement already satisfied: attrs>=16.3.0 in c:\\users\\jeong\\anaconda3\\lib\\site-packages (from cmd2>=1.0.0->cliff->optuna) (20.3.0)\n",
      "Requirement already satisfied: pyperclip>=1.6 in c:\\users\\jeong\\anaconda3\\lib\\site-packages (from cmd2>=1.0.0->cliff->optuna) (1.8.2)\n",
      "Requirement already satisfied: wcwidth>=0.1.7 in c:\\users\\jeong\\anaconda3\\lib\\site-packages (from cmd2>=1.0.0->cliff->optuna) (0.2.5)\n",
      "Requirement already satisfied: pyreadline3; sys_platform == \"win32\" and python_version >= \"3.8\" in c:\\users\\jeong\\anaconda3\\lib\\site-packages (from cmd2>=1.0.0->cliff->optuna) (3.3)\n"
     ]
    }
   ],
   "source": [
    "!pip install optuna\n",
    "import optuna\n",
    "from optuna.integration import XGBoostPruningCallback\n",
    "# from sklearn.externals import joblib\n",
    "import pickle\n",
    "\n",
    "import matplotlib as mpl  # 기본 설정 만지는 용도\n",
    "import matplotlib.pyplot as plt  # 그래프 그리는 용도\n",
    "import matplotlib.font_manager as fm"
   ]
  },
  {
   "cell_type": "code",
   "execution_count": 50,
   "metadata": {},
   "outputs": [],
   "source": [
    "PATH = 'Desktop/python Ex/프로젝트 연습/apartment/'\n",
    "train_df = pd.read_csv(PATH + 'train_df_regex.csv')\n",
    "all_df = pd.read_csv(PATH + 'all_df.csv')\n",
    "all_df = all_df.drop('apt', axis=1)"
   ]
  },
  {
   "cell_type": "code",
   "execution_count": 51,
   "metadata": {},
   "outputs": [
    {
     "data": {
      "text/html": [
       "<div>\n",
       "<style scoped>\n",
       "    .dataframe tbody tr th:only-of-type {\n",
       "        vertical-align: middle;\n",
       "    }\n",
       "\n",
       "    .dataframe tbody tr th {\n",
       "        vertical-align: top;\n",
       "    }\n",
       "\n",
       "    .dataframe thead th {\n",
       "        text-align: right;\n",
       "    }\n",
       "</style>\n",
       "<table border=\"1\" class=\"dataframe\">\n",
       "  <thead>\n",
       "    <tr style=\"text-align: right;\">\n",
       "      <th></th>\n",
       "      <th>dong</th>\n",
       "      <th>year_of_completion</th>\n",
       "      <th>transaction_year_month</th>\n",
       "      <th>floor</th>\n",
       "      <th>top10</th>\n",
       "      <th>log_price</th>\n",
       "      <th>log_area</th>\n",
       "      <th>city_부산광역시</th>\n",
       "      <th>city_서울특별시</th>\n",
       "    </tr>\n",
       "  </thead>\n",
       "  <tbody>\n",
       "    <tr>\n",
       "      <th>0</th>\n",
       "      <td>138</td>\n",
       "      <td>41</td>\n",
       "      <td>0</td>\n",
       "      <td>6</td>\n",
       "      <td>0</td>\n",
       "      <td>10.532123</td>\n",
       "      <td>4.452252</td>\n",
       "      <td>0</td>\n",
       "      <td>1</td>\n",
       "    </tr>\n",
       "    <tr>\n",
       "      <th>1</th>\n",
       "      <td>65</td>\n",
       "      <td>12</td>\n",
       "      <td>0</td>\n",
       "      <td>10</td>\n",
       "      <td>0</td>\n",
       "      <td>9.903538</td>\n",
       "      <td>4.606869</td>\n",
       "      <td>0</td>\n",
       "      <td>1</td>\n",
       "    </tr>\n",
       "    <tr>\n",
       "      <th>2</th>\n",
       "      <td>65</td>\n",
       "      <td>46</td>\n",
       "      <td>0</td>\n",
       "      <td>10</td>\n",
       "      <td>0</td>\n",
       "      <td>10.558439</td>\n",
       "      <td>4.451319</td>\n",
       "      <td>0</td>\n",
       "      <td>1</td>\n",
       "    </tr>\n",
       "  </tbody>\n",
       "</table>\n",
       "</div>"
      ],
      "text/plain": [
       "   dong  year_of_completion  transaction_year_month  floor  top10  log_price  \\\n",
       "0   138                  41                       0      6      0  10.532123   \n",
       "1    65                  12                       0     10      0   9.903538   \n",
       "2    65                  46                       0     10      0  10.558439   \n",
       "\n",
       "   log_area  city_부산광역시  city_서울특별시  \n",
       "0  4.452252           0           1  \n",
       "1  4.606869           0           1  \n",
       "2  4.451319           0           1  "
      ]
     },
     "execution_count": 51,
     "metadata": {},
     "output_type": "execute_result"
    }
   ],
   "source": [
    "all_df.head(3)"
   ]
  },
  {
   "cell_type": "code",
   "execution_count": 52,
   "metadata": {},
   "outputs": [
    {
     "name": "stdout",
     "output_type": "stream",
     "text": [
      "<class 'pandas.core.frame.DataFrame'>\n",
      "RangeIndex: 1222016 entries, 0 to 1222015\n",
      "Data columns (total 9 columns):\n",
      " #   Column                  Non-Null Count    Dtype  \n",
      "---  ------                  --------------    -----  \n",
      " 0   dong                    1222016 non-null  int64  \n",
      " 1   year_of_completion      1222016 non-null  int64  \n",
      " 2   transaction_year_month  1222016 non-null  int64  \n",
      " 3   floor                   1222016 non-null  int64  \n",
      " 4   top10                   1222016 non-null  int64  \n",
      " 5   log_price               1216553 non-null  float64\n",
      " 6   log_area                1222016 non-null  float64\n",
      " 7   city_부산광역시              1222016 non-null  int64  \n",
      " 8   city_서울특별시              1222016 non-null  int64  \n",
      "dtypes: float64(2), int64(7)\n",
      "memory usage: 83.9 MB\n"
     ]
    }
   ],
   "source": [
    "all_df.info()"
   ]
  },
  {
   "cell_type": "code",
   "execution_count": 53,
   "metadata": {},
   "outputs": [
    {
     "data": {
      "text/html": [
       "<div>\n",
       "<style scoped>\n",
       "    .dataframe tbody tr th:only-of-type {\n",
       "        vertical-align: middle;\n",
       "    }\n",
       "\n",
       "    .dataframe tbody tr th {\n",
       "        vertical-align: top;\n",
       "    }\n",
       "\n",
       "    .dataframe thead th {\n",
       "        text-align: right;\n",
       "    }\n",
       "</style>\n",
       "<table border=\"1\" class=\"dataframe\">\n",
       "  <thead>\n",
       "    <tr style=\"text-align: right;\">\n",
       "      <th></th>\n",
       "      <th>dong</th>\n",
       "      <th>year_of_completion</th>\n",
       "      <th>transaction_year_month</th>\n",
       "      <th>floor</th>\n",
       "      <th>top10</th>\n",
       "      <th>log_price</th>\n",
       "      <th>log_area</th>\n",
       "      <th>city_부산광역시</th>\n",
       "      <th>city_서울특별시</th>\n",
       "    </tr>\n",
       "  </thead>\n",
       "  <tbody>\n",
       "    <tr>\n",
       "      <th>count</th>\n",
       "      <td>1.222016e+06</td>\n",
       "      <td>1.222016e+06</td>\n",
       "      <td>1.222016e+06</td>\n",
       "      <td>1.222016e+06</td>\n",
       "      <td>1.222016e+06</td>\n",
       "      <td>1.216553e+06</td>\n",
       "      <td>1.222016e+06</td>\n",
       "      <td>1.222016e+06</td>\n",
       "      <td>1.222016e+06</td>\n",
       "    </tr>\n",
       "    <tr>\n",
       "      <th>mean</th>\n",
       "      <td>2.407773e+02</td>\n",
       "      <td>3.730611e+01</td>\n",
       "      <td>6.461461e+01</td>\n",
       "      <td>1.333848e+01</td>\n",
       "      <td>1.236833e-01</td>\n",
       "      <td>1.030509e+01</td>\n",
       "      <td>4.306129e+00</td>\n",
       "      <td>3.893730e-01</td>\n",
       "      <td>6.106270e-01</td>\n",
       "    </tr>\n",
       "    <tr>\n",
       "      <th>std</th>\n",
       "      <td>1.267679e+02</td>\n",
       "      <td>8.947398e+00</td>\n",
       "      <td>3.519266e+01</td>\n",
       "      <td>6.604638e+00</td>\n",
       "      <td>3.292201e-01</td>\n",
       "      <td>7.054740e-01</td>\n",
       "      <td>3.688630e-01</td>\n",
       "      <td>4.876083e-01</td>\n",
       "      <td>4.876083e-01</td>\n",
       "    </tr>\n",
       "    <tr>\n",
       "      <th>min</th>\n",
       "      <td>0.000000e+00</td>\n",
       "      <td>0.000000e+00</td>\n",
       "      <td>0.000000e+00</td>\n",
       "      <td>0.000000e+00</td>\n",
       "      <td>0.000000e+00</td>\n",
       "      <td>4.615121e+00</td>\n",
       "      <td>2.328253e+00</td>\n",
       "      <td>0.000000e+00</td>\n",
       "      <td>0.000000e+00</td>\n",
       "    </tr>\n",
       "    <tr>\n",
       "      <th>25%</th>\n",
       "      <td>1.300000e+02</td>\n",
       "      <td>3.200000e+01</td>\n",
       "      <td>3.300000e+01</td>\n",
       "      <td>8.000000e+00</td>\n",
       "      <td>0.000000e+00</td>\n",
       "      <td>9.852247e+00</td>\n",
       "      <td>4.106932e+00</td>\n",
       "      <td>0.000000e+00</td>\n",
       "      <td>0.000000e+00</td>\n",
       "    </tr>\n",
       "    <tr>\n",
       "      <th>50%</th>\n",
       "      <td>2.580000e+02</td>\n",
       "      <td>3.800000e+01</td>\n",
       "      <td>7.200000e+01</td>\n",
       "      <td>1.200000e+01</td>\n",
       "      <td>0.000000e+00</td>\n",
       "      <td>1.033854e+01</td>\n",
       "      <td>4.423648e+00</td>\n",
       "      <td>0.000000e+00</td>\n",
       "      <td>1.000000e+00</td>\n",
       "    </tr>\n",
       "    <tr>\n",
       "      <th>75%</th>\n",
       "      <td>3.380000e+02</td>\n",
       "      <td>4.400000e+01</td>\n",
       "      <td>9.400000e+01</td>\n",
       "      <td>1.700000e+01</td>\n",
       "      <td>0.000000e+00</td>\n",
       "      <td>1.075792e+01</td>\n",
       "      <td>4.453998e+00</td>\n",
       "      <td>1.000000e+00</td>\n",
       "      <td>1.000000e+00</td>\n",
       "    </tr>\n",
       "    <tr>\n",
       "      <th>max</th>\n",
       "      <td>4.760000e+02</td>\n",
       "      <td>5.600000e+01</td>\n",
       "      <td>1.190000e+02</td>\n",
       "      <td>8.400000e+01</td>\n",
       "      <td>1.000000e+00</td>\n",
       "      <td>1.361706e+01</td>\n",
       "      <td>6.052842e+00</td>\n",
       "      <td>1.000000e+00</td>\n",
       "      <td>1.000000e+00</td>\n",
       "    </tr>\n",
       "  </tbody>\n",
       "</table>\n",
       "</div>"
      ],
      "text/plain": [
       "               dong  year_of_completion  transaction_year_month         floor  \\\n",
       "count  1.222016e+06        1.222016e+06            1.222016e+06  1.222016e+06   \n",
       "mean   2.407773e+02        3.730611e+01            6.461461e+01  1.333848e+01   \n",
       "std    1.267679e+02        8.947398e+00            3.519266e+01  6.604638e+00   \n",
       "min    0.000000e+00        0.000000e+00            0.000000e+00  0.000000e+00   \n",
       "25%    1.300000e+02        3.200000e+01            3.300000e+01  8.000000e+00   \n",
       "50%    2.580000e+02        3.800000e+01            7.200000e+01  1.200000e+01   \n",
       "75%    3.380000e+02        4.400000e+01            9.400000e+01  1.700000e+01   \n",
       "max    4.760000e+02        5.600000e+01            1.190000e+02  8.400000e+01   \n",
       "\n",
       "              top10     log_price      log_area    city_부산광역시    city_서울특별시  \n",
       "count  1.222016e+06  1.216553e+06  1.222016e+06  1.222016e+06  1.222016e+06  \n",
       "mean   1.236833e-01  1.030509e+01  4.306129e+00  3.893730e-01  6.106270e-01  \n",
       "std    3.292201e-01  7.054740e-01  3.688630e-01  4.876083e-01  4.876083e-01  \n",
       "min    0.000000e+00  4.615121e+00  2.328253e+00  0.000000e+00  0.000000e+00  \n",
       "25%    0.000000e+00  9.852247e+00  4.106932e+00  0.000000e+00  0.000000e+00  \n",
       "50%    0.000000e+00  1.033854e+01  4.423648e+00  0.000000e+00  1.000000e+00  \n",
       "75%    0.000000e+00  1.075792e+01  4.453998e+00  1.000000e+00  1.000000e+00  \n",
       "max    1.000000e+00  1.361706e+01  6.052842e+00  1.000000e+00  1.000000e+00  "
      ]
     },
     "execution_count": 53,
     "metadata": {},
     "output_type": "execute_result"
    }
   ],
   "source": [
    "all_df.describe()"
   ]
  },
  {
   "cell_type": "code",
   "execution_count": 54,
   "metadata": {},
   "outputs": [
    {
     "name": "stdout",
     "output_type": "stream",
     "text": [
      "(1216553, 9) (5463, 8) (1216553, 8) (1216553,)\n"
     ]
    }
   ],
   "source": [
    "train_df = all_df[:train_df.shape[0]]\n",
    "train_y = train_df['log_price']\n",
    "train_X = train_df.drop('log_price', axis=1)\n",
    "test_df = all_df[train_df.shape[0]:].drop('log_price', axis=1)\n",
    "print(train_df.shape, test_df.shape, train_X.shape, train_y.shape)"
   ]
  },
  {
   "cell_type": "code",
   "execution_count": 55,
   "metadata": {},
   "outputs": [
    {
     "data": {
      "text/html": [
       "<div>\n",
       "<style scoped>\n",
       "    .dataframe tbody tr th:only-of-type {\n",
       "        vertical-align: middle;\n",
       "    }\n",
       "\n",
       "    .dataframe tbody tr th {\n",
       "        vertical-align: top;\n",
       "    }\n",
       "\n",
       "    .dataframe thead th {\n",
       "        text-align: right;\n",
       "    }\n",
       "</style>\n",
       "<table border=\"1\" class=\"dataframe\">\n",
       "  <thead>\n",
       "    <tr style=\"text-align: right;\">\n",
       "      <th></th>\n",
       "      <th>dong</th>\n",
       "      <th>year_of_completion</th>\n",
       "      <th>transaction_year_month</th>\n",
       "      <th>floor</th>\n",
       "      <th>top10</th>\n",
       "      <th>log_area</th>\n",
       "      <th>city_부산광역시</th>\n",
       "      <th>city_서울특별시</th>\n",
       "    </tr>\n",
       "  </thead>\n",
       "  <tbody>\n",
       "    <tr>\n",
       "      <th>0</th>\n",
       "      <td>138</td>\n",
       "      <td>41</td>\n",
       "      <td>0</td>\n",
       "      <td>6</td>\n",
       "      <td>0</td>\n",
       "      <td>4.452252</td>\n",
       "      <td>0</td>\n",
       "      <td>1</td>\n",
       "    </tr>\n",
       "  </tbody>\n",
       "</table>\n",
       "</div>"
      ],
      "text/plain": [
       "   dong  year_of_completion  transaction_year_month  floor  top10  log_area  \\\n",
       "0   138                  41                       0      6      0  4.452252   \n",
       "\n",
       "   city_부산광역시  city_서울특별시  \n",
       "0           0           1  "
      ]
     },
     "execution_count": 55,
     "metadata": {},
     "output_type": "execute_result"
    }
   ],
   "source": [
    "train_X.head(1)"
   ]
  },
  {
   "cell_type": "code",
   "execution_count": 56,
   "metadata": {},
   "outputs": [
    {
     "data": {
      "text/plain": [
       "0    10.532123\n",
       "Name: log_price, dtype: float64"
      ]
     },
     "execution_count": 56,
     "metadata": {},
     "output_type": "execute_result"
    }
   ],
   "source": [
    "train_y.head(1)"
   ]
  },
  {
   "cell_type": "code",
   "execution_count": 57,
   "metadata": {},
   "outputs": [
    {
     "data": {
      "text/html": [
       "<div>\n",
       "<style scoped>\n",
       "    .dataframe tbody tr th:only-of-type {\n",
       "        vertical-align: middle;\n",
       "    }\n",
       "\n",
       "    .dataframe tbody tr th {\n",
       "        vertical-align: top;\n",
       "    }\n",
       "\n",
       "    .dataframe thead th {\n",
       "        text-align: right;\n",
       "    }\n",
       "</style>\n",
       "<table border=\"1\" class=\"dataframe\">\n",
       "  <thead>\n",
       "    <tr style=\"text-align: right;\">\n",
       "      <th></th>\n",
       "      <th>dong</th>\n",
       "      <th>year_of_completion</th>\n",
       "      <th>transaction_year_month</th>\n",
       "      <th>floor</th>\n",
       "      <th>top10</th>\n",
       "      <th>log_price</th>\n",
       "      <th>log_area</th>\n",
       "      <th>city_부산광역시</th>\n",
       "      <th>city_서울특별시</th>\n",
       "    </tr>\n",
       "  </thead>\n",
       "  <tbody>\n",
       "    <tr>\n",
       "      <th>0</th>\n",
       "      <td>138</td>\n",
       "      <td>41</td>\n",
       "      <td>0</td>\n",
       "      <td>6</td>\n",
       "      <td>0</td>\n",
       "      <td>10.532123</td>\n",
       "      <td>4.452252</td>\n",
       "      <td>0</td>\n",
       "      <td>1</td>\n",
       "    </tr>\n",
       "  </tbody>\n",
       "</table>\n",
       "</div>"
      ],
      "text/plain": [
       "   dong  year_of_completion  transaction_year_month  floor  top10  log_price  \\\n",
       "0   138                  41                       0      6      0  10.532123   \n",
       "\n",
       "   log_area  city_부산광역시  city_서울특별시  \n",
       "0  4.452252           0           1  "
      ]
     },
     "execution_count": 57,
     "metadata": {},
     "output_type": "execute_result"
    }
   ],
   "source": [
    "train_df.head(1)"
   ]
  },
  {
   "cell_type": "code",
   "execution_count": 58,
   "metadata": {},
   "outputs": [
    {
     "data": {
      "text/html": [
       "<div>\n",
       "<style scoped>\n",
       "    .dataframe tbody tr th:only-of-type {\n",
       "        vertical-align: middle;\n",
       "    }\n",
       "\n",
       "    .dataframe tbody tr th {\n",
       "        vertical-align: top;\n",
       "    }\n",
       "\n",
       "    .dataframe thead th {\n",
       "        text-align: right;\n",
       "    }\n",
       "</style>\n",
       "<table border=\"1\" class=\"dataframe\">\n",
       "  <thead>\n",
       "    <tr style=\"text-align: right;\">\n",
       "      <th></th>\n",
       "      <th>dong</th>\n",
       "      <th>year_of_completion</th>\n",
       "      <th>transaction_year_month</th>\n",
       "      <th>floor</th>\n",
       "      <th>top10</th>\n",
       "      <th>log_area</th>\n",
       "      <th>city_부산광역시</th>\n",
       "      <th>city_서울특별시</th>\n",
       "    </tr>\n",
       "  </thead>\n",
       "  <tbody>\n",
       "    <tr>\n",
       "      <th>1216553</th>\n",
       "      <td>51</td>\n",
       "      <td>41</td>\n",
       "      <td>118</td>\n",
       "      <td>6</td>\n",
       "      <td>0</td>\n",
       "      <td>3.598681</td>\n",
       "      <td>0</td>\n",
       "      <td>1</td>\n",
       "    </tr>\n",
       "  </tbody>\n",
       "</table>\n",
       "</div>"
      ],
      "text/plain": [
       "         dong  year_of_completion  transaction_year_month  floor  top10  \\\n",
       "1216553    51                  41                     118      6      0   \n",
       "\n",
       "         log_area  city_부산광역시  city_서울특별시  \n",
       "1216553  3.598681           0           1  "
      ]
     },
     "execution_count": 58,
     "metadata": {},
     "output_type": "execute_result"
    }
   ],
   "source": [
    "test_df.head(1)"
   ]
  },
  {
   "cell_type": "code",
   "execution_count": 59,
   "metadata": {},
   "outputs": [
    {
     "data": {
      "text/plain": [
       "0.848786311872933"
      ]
     },
     "execution_count": 59,
     "metadata": {},
     "output_type": "execute_result"
    }
   ],
   "source": [
    "reg = LinearRegression().fit(train_X, train_y)\n",
    "reg.score(train_X, train_y) #R^2"
   ]
  },
  {
   "cell_type": "code",
   "execution_count": 60,
   "metadata": {},
   "outputs": [
    {
     "name": "stderr",
     "output_type": "stream",
     "text": [
      "C:\\Users\\jeong\\anaconda3\\lib\\site-packages\\matplotlib\\backends\\backend_agg.py:238: RuntimeWarning: Glyph 48512 missing from current font.\n",
      "  font.set_text(s, 0.0, flags=flags)\n",
      "C:\\Users\\jeong\\anaconda3\\lib\\site-packages\\matplotlib\\backends\\backend_agg.py:238: RuntimeWarning: Glyph 49328 missing from current font.\n",
      "  font.set_text(s, 0.0, flags=flags)\n",
      "C:\\Users\\jeong\\anaconda3\\lib\\site-packages\\matplotlib\\backends\\backend_agg.py:238: RuntimeWarning: Glyph 44305 missing from current font.\n",
      "  font.set_text(s, 0.0, flags=flags)\n",
      "C:\\Users\\jeong\\anaconda3\\lib\\site-packages\\matplotlib\\backends\\backend_agg.py:238: RuntimeWarning: Glyph 50669 missing from current font.\n",
      "  font.set_text(s, 0.0, flags=flags)\n",
      "C:\\Users\\jeong\\anaconda3\\lib\\site-packages\\matplotlib\\backends\\backend_agg.py:238: RuntimeWarning: Glyph 49884 missing from current font.\n",
      "  font.set_text(s, 0.0, flags=flags)\n",
      "C:\\Users\\jeong\\anaconda3\\lib\\site-packages\\matplotlib\\backends\\backend_agg.py:238: RuntimeWarning: Glyph 49436 missing from current font.\n",
      "  font.set_text(s, 0.0, flags=flags)\n",
      "C:\\Users\\jeong\\anaconda3\\lib\\site-packages\\matplotlib\\backends\\backend_agg.py:238: RuntimeWarning: Glyph 50872 missing from current font.\n",
      "  font.set_text(s, 0.0, flags=flags)\n",
      "C:\\Users\\jeong\\anaconda3\\lib\\site-packages\\matplotlib\\backends\\backend_agg.py:238: RuntimeWarning: Glyph 53945 missing from current font.\n",
      "  font.set_text(s, 0.0, flags=flags)\n",
      "C:\\Users\\jeong\\anaconda3\\lib\\site-packages\\matplotlib\\backends\\backend_agg.py:238: RuntimeWarning: Glyph 48324 missing from current font.\n",
      "  font.set_text(s, 0.0, flags=flags)\n",
      "C:\\Users\\jeong\\anaconda3\\lib\\site-packages\\matplotlib\\backends\\backend_agg.py:201: RuntimeWarning: Glyph 48512 missing from current font.\n",
      "  font.set_text(s, 0, flags=flags)\n",
      "C:\\Users\\jeong\\anaconda3\\lib\\site-packages\\matplotlib\\backends\\backend_agg.py:201: RuntimeWarning: Glyph 49328 missing from current font.\n",
      "  font.set_text(s, 0, flags=flags)\n",
      "C:\\Users\\jeong\\anaconda3\\lib\\site-packages\\matplotlib\\backends\\backend_agg.py:201: RuntimeWarning: Glyph 44305 missing from current font.\n",
      "  font.set_text(s, 0, flags=flags)\n",
      "C:\\Users\\jeong\\anaconda3\\lib\\site-packages\\matplotlib\\backends\\backend_agg.py:201: RuntimeWarning: Glyph 50669 missing from current font.\n",
      "  font.set_text(s, 0, flags=flags)\n",
      "C:\\Users\\jeong\\anaconda3\\lib\\site-packages\\matplotlib\\backends\\backend_agg.py:201: RuntimeWarning: Glyph 49884 missing from current font.\n",
      "  font.set_text(s, 0, flags=flags)\n",
      "C:\\Users\\jeong\\anaconda3\\lib\\site-packages\\matplotlib\\backends\\backend_agg.py:201: RuntimeWarning: Glyph 49436 missing from current font.\n",
      "  font.set_text(s, 0, flags=flags)\n",
      "C:\\Users\\jeong\\anaconda3\\lib\\site-packages\\matplotlib\\backends\\backend_agg.py:201: RuntimeWarning: Glyph 50872 missing from current font.\n",
      "  font.set_text(s, 0, flags=flags)\n",
      "C:\\Users\\jeong\\anaconda3\\lib\\site-packages\\matplotlib\\backends\\backend_agg.py:201: RuntimeWarning: Glyph 53945 missing from current font.\n",
      "  font.set_text(s, 0, flags=flags)\n",
      "C:\\Users\\jeong\\anaconda3\\lib\\site-packages\\matplotlib\\backends\\backend_agg.py:201: RuntimeWarning: Glyph 48324 missing from current font.\n",
      "  font.set_text(s, 0, flags=flags)\n"
     ]
    },
    {
     "data": {
      "image/png": "[encoded data removed]",
      "text/plain": [
       "<Figure size 432x288 with 2 Axes>"
      ]
     },
     "metadata": {
      "needs_background": "light"
     },
     "output_type": "display_data"
    }
   ],
   "source": [
    "sns.heatmap(train_df.corr(), annot=True, fmt='.2f', annot_kws={\"fontsize\":11})\n",
    "plt.show()"
   ]
  },
  {
   "cell_type": "code",
   "execution_count": 61,
   "metadata": {},
   "outputs": [],
   "source": [
    "def RMSE(y, y_pred):\n",
    "    rmse = mean_squared_error(y, y_pred) ** 0.5\n",
    "    return rmse\n",
    "\n",
    "def rmse_cv(model):\n",
    "    tscv = TimeSeriesSplit(n_splits=10)\n",
    "    rmse_list = []\n",
    "    for i, (train_index, test_index) in enumerate(tscv.split(train_X), start=1):\n",
    "        X_train, X_test = train_X.iloc[train_index], train_X.iloc[test_index]\n",
    "        y_train, y_test = train_y.iloc[train_index], train_y.iloc[test_index]\n",
    "        clf = model.fit(X_train, y_train)\n",
    "        pred = clf.predict(X_test)\n",
    "        rmse = RMSE(y_test, pred) \n",
    "        rmse_list.append(rmse)\n",
    "    return type(model).__name__, rmse_list\n",
    "\n",
    "def print_rmse_score(model):\n",
    "    model_name, score = rmse_cv(model)\n",
    "    for i, r in tqdm(enumerate(score, start=1), leave=True):\n",
    "        if i == 1:\n",
    "            print('\\n')\n",
    "            print(f'{i} FOLDS: {model_name} RMSLE: {r:.4f}')\n",
    "        else:\n",
    "            print(f'{i} FOLDS: {model_name} RMSLE: {r:.4f}')\n",
    "    print(f'\\n{model_name} mean RMSLE: {np.mean(score):.4f}')\n",
    "    print('='*40)"
   ]
  },
  {
   "cell_type": "code",
   "execution_count": 62,
   "metadata": {},
   "outputs": [],
   "source": [
    "ridge = Ridge(alpha=0.8, random_state=1)\n",
    "lasso = Lasso(alpha = 0.01, random_state=1)\n",
    "Enet = ElasticNet(alpha=0.03, l1_ratio=0.01, random_state=1)\n",
    "\n",
    "\n",
    "DTree = DecisionTreeRegressor(max_depth=6, min_samples_split=10, min_samples_leaf=15, random_state=1)\n",
    "rf = RandomForestRegressor(n_estimators=500, criterion='mse', max_depth=9, min_samples_split=50,\n",
    "                           min_samples_leaf=5, random_state=1)\n",
    "model_xgb = xgb.XGBRegressor(colsample_bytree=0.4603, gamma=0.0468, learning_rate=0.05,\n",
    "                             max_depth=3, min_child_weight=1.7817, n_estimators=1000,\n",
    "                             reg_alpha=0.4640, reg_lambda=0.8571, subsample=0.5213,\n",
    "                             silent=1, random_state=1, nthread=-1)\n",
    "model_lgb = lgb.LGBMRegressor(objective='regression', num_leaves=5, learning_rate=0.05, \n",
    "                              n_estimators=720, max_bin=55, bagging_fraction=0.8,\n",
    "                              bagging_freq=5, feature_fraction=0.2319, feature_fraction_seed=9,\n",
    "                              bagging_seed=9, min_data_in_leaf=6, min_sum_hessian_in_leaf=11)"
   ]
  },
  {
   "cell_type": "code",
   "execution_count": 63,
   "metadata": {},
   "outputs": [
    {
     "name": "stderr",
     "output_type": "stream",
     "text": [
      "10it [00:00, ?it/s]\n"
     ]
    },
    {
     "name": "stdout",
     "output_type": "stream",
     "text": [
      "\n",
      "\n",
      "1 FOLDS: LinearRegression RMSLE: 0.1979\n",
      "2 FOLDS: LinearRegression RMSLE: 0.2518\n",
      "3 FOLDS: LinearRegression RMSLE: 0.2156\n",
      "4 FOLDS: LinearRegression RMSLE: 0.3588\n",
      "5 FOLDS: LinearRegression RMSLE: 0.3424\n",
      "6 FOLDS: LinearRegression RMSLE: 0.3486\n",
      "7 FOLDS: LinearRegression RMSLE: 0.3403\n",
      "8 FOLDS: LinearRegression RMSLE: 0.2936\n",
      "9 FOLDS: LinearRegression RMSLE: 0.2625\n",
      "10 FOLDS: LinearRegression RMSLE: 0.2855\n",
      "\n",
      "LinearRegression mean RMSLE: 0.2897\n",
      "========================================\n"
     ]
    },
    {
     "name": "stderr",
     "output_type": "stream",
     "text": [
      "10it [00:00, 10019.84it/s]\n"
     ]
    },
    {
     "name": "stdout",
     "output_type": "stream",
     "text": [
      "\n",
      "\n",
      "1 FOLDS: Ridge RMSLE: 0.1979\n",
      "2 FOLDS: Ridge RMSLE: 0.2518\n",
      "3 FOLDS: Ridge RMSLE: 0.2156\n",
      "4 FOLDS: Ridge RMSLE: 0.3588\n",
      "5 FOLDS: Ridge RMSLE: 0.3424\n",
      "6 FOLDS: Ridge RMSLE: 0.3486\n",
      "7 FOLDS: Ridge RMSLE: 0.3403\n",
      "8 FOLDS: Ridge RMSLE: 0.2936\n",
      "9 FOLDS: Ridge RMSLE: 0.2625\n",
      "10 FOLDS: Ridge RMSLE: 0.2855\n",
      "\n",
      "Ridge mean RMSLE: 0.2897\n",
      "========================================\n"
     ]
    },
    {
     "name": "stderr",
     "output_type": "stream",
     "text": [
      "10it [00:00, 10022.23it/s]\n"
     ]
    },
    {
     "name": "stdout",
     "output_type": "stream",
     "text": [
      "\n",
      "\n",
      "1 FOLDS: Lasso RMSLE: 0.2009\n",
      "2 FOLDS: Lasso RMSLE: 0.2531\n",
      "3 FOLDS: Lasso RMSLE: 0.2211\n",
      "4 FOLDS: Lasso RMSLE: 0.3641\n",
      "5 FOLDS: Lasso RMSLE: 0.3362\n",
      "6 FOLDS: Lasso RMSLE: 0.4171\n",
      "7 FOLDS: Lasso RMSLE: 0.3593\n",
      "8 FOLDS: Lasso RMSLE: 0.3063\n",
      "9 FOLDS: Lasso RMSLE: 0.2648\n",
      "10 FOLDS: Lasso RMSLE: 0.2799\n",
      "\n",
      "Lasso mean RMSLE: 0.3003\n",
      "========================================\n"
     ]
    },
    {
     "name": "stderr",
     "output_type": "stream",
     "text": [
      "10it [00:00, ?it/s]\n"
     ]
    },
    {
     "name": "stdout",
     "output_type": "stream",
     "text": [
      "\n",
      "\n",
      "1 FOLDS: ElasticNet RMSLE: 0.2076\n",
      "2 FOLDS: ElasticNet RMSLE: 0.2539\n",
      "3 FOLDS: ElasticNet RMSLE: 0.2201\n",
      "4 FOLDS: ElasticNet RMSLE: 0.3680\n",
      "5 FOLDS: ElasticNet RMSLE: 0.3339\n",
      "6 FOLDS: ElasticNet RMSLE: 0.3696\n",
      "7 FOLDS: ElasticNet RMSLE: 0.3585\n",
      "8 FOLDS: ElasticNet RMSLE: 0.3068\n",
      "9 FOLDS: ElasticNet RMSLE: 0.2687\n",
      "10 FOLDS: ElasticNet RMSLE: 0.2809\n",
      "\n",
      "ElasticNet mean RMSLE: 0.2968\n",
      "========================================\n"
     ]
    },
    {
     "name": "stderr",
     "output_type": "stream",
     "text": [
      "10it [00:00, 9761.01it/s]"
     ]
    },
    {
     "name": "stdout",
     "output_type": "stream",
     "text": [
      "\n",
      "\n",
      "1 FOLDS: DecisionTreeRegressor RMSLE: 0.1887\n",
      "2 FOLDS: DecisionTreeRegressor RMSLE: 0.2715\n",
      "3 FOLDS: DecisionTreeRegressor RMSLE: 0.2205\n",
      "4 FOLDS: DecisionTreeRegressor RMSLE: 0.3595\n",
      "5 FOLDS: DecisionTreeRegressor RMSLE: 0.3875\n",
      "6 FOLDS: DecisionTreeRegressor RMSLE: 0.3512\n",
      "7 FOLDS: DecisionTreeRegressor RMSLE: 0.3717\n",
      "8 FOLDS: DecisionTreeRegressor RMSLE: 0.3129\n",
      "9 FOLDS: DecisionTreeRegressor RMSLE: 0.3112\n",
      "10 FOLDS: DecisionTreeRegressor RMSLE: 0.3357\n",
      "\n",
      "DecisionTreeRegressor mean RMSLE: 0.3111\n",
      "========================================\n"
     ]
    },
    {
     "name": "stderr",
     "output_type": "stream",
     "text": [
      "\n"
     ]
    }
   ],
   "source": [
    "score = []\n",
    "for model in [reg, ridge, lasso, Enet, DTree]:\n",
    "    print_rmse_score(model)"
   ]
  },
  {
   "cell_type": "code",
   "execution_count": 64,
   "metadata": {},
   "outputs": [
    {
     "name": "stderr",
     "output_type": "stream",
     "text": [
      "10it [00:00, 5013.51it/s]\n"
     ]
    },
    {
     "name": "stdout",
     "output_type": "stream",
     "text": [
      "\n",
      "\n",
      "1 FOLDS: RandomForestRegressor RMSLE: 0.1746\n",
      "2 FOLDS: RandomForestRegressor RMSLE: 0.2500\n",
      "3 FOLDS: RandomForestRegressor RMSLE: 0.2113\n",
      "4 FOLDS: RandomForestRegressor RMSLE: 0.3609\n",
      "5 FOLDS: RandomForestRegressor RMSLE: 0.3663\n",
      "6 FOLDS: RandomForestRegressor RMSLE: 0.2971\n",
      "7 FOLDS: RandomForestRegressor RMSLE: 0.3204\n",
      "8 FOLDS: RandomForestRegressor RMSLE: 0.2691\n",
      "9 FOLDS: RandomForestRegressor RMSLE: 0.2733\n",
      "10 FOLDS: RandomForestRegressor RMSLE: 0.2517\n",
      "\n",
      "RandomForestRegressor mean RMSLE: 0.2775\n",
      "========================================\n",
      "[10:19:36] WARNING: C:/Users/Administrator/workspace/xgboost-win64_release_1.4.0/src/learner.cc:573: \n",
      "Parameters: { \"silent\" } might not be used.\n",
      "\n",
      "  This may not be accurate due to some parameters are only used in language bindings but\n",
      "  passed down to XGBoost core.  Or some parameters are not used but slip through this\n",
      "  verification. Please open an issue if you find above cases.\n",
      "\n",
      "\n",
      "[10:20:10] WARNING: C:/Users/Administrator/workspace/xgboost-win64_release_1.4.0/src/learner.cc:573: \n",
      "Parameters: { \"silent\" } might not be used.\n",
      "\n",
      "  This may not be accurate due to some parameters are only used in language bindings but\n",
      "  passed down to XGBoost core.  Or some parameters are not used but slip through this\n",
      "  verification. Please open an issue if you find above cases.\n",
      "\n",
      "\n",
      "[10:21:09] WARNING: C:/Users/Administrator/workspace/xgboost-win64_release_1.4.0/src/learner.cc:573: \n",
      "Parameters: { \"silent\" } might not be used.\n",
      "\n",
      "  This may not be accurate due to some parameters are only used in language bindings but\n",
      "  passed down to XGBoost core.  Or some parameters are not used but slip through this\n",
      "  verification. Please open an issue if you find above cases.\n",
      "\n",
      "\n",
      "[10:22:40] WARNING: C:/Users/Administrator/workspace/xgboost-win64_release_1.4.0/src/learner.cc:573: \n",
      "Parameters: { \"silent\" } might not be used.\n",
      "\n",
      "  This may not be accurate due to some parameters are only used in language bindings but\n",
      "  passed down to XGBoost core.  Or some parameters are not used but slip through this\n",
      "  verification. Please open an issue if you find above cases.\n",
      "\n",
      "\n",
      "[10:24:37] WARNING: C:/Users/Administrator/workspace/xgboost-win64_release_1.4.0/src/learner.cc:573: \n",
      "Parameters: { \"silent\" } might not be used.\n",
      "\n",
      "  This may not be accurate due to some parameters are only used in language bindings but\n",
      "  passed down to XGBoost core.  Or some parameters are not used but slip through this\n",
      "  verification. Please open an issue if you find above cases.\n",
      "\n",
      "\n",
      "[10:27:02] WARNING: C:/Users/Administrator/workspace/xgboost-win64_release_1.4.0/src/learner.cc:573: \n",
      "Parameters: { \"silent\" } might not be used.\n",
      "\n",
      "  This may not be accurate due to some parameters are only used in language bindings but\n",
      "  passed down to XGBoost core.  Or some parameters are not used but slip through this\n",
      "  verification. Please open an issue if you find above cases.\n",
      "\n",
      "\n",
      "[10:29:48] WARNING: C:/Users/Administrator/workspace/xgboost-win64_release_1.4.0/src/learner.cc:573: \n",
      "Parameters: { \"silent\" } might not be used.\n",
      "\n",
      "  This may not be accurate due to some parameters are only used in language bindings but\n",
      "  passed down to XGBoost core.  Or some parameters are not used but slip through this\n",
      "  verification. Please open an issue if you find above cases.\n",
      "\n",
      "\n",
      "[10:33:25] WARNING: C:/Users/Administrator/workspace/xgboost-win64_release_1.4.0/src/learner.cc:573: \n",
      "Parameters: { \"silent\" } might not be used.\n",
      "\n",
      "  This may not be accurate due to some parameters are only used in language bindings but\n",
      "  passed down to XGBoost core.  Or some parameters are not used but slip through this\n",
      "  verification. Please open an issue if you find above cases.\n",
      "\n",
      "\n",
      "[10:37:31] WARNING: C:/Users/Administrator/workspace/xgboost-win64_release_1.4.0/src/learner.cc:573: \n",
      "Parameters: { \"silent\" } might not be used.\n",
      "\n",
      "  This may not be accurate due to some parameters are only used in language bindings but\n",
      "  passed down to XGBoost core.  Or some parameters are not used but slip through this\n",
      "  verification. Please open an issue if you find above cases.\n",
      "\n",
      "\n",
      "[10:42:02] WARNING: C:/Users/Administrator/workspace/xgboost-win64_release_1.4.0/src/learner.cc:573: \n",
      "Parameters: { \"silent\" } might not be used.\n",
      "\n",
      "  This may not be accurate due to some parameters are only used in language bindings but\n",
      "  passed down to XGBoost core.  Or some parameters are not used but slip through this\n",
      "  verification. Please open an issue if you find above cases.\n",
      "\n",
      "\n"
     ]
    },
    {
     "name": "stderr",
     "output_type": "stream",
     "text": [
      "10it [00:00, ?it/s]\n"
     ]
    },
    {
     "name": "stdout",
     "output_type": "stream",
     "text": [
      "\n",
      "\n",
      "1 FOLDS: XGBRegressor RMSLE: 0.1873\n",
      "2 FOLDS: XGBRegressor RMSLE: 0.2248\n",
      "3 FOLDS: XGBRegressor RMSLE: 0.1952\n",
      "4 FOLDS: XGBRegressor RMSLE: 0.3217\n",
      "5 FOLDS: XGBRegressor RMSLE: 0.3440\n",
      "6 FOLDS: XGBRegressor RMSLE: 0.2501\n",
      "7 FOLDS: XGBRegressor RMSLE: 0.2564\n",
      "8 FOLDS: XGBRegressor RMSLE: 0.2157\n",
      "9 FOLDS: XGBRegressor RMSLE: 0.2426\n",
      "10 FOLDS: XGBRegressor RMSLE: 0.1903\n",
      "\n",
      "XGBRegressor mean RMSLE: 0.2428\n",
      "========================================\n",
      "[LightGBM] [Warning] feature_fraction is set=0.2319, colsample_bytree=1.0 will be ignored. Current value: feature_fraction=0.2319\n",
      "[LightGBM] [Warning] min_data_in_leaf is set=6, min_child_samples=20 will be ignored. Current value: min_data_in_leaf=6\n",
      "[LightGBM] [Warning] min_sum_hessian_in_leaf is set=11, min_child_weight=0.001 will be ignored. Current value: min_sum_hessian_in_leaf=11\n",
      "[LightGBM] [Warning] bagging_fraction is set=0.8, subsample=1.0 will be ignored. Current value: bagging_fraction=0.8\n",
      "[LightGBM] [Warning] bagging_freq is set=5, subsample_freq=0 will be ignored. Current value: bagging_freq=5\n",
      "[LightGBM] [Warning] feature_fraction is set=0.2319, colsample_bytree=1.0 will be ignored. Current value: feature_fraction=0.2319\n",
      "[LightGBM] [Warning] min_data_in_leaf is set=6, min_child_samples=20 will be ignored. Current value: min_data_in_leaf=6\n",
      "[LightGBM] [Warning] min_sum_hessian_in_leaf is set=11, min_child_weight=0.001 will be ignored. Current value: min_sum_hessian_in_leaf=11\n",
      "[LightGBM] [Warning] bagging_fraction is set=0.8, subsample=1.0 will be ignored. Current value: bagging_fraction=0.8\n",
      "[LightGBM] [Warning] bagging_freq is set=5, subsample_freq=0 will be ignored. Current value: bagging_freq=5\n",
      "[LightGBM] [Warning] feature_fraction is set=0.2319, colsample_bytree=1.0 will be ignored. Current value: feature_fraction=0.2319\n",
      "[LightGBM] [Warning] min_data_in_leaf is set=6, min_child_samples=20 will be ignored. Current value: min_data_in_leaf=6\n",
      "[LightGBM] [Warning] min_sum_hessian_in_leaf is set=11, min_child_weight=0.001 will be ignored. Current value: min_sum_hessian_in_leaf=11\n",
      "[LightGBM] [Warning] bagging_fraction is set=0.8, subsample=1.0 will be ignored. Current value: bagging_fraction=0.8\n",
      "[LightGBM] [Warning] bagging_freq is set=5, subsample_freq=0 will be ignored. Current value: bagging_freq=5\n",
      "[LightGBM] [Warning] feature_fraction is set=0.2319, colsample_bytree=1.0 will be ignored. Current value: feature_fraction=0.2319\n",
      "[LightGBM] [Warning] min_data_in_leaf is set=6, min_child_samples=20 will be ignored. Current value: min_data_in_leaf=6\n",
      "[LightGBM] [Warning] min_sum_hessian_in_leaf is set=11, min_child_weight=0.001 will be ignored. Current value: min_sum_hessian_in_leaf=11\n",
      "[LightGBM] [Warning] bagging_fraction is set=0.8, subsample=1.0 will be ignored. Current value: bagging_fraction=0.8\n",
      "[LightGBM] [Warning] bagging_freq is set=5, subsample_freq=0 will be ignored. Current value: bagging_freq=5\n",
      "[LightGBM] [Warning] feature_fraction is set=0.2319, colsample_bytree=1.0 will be ignored. Current value: feature_fraction=0.2319\n",
      "[LightGBM] [Warning] min_data_in_leaf is set=6, min_child_samples=20 will be ignored. Current value: min_data_in_leaf=6\n",
      "[LightGBM] [Warning] min_sum_hessian_in_leaf is set=11, min_child_weight=0.001 will be ignored. Current value: min_sum_hessian_in_leaf=11\n",
      "[LightGBM] [Warning] bagging_fraction is set=0.8, subsample=1.0 will be ignored. Current value: bagging_fraction=0.8\n",
      "[LightGBM] [Warning] bagging_freq is set=5, subsample_freq=0 will be ignored. Current value: bagging_freq=5\n",
      "[LightGBM] [Warning] feature_fraction is set=0.2319, colsample_bytree=1.0 will be ignored. Current value: feature_fraction=0.2319\n",
      "[LightGBM] [Warning] min_data_in_leaf is set=6, min_child_samples=20 will be ignored. Current value: min_data_in_leaf=6\n",
      "[LightGBM] [Warning] min_sum_hessian_in_leaf is set=11, min_child_weight=0.001 will be ignored. Current value: min_sum_hessian_in_leaf=11\n",
      "[LightGBM] [Warning] bagging_fraction is set=0.8, subsample=1.0 will be ignored. Current value: bagging_fraction=0.8\n",
      "[LightGBM] [Warning] bagging_freq is set=5, subsample_freq=0 will be ignored. Current value: bagging_freq=5\n",
      "[LightGBM] [Warning] feature_fraction is set=0.2319, colsample_bytree=1.0 will be ignored. Current value: feature_fraction=0.2319\n",
      "[LightGBM] [Warning] min_data_in_leaf is set=6, min_child_samples=20 will be ignored. Current value: min_data_in_leaf=6\n",
      "[LightGBM] [Warning] min_sum_hessian_in_leaf is set=11, min_child_weight=0.001 will be ignored. Current value: min_sum_hessian_in_leaf=11\n",
      "[LightGBM] [Warning] bagging_fraction is set=0.8, subsample=1.0 will be ignored. Current value: bagging_fraction=0.8\n",
      "[LightGBM] [Warning] bagging_freq is set=5, subsample_freq=0 will be ignored. Current value: bagging_freq=5\n",
      "[LightGBM] [Warning] feature_fraction is set=0.2319, colsample_bytree=1.0 will be ignored. Current value: feature_fraction=0.2319\n",
      "[LightGBM] [Warning] min_data_in_leaf is set=6, min_child_samples=20 will be ignored. Current value: min_data_in_leaf=6\n",
      "[LightGBM] [Warning] min_sum_hessian_in_leaf is set=11, min_child_weight=0.001 will be ignored. Current value: min_sum_hessian_in_leaf=11\n",
      "[LightGBM] [Warning] bagging_fraction is set=0.8, subsample=1.0 will be ignored. Current value: bagging_fraction=0.8\n",
      "[LightGBM] [Warning] bagging_freq is set=5, subsample_freq=0 will be ignored. Current value: bagging_freq=5\n",
      "[LightGBM] [Warning] feature_fraction is set=0.2319, colsample_bytree=1.0 will be ignored. Current value: feature_fraction=0.2319\n",
      "[LightGBM] [Warning] min_data_in_leaf is set=6, min_child_samples=20 will be ignored. Current value: min_data_in_leaf=6\n",
      "[LightGBM] [Warning] min_sum_hessian_in_leaf is set=11, min_child_weight=0.001 will be ignored. Current value: min_sum_hessian_in_leaf=11\n",
      "[LightGBM] [Warning] bagging_fraction is set=0.8, subsample=1.0 will be ignored. Current value: bagging_fraction=0.8\n",
      "[LightGBM] [Warning] bagging_freq is set=5, subsample_freq=0 will be ignored. Current value: bagging_freq=5\n",
      "[LightGBM] [Warning] feature_fraction is set=0.2319, colsample_bytree=1.0 will be ignored. Current value: feature_fraction=0.2319\n",
      "[LightGBM] [Warning] min_data_in_leaf is set=6, min_child_samples=20 will be ignored. Current value: min_data_in_leaf=6\n",
      "[LightGBM] [Warning] min_sum_hessian_in_leaf is set=11, min_child_weight=0.001 will be ignored. Current value: min_sum_hessian_in_leaf=11\n",
      "[LightGBM] [Warning] bagging_fraction is set=0.8, subsample=1.0 will be ignored. Current value: bagging_fraction=0.8\n",
      "[LightGBM] [Warning] bagging_freq is set=5, subsample_freq=0 will be ignored. Current value: bagging_freq=5\n"
     ]
    },
    {
     "name": "stderr",
     "output_type": "stream",
     "text": [
      "10it [00:00, 10027.02it/s]"
     ]
    },
    {
     "name": "stdout",
     "output_type": "stream",
     "text": [
      "\n",
      "\n",
      "1 FOLDS: LGBMRegressor RMSLE: 0.3331\n",
      "2 FOLDS: LGBMRegressor RMSLE: 0.3571\n",
      "3 FOLDS: LGBMRegressor RMSLE: 0.3265\n",
      "4 FOLDS: LGBMRegressor RMSLE: 0.4505\n",
      "5 FOLDS: LGBMRegressor RMSLE: 0.3757\n",
      "6 FOLDS: LGBMRegressor RMSLE: 0.2558\n",
      "7 FOLDS: LGBMRegressor RMSLE: 0.2722\n",
      "8 FOLDS: LGBMRegressor RMSLE: 0.2381\n",
      "9 FOLDS: LGBMRegressor RMSLE: 0.2240\n",
      "10 FOLDS: LGBMRegressor RMSLE: 0.2132\n",
      "\n",
      "LGBMRegressor mean RMSLE: 0.3046\n",
      "========================================\n"
     ]
    },
    {
     "name": "stderr",
     "output_type": "stream",
     "text": [
      "\n"
     ]
    }
   ],
   "source": [
    "for model in [rf, model_xgb, model_lgb]:\n",
    "    print_rmse_score(model)"
   ]
  },
  {
   "cell_type": "code",
   "execution_count": 65,
   "metadata": {},
   "outputs": [
    {
     "data": {
      "text/html": [
       "<div>\n",
       "<style scoped>\n",
       "    .dataframe tbody tr th:only-of-type {\n",
       "        vertical-align: middle;\n",
       "    }\n",
       "\n",
       "    .dataframe tbody tr th {\n",
       "        vertical-align: top;\n",
       "    }\n",
       "\n",
       "    .dataframe thead th {\n",
       "        text-align: right;\n",
       "    }\n",
       "</style>\n",
       "<table border=\"1\" class=\"dataframe\">\n",
       "  <thead>\n",
       "    <tr style=\"text-align: right;\">\n",
       "      <th></th>\n",
       "      <th>Model</th>\n",
       "      <th>Score</th>\n",
       "    </tr>\n",
       "  </thead>\n",
       "  <tbody>\n",
       "    <tr>\n",
       "      <th>0</th>\n",
       "      <td>XGBoost</td>\n",
       "      <td>0.2390</td>\n",
       "    </tr>\n",
       "    <tr>\n",
       "      <th>1</th>\n",
       "      <td>LightGBM</td>\n",
       "      <td>0.2419</td>\n",
       "    </tr>\n",
       "    <tr>\n",
       "      <th>2</th>\n",
       "      <td>RandomForest</td>\n",
       "      <td>0.2749</td>\n",
       "    </tr>\n",
       "    <tr>\n",
       "      <th>3</th>\n",
       "      <td>Linear Regression</td>\n",
       "      <td>0.2888</td>\n",
       "    </tr>\n",
       "    <tr>\n",
       "      <th>4</th>\n",
       "      <td>Ridge</td>\n",
       "      <td>0.2888</td>\n",
       "    </tr>\n",
       "    <tr>\n",
       "      <th>5</th>\n",
       "      <td>ElasticNet</td>\n",
       "      <td>0.2960</td>\n",
       "    </tr>\n",
       "    <tr>\n",
       "      <th>6</th>\n",
       "      <td>Lasso</td>\n",
       "      <td>0.2990</td>\n",
       "    </tr>\n",
       "    <tr>\n",
       "      <th>7</th>\n",
       "      <td>DecisionTree</td>\n",
       "      <td>0.3102</td>\n",
       "    </tr>\n",
       "  </tbody>\n",
       "</table>\n",
       "</div>"
      ],
      "text/plain": [
       "               Model   Score\n",
       "0            XGBoost  0.2390\n",
       "1           LightGBM  0.2419\n",
       "2       RandomForest  0.2749\n",
       "3  Linear Regression  0.2888\n",
       "4              Ridge  0.2888\n",
       "5         ElasticNet  0.2960\n",
       "6              Lasso  0.2990\n",
       "7       DecisionTree  0.3102"
      ]
     },
     "execution_count": 65,
     "metadata": {},
     "output_type": "execute_result"
    }
   ],
   "source": [
    "score = [0.2888, 0.2888, 0.2990, 0.2960, 0.3102, 0.2749, 0.2390, 0.2419]\n",
    "model = ['Linear Regression', 'Ridge', 'Lasso', \"ElasticNet\", 'DecisionTree','RandomForest', 'XGBoost', 'LightGBM']\n",
    "\n",
    "result_df = pd.DataFrame({'Model': model, 'Score': score}).sort_values(by='Score', ascending=True).reset_index(drop=True)\n",
    "result_df.head(8)"
   ]
  },
  {
   "cell_type": "code",
   "execution_count": 66,
   "metadata": {},
   "outputs": [
    {
     "data": {
      "image/png": "[encoded data removed]",
      "text/plain": [
       "<Figure size 720x432 with 1 Axes>"
      ]
     },
     "metadata": {
      "needs_background": "light"
     },
     "output_type": "display_data"
    }
   ],
   "source": [
    "f, ax = plt.subplots(figsize=(10, 6))\n",
    "plt.xticks(rotation='90')\n",
    "sns.barplot(x=result_df['Model'], y=result_df['Score'])\n",
    "plt.xlabel('Models', fontsize=15)\n",
    "plt.ylabel('Model Performance', fontsize=15)\n",
    "plt.ylim(0.22, 0.32)\n",
    "plt.title('RMSLE', fontsize=15)\n",
    "plt.show()"
   ]
  },
  {
   "cell_type": "code",
   "execution_count": 67,
   "metadata": {},
   "outputs": [
    {
     "name": "stdout",
     "output_type": "stream",
     "text": [
      "(973242, 8) (973242,) (243311, 8) (243311,)\n"
     ]
    }
   ],
   "source": [
    "cut = int(len(train_df)*0.8)\n",
    "h_train = train_df[:cut]\n",
    "h_valid = train_df[cut:]\n",
    "\n",
    "h_train_X = h_train.drop('log_price', axis=1)\n",
    "h_train_y = h_train['log_price']\n",
    "h_valid_X = h_valid.drop('log_price', axis=1)\n",
    "h_valid_y = h_valid['log_price']\n",
    "print(h_train_X.shape, h_train_y.shape, h_valid_X.shape, h_valid_y.shape)"
   ]
  },
  {
   "cell_type": "code",
   "execution_count": 68,
   "metadata": {},
   "outputs": [
    {
     "data": {
      "text/html": [
       "<div>\n",
       "<style scoped>\n",
       "    .dataframe tbody tr th:only-of-type {\n",
       "        vertical-align: middle;\n",
       "    }\n",
       "\n",
       "    .dataframe tbody tr th {\n",
       "        vertical-align: top;\n",
       "    }\n",
       "\n",
       "    .dataframe thead th {\n",
       "        text-align: right;\n",
       "    }\n",
       "</style>\n",
       "<table border=\"1\" class=\"dataframe\">\n",
       "  <thead>\n",
       "    <tr style=\"text-align: right;\">\n",
       "      <th></th>\n",
       "      <th>dong</th>\n",
       "      <th>year_of_completion</th>\n",
       "      <th>transaction_year_month</th>\n",
       "      <th>floor</th>\n",
       "      <th>top10</th>\n",
       "      <th>log_area</th>\n",
       "      <th>city_부산광역시</th>\n",
       "      <th>city_서울특별시</th>\n",
       "    </tr>\n",
       "  </thead>\n",
       "  <tbody>\n",
       "    <tr>\n",
       "      <th>0</th>\n",
       "      <td>138</td>\n",
       "      <td>41</td>\n",
       "      <td>0</td>\n",
       "      <td>6</td>\n",
       "      <td>0</td>\n",
       "      <td>4.452252</td>\n",
       "      <td>0</td>\n",
       "      <td>1</td>\n",
       "    </tr>\n",
       "    <tr>\n",
       "      <th>1</th>\n",
       "      <td>65</td>\n",
       "      <td>12</td>\n",
       "      <td>0</td>\n",
       "      <td>10</td>\n",
       "      <td>0</td>\n",
       "      <td>4.606869</td>\n",
       "      <td>0</td>\n",
       "      <td>1</td>\n",
       "    </tr>\n",
       "    <tr>\n",
       "      <th>2</th>\n",
       "      <td>65</td>\n",
       "      <td>46</td>\n",
       "      <td>0</td>\n",
       "      <td>10</td>\n",
       "      <td>0</td>\n",
       "      <td>4.451319</td>\n",
       "      <td>0</td>\n",
       "      <td>1</td>\n",
       "    </tr>\n",
       "    <tr>\n",
       "      <th>3</th>\n",
       "      <td>13</td>\n",
       "      <td>42</td>\n",
       "      <td>0</td>\n",
       "      <td>19</td>\n",
       "      <td>0</td>\n",
       "      <td>4.993082</td>\n",
       "      <td>0</td>\n",
       "      <td>1</td>\n",
       "    </tr>\n",
       "    <tr>\n",
       "      <th>4</th>\n",
       "      <td>13</td>\n",
       "      <td>43</td>\n",
       "      <td>0</td>\n",
       "      <td>7</td>\n",
       "      <td>0</td>\n",
       "      <td>5.275202</td>\n",
       "      <td>0</td>\n",
       "      <td>1</td>\n",
       "    </tr>\n",
       "  </tbody>\n",
       "</table>\n",
       "</div>"
      ],
      "text/plain": [
       "   dong  year_of_completion  transaction_year_month  floor  top10  log_area  \\\n",
       "0   138                  41                       0      6      0  4.452252   \n",
       "1    65                  12                       0     10      0  4.606869   \n",
       "2    65                  46                       0     10      0  4.451319   \n",
       "3    13                  42                       0     19      0  4.993082   \n",
       "4    13                  43                       0      7      0  5.275202   \n",
       "\n",
       "   city_부산광역시  city_서울특별시  \n",
       "0           0           1  \n",
       "1           0           1  \n",
       "2           0           1  \n",
       "3           0           1  \n",
       "4           0           1  "
      ]
     },
     "execution_count": 68,
     "metadata": {},
     "output_type": "execute_result"
    }
   ],
   "source": [
    "h_train_X.head()"
   ]
  },
  {
   "cell_type": "code",
   "execution_count": 73,
   "metadata": {},
   "outputs": [
    {
     "name": "stderr",
     "output_type": "stream",
     "text": [
      "\u001b[32m[I 2021-08-24 11:26:51,941]\u001b[0m A new study created in memory with name: no-name-fd82e79d-52cf-487c-b1d9-bd4215bbfdd3\u001b[0m\n",
      "\u001b[32m[I 2021-08-24 11:33:34,391]\u001b[0m Trial 0 finished with value: 0.20771652355879144 and parameters: {'lambda': 0.014810344004555135, 'alpha': 1.4656004675652718e-08, 'max_depth': 7, 'eta': 0.00978207662259244, 'gamma': 9.728728830009641e-05, 'n_estimators': 880, 'min_child_weight': 2, 'subsample': 0.8029815922829752}. Best is trial 0 with value: 0.20771652355879144.\u001b[0m\n",
      "\u001b[32m[I 2021-08-24 11:42:15,988]\u001b[0m Trial 1 finished with value: 0.2053248667240162 and parameters: {'lambda': 2.2536511574969237e-07, 'alpha': 5.090008568091192e-08, 'max_depth': 7, 'eta': 0.4237861601304585, 'gamma': 1.075439863800637e-08, 'n_estimators': 1110, 'min_child_weight': 8, 'subsample': 0.7011462565718398}. Best is trial 1 with value: 0.2053248667240162.\u001b[0m\n",
      "\u001b[32m[I 2021-08-24 11:50:38,394]\u001b[0m Trial 2 finished with value: 0.20265578409381638 and parameters: {'lambda': 0.005943503728075847, 'alpha': 2.1627610787257848e-06, 'max_depth': 9, 'eta': 0.005207224083783965, 'gamma': 0.00021895503882644017, 'n_estimators': 813, 'min_child_weight': 4, 'subsample': 0.7418647364337652}. Best is trial 2 with value: 0.20265578409381638.\u001b[0m\n",
      "\u001b[32m[I 2021-08-24 12:00:30,971]\u001b[0m Trial 3 finished with value: 0.20520119290154656 and parameters: {'lambda': 3.4250380089316126e-05, 'alpha': 2.965595722907858e-05, 'max_depth': 7, 'eta': 0.00012738137732610437, 'gamma': 0.0015965313667163816, 'n_estimators': 1181, 'min_child_weight': 8, 'subsample': 0.6451255817003931}. Best is trial 2 with value: 0.20265578409381638.\u001b[0m\n",
      "\u001b[32m[I 2021-08-24 12:06:39,785]\u001b[0m Trial 4 finished with value: 0.22729791182528816 and parameters: {'lambda': 0.18586218844499916, 'alpha': 3.5800468653895747e-06, 'max_depth': 3, 'eta': 2.544488269752405e-06, 'gamma': 8.163471763379958e-08, 'n_estimators': 1363, 'min_child_weight': 0, 'subsample': 0.7100430887666348}. Best is trial 2 with value: 0.20265578409381638.\u001b[0m\n",
      "\u001b[32m[I 2021-08-24 12:06:40,717]\u001b[0m Trial 5 pruned. Trial was pruned at iteration 0.\u001b[0m\n",
      "\u001b[32m[I 2021-08-24 12:06:41,641]\u001b[0m Trial 6 pruned. Trial was pruned at iteration 0.\u001b[0m\n",
      "\u001b[32m[I 2021-08-24 12:20:56,057]\u001b[0m Trial 7 finished with value: 0.1996081592768491 and parameters: {'lambda': 0.7961663152623397, 'alpha': 4.471326429846904e-05, 'max_depth': 8, 'eta': 1.0256355687768682e-06, 'gamma': 0.0006011366210390782, 'n_estimators': 1423, 'min_child_weight': 5, 'subsample': 0.6869493656576533}. Best is trial 7 with value: 0.1996081592768491.\u001b[0m\n",
      "\u001b[32m[I 2021-08-24 12:20:56,701]\u001b[0m Trial 8 pruned. Trial was pruned at iteration 0.\u001b[0m\n",
      "\u001b[32m[I 2021-08-24 12:20:57,489]\u001b[0m Trial 9 pruned. Trial was pruned at iteration 0.\u001b[0m\n",
      "\u001b[32m[I 2021-08-24 12:37:27,782]\u001b[0m Trial 10 finished with value: 0.19929963851399443 and parameters: {'lambda': 0.3656123600377899, 'alpha': 0.6557495771345254, 'max_depth': 9, 'eta': 5.705012547439435e-06, 'gamma': 0.0053621163382301185, 'n_estimators': 1478, 'min_child_weight': 6, 'subsample': 0.4409150937815634}. Best is trial 10 with value: 0.19929963851399443.\u001b[0m\n",
      "\u001b[32m[I 2021-08-24 12:37:29,087]\u001b[0m Trial 11 pruned. Trial was pruned at iteration 0.\u001b[0m\n",
      "\u001b[32m[I 2021-08-24 12:49:45,424]\u001b[0m Trial 12 pruned. Trial was pruned at iteration 1110.\u001b[0m\n",
      "\u001b[32m[I 2021-08-24 12:49:46,366]\u001b[0m Trial 13 pruned. Trial was pruned at iteration 0.\u001b[0m\n",
      "\u001b[32m[I 2021-08-24 13:01:47,902]\u001b[0m Trial 14 pruned. Trial was pruned at iteration 1181.\u001b[0m\n",
      "\u001b[32m[I 2021-08-24 13:12:23,881]\u001b[0m Trial 15 pruned. Trial was pruned at iteration 1181.\u001b[0m\n",
      "\u001b[32m[I 2021-08-24 13:12:24,743]\u001b[0m Trial 16 pruned. Trial was pruned at iteration 0.\u001b[0m\n",
      "\u001b[32m[I 2021-08-24 13:18:44,742]\u001b[0m Trial 17 finished with value: 0.20716739707172085 and parameters: {'lambda': 0.09372791560287771, 'alpha': 0.005736692901247464, 'max_depth': 8, 'eta': 0.0008766310255613193, 'gamma': 0.0005786221354880566, 'n_estimators': 708, 'min_child_weight': 2, 'subsample': 0.8171268120822645}. Best is trial 10 with value: 0.19929963851399443.\u001b[0m\n",
      "\u001b[32m[I 2021-08-24 13:32:59,085]\u001b[0m Trial 18 finished with value: 0.1983723953652732 and parameters: {'lambda': 0.9119783598897424, 'alpha': 0.00013720646133595114, 'max_depth': 9, 'eta': 2.2785740565321774e-07, 'gamma': 2.9151091480706805e-05, 'n_estimators': 1420, 'min_child_weight': 5, 'subsample': 0.6383927940685088}. Best is trial 18 with value: 0.1983723953652732.\u001b[0m\n",
      "\u001b[32m[I 2021-08-24 13:43:06,852]\u001b[0m Trial 19 finished with value: 0.2016505079972629 and parameters: {'lambda': 0.003481809795848288, 'alpha': 0.11606189146037192, 'max_depth': 9, 'eta': 1.1183633933902669e-07, 'gamma': 7.419712996114378e-07, 'n_estimators': 1029, 'min_child_weight': 7, 'subsample': 0.5877395955047259}. Best is trial 18 with value: 0.1983723953652732.\u001b[0m\n",
      "\u001b[32m[I 2021-08-24 13:43:07,697]\u001b[0m Trial 20 pruned. Trial was pruned at iteration 0.\u001b[0m\n",
      "\u001b[32m[I 2021-08-24 13:56:19,044]\u001b[0m Trial 21 finished with value: 0.19795331599257993 and parameters: {'lambda': 0.7691200965735057, 'alpha': 2.5678141694504875e-05, 'max_depth': 9, 'eta': 1.3201509328746843e-06, 'gamma': 0.00919056166044869, 'n_estimators': 1404, 'min_child_weight': 5, 'subsample': 0.6312467631980047}. Best is trial 21 with value: 0.19795331599257993.\u001b[0m\n",
      "\u001b[32m[I 2021-08-24 14:09:40,896]\u001b[0m Trial 22 finished with value: 0.19868239459369547 and parameters: {'lambda': 0.12186685686473957, 'alpha': 9.946977648060695e-07, 'max_depth': 9, 'eta': 1.6517049974804573e-05, 'gamma': 0.015664155691700953, 'n_estimators': 1408, 'min_child_weight': 5, 'subsample': 0.6420312551042057}. Best is trial 21 with value: 0.19795331599257993.\u001b[0m\n",
      "\u001b[32m[I 2021-08-24 14:16:58,716]\u001b[0m Trial 23 pruned. Trial was pruned at iteration 705.\u001b[0m\n",
      "\u001b[32m[I 2021-08-24 14:16:59,640]\u001b[0m Trial 24 pruned. Trial was pruned at iteration 0.\u001b[0m\n",
      "\u001b[32m[I 2021-08-24 14:18:56,467]\u001b[0m Trial 25 pruned. Trial was pruned at iteration 218.\u001b[0m\n",
      "\u001b[32m[I 2021-08-24 14:18:57,359]\u001b[0m Trial 26 pruned. Trial was pruned at iteration 0.\u001b[0m\n",
      "\u001b[32m[I 2021-08-24 14:21:23,760]\u001b[0m Trial 27 pruned. Trial was pruned at iteration 321.\u001b[0m\n",
      "\u001b[32m[I 2021-08-24 14:28:59,129]\u001b[0m Trial 28 finished with value: 0.19792948723041381 and parameters: {'lambda': 0.007109403340426568, 'alpha': 1.945202794297081e-07, 'max_depth': 9, 'eta': 4.0448626776083755e-05, 'gamma': 0.011277809763858207, 'n_estimators': 1500, 'min_child_weight': 5, 'subsample': 0.7428653884727844}. Best is trial 28 with value: 0.19792948723041381.\u001b[0m\n",
      "\u001b[32m[I 2021-08-24 14:28:59,669]\u001b[0m Trial 29 pruned. Trial was pruned at iteration 0.\u001b[0m\n",
      "\u001b[32m[I 2021-08-24 14:29:00,443]\u001b[0m Trial 30 pruned. Trial was pruned at iteration 0.\u001b[0m\n",
      "\u001b[32m[I 2021-08-24 14:37:15,124]\u001b[0m Trial 31 finished with value: 0.19843031769850075 and parameters: {'lambda': 0.028885223258722812, 'alpha': 8.842938196582512e-06, 'max_depth': 9, 'eta': 3.626722890916314e-05, 'gamma': 0.011300442716059551, 'n_estimators': 1428, 'min_child_weight': 5, 'subsample': 0.7412706270978088}. Best is trial 28 with value: 0.19792948723041381.\u001b[0m\n",
      "\u001b[32m[I 2021-08-24 14:45:41,256]\u001b[0m Trial 32 pruned. Trial was pruned at iteration 1365.\u001b[0m\n",
      "\u001b[32m[I 2021-08-24 14:47:15,465]\u001b[0m Trial 33 pruned. Trial was pruned at iteration 287.\u001b[0m\n",
      "\u001b[32m[I 2021-08-24 14:54:22,263]\u001b[0m Trial 34 pruned. Trial was pruned at iteration 1110.\u001b[0m\n",
      "\u001b[32m[I 2021-08-24 15:03:33,030]\u001b[0m Trial 35 pruned. Trial was pruned at iteration 1179.\u001b[0m\n",
      "\u001b[32m[I 2021-08-24 15:06:22,649]\u001b[0m Trial 36 pruned. Trial was pruned at iteration 300.\u001b[0m\n",
      "\u001b[32m[I 2021-08-24 15:06:23,337]\u001b[0m Trial 37 pruned. Trial was pruned at iteration 0.\u001b[0m\n",
      "\u001b[32m[I 2021-08-24 15:06:24,384]\u001b[0m Trial 38 pruned. Trial was pruned at iteration 0.\u001b[0m\n",
      "\u001b[32m[I 2021-08-24 15:14:17,663]\u001b[0m Trial 39 pruned. Trial was pruned at iteration 1127.\u001b[0m\n",
      "\u001b[32m[I 2021-08-24 15:16:07,307]\u001b[0m Trial 40 pruned. Trial was pruned at iteration 291.\u001b[0m\n",
      "\u001b[32m[I 2021-08-24 15:22:37,618]\u001b[0m Trial 41 pruned. Trial was pruned at iteration 1209.\u001b[0m\n",
      "\u001b[32m[I 2021-08-24 15:26:02,756]\u001b[0m Trial 42 pruned. Trial was pruned at iteration 713.\u001b[0m\n",
      "\u001b[32m[I 2021-08-24 15:31:14,413]\u001b[0m Trial 43 pruned. Trial was pruned at iteration 1038.\u001b[0m\n",
      "\u001b[32m[I 2021-08-24 15:31:14,850]\u001b[0m Trial 44 pruned. Trial was pruned at iteration 0.\u001b[0m\n",
      "\u001b[32m[I 2021-08-24 15:31:54,451]\u001b[0m Trial 45 pruned. Trial was pruned at iteration 143.\u001b[0m\n",
      "\u001b[32m[I 2021-08-24 15:37:20,241]\u001b[0m Trial 46 pruned. Trial was pruned at iteration 981.\u001b[0m\n",
      "\u001b[32m[I 2021-08-24 15:37:20,812]\u001b[0m Trial 47 pruned. Trial was pruned at iteration 0.\u001b[0m\n",
      "\u001b[32m[I 2021-08-24 15:38:53,367]\u001b[0m Trial 48 pruned. Trial was pruned at iteration 302.\u001b[0m\n",
      "\u001b[32m[I 2021-08-24 15:45:22,979]\u001b[0m Trial 49 pruned. Trial was pruned at iteration 1181.\u001b[0m\n"
     ]
    }
   ],
   "source": [
    "from optuna.samplers import TPESampler\n",
    "\n",
    "sampler = TPESampler(seed=10)\n",
    "n_repeats=3\n",
    "\n",
    "def objective(trial):\n",
    "    dtrain = xgb.DMatrix(h_train_X, label=h_train_y)\n",
    "    dtest = xgb.DMatrix(h_valid_X, label=h_valid_y)\n",
    "\n",
    "    param = {\n",
    "        'objective': 'reg:squarederror', # 회귀\n",
    "         'eval_metric': 'rmse',\n",
    "         \"xgb_gpu_hist\": 1,\n",
    "         'verbosity': 0,\n",
    "         'booster': 'gbtree', # gradient boosting decision tree\n",
    "         'lambda': trial.suggest_loguniform('lambda', 1e-8, 1),\n",
    "         'alpha': trial.suggest_loguniform('alpha', 1e-8, 1),\n",
    "         'max_depth': trial.suggest_int('max_depth',3, 9),\n",
    "         'learning_rate': 0.01,\n",
    "         \"eta\": trial.suggest_loguniform(\"eta\", 1e-8, 1.0),\n",
    "         \"gamma\": trial.suggest_loguniform(\"gamma\", 1e-8, 1.0),\n",
    "         'n_estimators': trial.suggest_int('n_estimators', 700, 1500),\n",
    "         'min_child_weight': trial.suggest_int('min_child_weight', 0, 10),\n",
    "         'subsample': trial.suggest_loguniform('subsample', 0.4, 1)\n",
    "    }\n",
    "\n",
    "    model = xgb.XGBRegressor(**param)\n",
    "    pruning_callback = XGBoostPruningCallback(trial, \"validation_0-rmse\")\n",
    "    xgb_2 = model.fit(h_train_X, h_train_y, eval_set=[(h_valid_X, h_valid_y)], verbose=0,\n",
    "                      eval_metric='rmse', callbacks=[pruning_callback])\n",
    "\n",
    "    rmse = RMSE(h_valid_y, xgb_2.predict(h_valid_X))\n",
    "    return rmse\n",
    "        \n",
    "study_xgb = optuna.create_study(direction='minimize', sampler=sampler)\n",
    "study_xgb.optimize(objective, n_trials=50)"
   ]
  },
  {
   "cell_type": "code",
   "execution_count": 74,
   "metadata": {},
   "outputs": [
    {
     "name": "stdout",
     "output_type": "stream",
     "text": [
      "Best Trial: score 0.19792948723041381,\n",
      "params {'lambda': 0.007109403340426568, 'alpha': 1.945202794297081e-07, 'max_depth': 9, 'eta': 4.0448626776083755e-05, 'gamma': 0.011277809763858207, 'n_estimators': 1500, 'min_child_weight': 5, 'subsample': 0.7428653884727844}\n"
     ]
    }
   ],
   "source": [
    "print('Best Trial: score {},\\nparams {}'.format(study_xgb.best_trial.value, study_xgb.best_trial.params))"
   ]
  },
  {
   "cell_type": "code",
   "execution_count": null,
   "metadata": {},
   "outputs": [],
   "source": [
    "# optuna.visualization.plot_param_importances(study_xgb)"
   ]
  },
  {
   "cell_type": "code",
   "execution_count": 76,
   "metadata": {},
   "outputs": [
    {
     "data": {
      "text/plain": [
       "{'lambda': 0.007109403340426568,\n",
       " 'alpha': 1.945202794297081e-07,\n",
       " 'max_depth': 9,\n",
       " 'eta': 4.0448626776083755e-05,\n",
       " 'gamma': 0.011277809763858207,\n",
       " 'n_estimators': 1500,\n",
       " 'min_child_weight': 5,\n",
       " 'subsample': 0.7428653884727844}"
      ]
     },
     "execution_count": 76,
     "metadata": {},
     "output_type": "execute_result"
    }
   ],
   "source": [
    "trial = study_xgb.best_trial\n",
    "xgb_params = trial.params\n",
    "xgb_params"
   ]
  },
  {
   "cell_type": "code",
   "execution_count": 77,
   "metadata": {},
   "outputs": [],
   "source": [
    "final_xgb_model = xgb.XGBRegressor(**xgb_params)\n",
    "final_xgb_model.fit(train_X, train_y, eval_metric='rmse')\n",
    "final_xgb_pred = final_xgb_model.predict(test_df)"
   ]
  },
  {
   "cell_type": "code",
   "execution_count": 78,
   "metadata": {},
   "outputs": [
    {
     "data": {
      "text/plain": [
       "array([1.0711455, 1.0316119, 1.0377922, ..., 1.1092218, 1.0967462,\n",
       "       1.0426908], dtype=float32)"
      ]
     },
     "execution_count": 78,
     "metadata": {},
     "output_type": "execute_result"
    }
   ],
   "source": [
    "final_xgb_pred"
   ]
  },
  {
   "cell_type": "code",
   "execution_count": 79,
   "metadata": {},
   "outputs": [
    {
     "data": {
      "text/plain": [
       "<BarContainer object of 8 artists>"
      ]
     },
     "execution_count": 79,
     "metadata": {},
     "output_type": "execute_result"
    },
    {
     "name": "stderr",
     "output_type": "stream",
     "text": [
      "C:\\Users\\jeong\\anaconda3\\lib\\site-packages\\matplotlib\\backends\\backend_agg.py:238: RuntimeWarning: Glyph 48512 missing from current font.\n",
      "  font.set_text(s, 0.0, flags=flags)\n",
      "C:\\Users\\jeong\\anaconda3\\lib\\site-packages\\matplotlib\\backends\\backend_agg.py:238: RuntimeWarning: Glyph 49328 missing from current font.\n",
      "  font.set_text(s, 0.0, flags=flags)\n",
      "C:\\Users\\jeong\\anaconda3\\lib\\site-packages\\matplotlib\\backends\\backend_agg.py:238: RuntimeWarning: Glyph 44305 missing from current font.\n",
      "  font.set_text(s, 0.0, flags=flags)\n",
      "C:\\Users\\jeong\\anaconda3\\lib\\site-packages\\matplotlib\\backends\\backend_agg.py:238: RuntimeWarning: Glyph 50669 missing from current font.\n",
      "  font.set_text(s, 0.0, flags=flags)\n",
      "C:\\Users\\jeong\\anaconda3\\lib\\site-packages\\matplotlib\\backends\\backend_agg.py:238: RuntimeWarning: Glyph 49884 missing from current font.\n",
      "  font.set_text(s, 0.0, flags=flags)\n",
      "C:\\Users\\jeong\\anaconda3\\lib\\site-packages\\matplotlib\\backends\\backend_agg.py:238: RuntimeWarning: Glyph 49436 missing from current font.\n",
      "  font.set_text(s, 0.0, flags=flags)\n",
      "C:\\Users\\jeong\\anaconda3\\lib\\site-packages\\matplotlib\\backends\\backend_agg.py:238: RuntimeWarning: Glyph 50872 missing from current font.\n",
      "  font.set_text(s, 0.0, flags=flags)\n",
      "C:\\Users\\jeong\\anaconda3\\lib\\site-packages\\matplotlib\\backends\\backend_agg.py:238: RuntimeWarning: Glyph 53945 missing from current font.\n",
      "  font.set_text(s, 0.0, flags=flags)\n",
      "C:\\Users\\jeong\\anaconda3\\lib\\site-packages\\matplotlib\\backends\\backend_agg.py:238: RuntimeWarning: Glyph 48324 missing from current font.\n",
      "  font.set_text(s, 0.0, flags=flags)\n",
      "C:\\Users\\jeong\\anaconda3\\lib\\site-packages\\matplotlib\\backends\\backend_agg.py:201: RuntimeWarning: Glyph 48512 missing from current font.\n",
      "  font.set_text(s, 0, flags=flags)\n",
      "C:\\Users\\jeong\\anaconda3\\lib\\site-packages\\matplotlib\\backends\\backend_agg.py:201: RuntimeWarning: Glyph 49328 missing from current font.\n",
      "  font.set_text(s, 0, flags=flags)\n",
      "C:\\Users\\jeong\\anaconda3\\lib\\site-packages\\matplotlib\\backends\\backend_agg.py:201: RuntimeWarning: Glyph 44305 missing from current font.\n",
      "  font.set_text(s, 0, flags=flags)\n",
      "C:\\Users\\jeong\\anaconda3\\lib\\site-packages\\matplotlib\\backends\\backend_agg.py:201: RuntimeWarning: Glyph 50669 missing from current font.\n",
      "  font.set_text(s, 0, flags=flags)\n",
      "C:\\Users\\jeong\\anaconda3\\lib\\site-packages\\matplotlib\\backends\\backend_agg.py:201: RuntimeWarning: Glyph 49884 missing from current font.\n",
      "  font.set_text(s, 0, flags=flags)\n",
      "C:\\Users\\jeong\\anaconda3\\lib\\site-packages\\matplotlib\\backends\\backend_agg.py:201: RuntimeWarning: Glyph 49436 missing from current font.\n",
      "  font.set_text(s, 0, flags=flags)\n",
      "C:\\Users\\jeong\\anaconda3\\lib\\site-packages\\matplotlib\\backends\\backend_agg.py:201: RuntimeWarning: Glyph 50872 missing from current font.\n",
      "  font.set_text(s, 0, flags=flags)\n",
      "C:\\Users\\jeong\\anaconda3\\lib\\site-packages\\matplotlib\\backends\\backend_agg.py:201: RuntimeWarning: Glyph 53945 missing from current font.\n",
      "  font.set_text(s, 0, flags=flags)\n",
      "C:\\Users\\jeong\\anaconda3\\lib\\site-packages\\matplotlib\\backends\\backend_agg.py:201: RuntimeWarning: Glyph 48324 missing from current font.\n",
      "  font.set_text(s, 0, flags=flags)\n"
     ]
    },
    {
     "data": {
      "image/png": "[encoded data removed]",
      "text/plain": [
       "<Figure size 432x288 with 1 Axes>"
      ]
     },
     "metadata": {
      "needs_background": "light"
     },
     "output_type": "display_data"
    }
   ],
   "source": [
    "plt.barh(train_X.columns, final_xgb_model.feature_importances_)"
   ]
  },
  {
   "cell_type": "code",
   "execution_count": 80,
   "metadata": {},
   "outputs": [
    {
     "data": {
      "text/plain": [
       "array([1.9187212, 1.8055847, 1.8229775, ..., 2.031998 , 1.9944069,\n",
       "       1.8368399], dtype=float32)"
      ]
     },
     "execution_count": 80,
     "metadata": {},
     "output_type": "execute_result"
    }
   ],
   "source": [
    "final_pred_sub = np.expm1(final_xgb_pred)\n",
    "final_pred_sub"
   ]
  },
  {
   "cell_type": "code",
   "execution_count": 81,
   "metadata": {},
   "outputs": [],
   "source": [
    "PATH = 'Desktop/python Ex/프로젝트 연습/apartment/'"
   ]
  },
  {
   "cell_type": "code",
   "execution_count": 82,
   "metadata": {},
   "outputs": [
    {
     "data": {
      "text/html": [
       "<div>\n",
       "<style scoped>\n",
       "    .dataframe tbody tr th:only-of-type {\n",
       "        vertical-align: middle;\n",
       "    }\n",
       "\n",
       "    .dataframe tbody tr th {\n",
       "        vertical-align: top;\n",
       "    }\n",
       "\n",
       "    .dataframe thead th {\n",
       "        text-align: right;\n",
       "    }\n",
       "</style>\n",
       "<table border=\"1\" class=\"dataframe\">\n",
       "  <thead>\n",
       "    <tr style=\"text-align: right;\">\n",
       "      <th></th>\n",
       "      <th>transaction_id</th>\n",
       "      <th>transaction_real_price</th>\n",
       "    </tr>\n",
       "  </thead>\n",
       "  <tbody>\n",
       "    <tr>\n",
       "      <th>0</th>\n",
       "      <td>1145756</td>\n",
       "      <td>1.918721</td>\n",
       "    </tr>\n",
       "    <tr>\n",
       "      <th>1</th>\n",
       "      <td>1198704</td>\n",
       "      <td>1.805585</td>\n",
       "    </tr>\n",
       "    <tr>\n",
       "      <th>2</th>\n",
       "      <td>1222384</td>\n",
       "      <td>1.822978</td>\n",
       "    </tr>\n",
       "    <tr>\n",
       "      <th>3</th>\n",
       "      <td>1179897</td>\n",
       "      <td>2.251092</td>\n",
       "    </tr>\n",
       "    <tr>\n",
       "      <th>4</th>\n",
       "      <td>1223091</td>\n",
       "      <td>1.985127</td>\n",
       "    </tr>\n",
       "    <tr>\n",
       "      <th>...</th>\n",
       "      <td>...</td>\n",
       "      <td>...</td>\n",
       "    </tr>\n",
       "    <tr>\n",
       "      <th>5458</th>\n",
       "      <td>1174640</td>\n",
       "      <td>2.062218</td>\n",
       "    </tr>\n",
       "    <tr>\n",
       "      <th>5459</th>\n",
       "      <td>1175575</td>\n",
       "      <td>2.204731</td>\n",
       "    </tr>\n",
       "    <tr>\n",
       "      <th>5460</th>\n",
       "      <td>1157024</td>\n",
       "      <td>2.031998</td>\n",
       "    </tr>\n",
       "    <tr>\n",
       "      <th>5461</th>\n",
       "      <td>1136863</td>\n",
       "      <td>1.994407</td>\n",
       "    </tr>\n",
       "    <tr>\n",
       "      <th>5462</th>\n",
       "      <td>1218921</td>\n",
       "      <td>1.836840</td>\n",
       "    </tr>\n",
       "  </tbody>\n",
       "</table>\n",
       "<p>5463 rows × 2 columns</p>\n",
       "</div>"
      ],
      "text/plain": [
       "      transaction_id  transaction_real_price\n",
       "0            1145756                1.918721\n",
       "1            1198704                1.805585\n",
       "2            1222384                1.822978\n",
       "3            1179897                2.251092\n",
       "4            1223091                1.985127\n",
       "...              ...                     ...\n",
       "5458         1174640                2.062218\n",
       "5459         1175575                2.204731\n",
       "5460         1157024                2.031998\n",
       "5461         1136863                1.994407\n",
       "5462         1218921                1.836840\n",
       "\n",
       "[5463 rows x 2 columns]"
      ]
     },
     "execution_count": 82,
     "metadata": {},
     "output_type": "execute_result"
    }
   ],
   "source": [
    "sub = pd.read_csv(PATH + 'test.csv')\n",
    "sub_df = pd.DataFrame({'transaction_id': sub['transaction_id'], 'transaction_real_price': final_pred_sub})\n",
    "sub_df"
   ]
  },
  {
   "cell_type": "code",
   "execution_count": 83,
   "metadata": {},
   "outputs": [],
   "source": [
    "sub_df.to_csv(PATH + 'submission_xgb_wo_apt2.csv', index=False)"
   ]
  },
  {
   "cell_type": "code",
   "execution_count": null,
   "metadata": {},
   "outputs": [],
   "source": []
  },
  {
   "cell_type": "code",
   "execution_count": null,
   "metadata": {},
   "outputs": [],
   "source": []
  },
  {
   "cell_type": "code",
   "execution_count": 84,
   "metadata": {},
   "outputs": [
    {
     "data": {
      "text/html": [
       "<div>\n",
       "<style scoped>\n",
       "    .dataframe tbody tr th:only-of-type {\n",
       "        vertical-align: middle;\n",
       "    }\n",
       "\n",
       "    .dataframe tbody tr th {\n",
       "        vertical-align: top;\n",
       "    }\n",
       "\n",
       "    .dataframe thead th {\n",
       "        text-align: right;\n",
       "    }\n",
       "</style>\n",
       "<table border=\"1\" class=\"dataframe\">\n",
       "  <thead>\n",
       "    <tr style=\"text-align: right;\">\n",
       "      <th></th>\n",
       "      <th>transaction_id</th>\n",
       "      <th>apartment_id</th>\n",
       "      <th>city</th>\n",
       "      <th>dong</th>\n",
       "      <th>jibun</th>\n",
       "      <th>apt</th>\n",
       "      <th>addr_kr</th>\n",
       "      <th>exclusive_use_area</th>\n",
       "      <th>year_of_completion</th>\n",
       "      <th>transaction_year_month</th>\n",
       "      <th>transaction_date</th>\n",
       "      <th>floor</th>\n",
       "      <th>transaction_real_price</th>\n",
       "    </tr>\n",
       "  </thead>\n",
       "  <tbody>\n",
       "    <tr>\n",
       "      <th>0</th>\n",
       "      <td>0</td>\n",
       "      <td>7622</td>\n",
       "      <td>서울특별시</td>\n",
       "      <td>신교동</td>\n",
       "      <td>6-13</td>\n",
       "      <td>신현</td>\n",
       "      <td>신교동 6-13 신현(101동)</td>\n",
       "      <td>84.82</td>\n",
       "      <td>2002</td>\n",
       "      <td>200801</td>\n",
       "      <td>21~31</td>\n",
       "      <td>2</td>\n",
       "      <td>37500</td>\n",
       "    </tr>\n",
       "  </tbody>\n",
       "</table>\n",
       "</div>"
      ],
      "text/plain": [
       "   transaction_id  apartment_id   city dong jibun apt            addr_kr  \\\n",
       "0               0          7622  서울특별시  신교동  6-13  신현  신교동 6-13 신현(101동)   \n",
       "\n",
       "   exclusive_use_area  year_of_completion  transaction_year_month  \\\n",
       "0               84.82                2002                  200801   \n",
       "\n",
       "  transaction_date  floor  transaction_real_price  \n",
       "0            21~31      2                   37500  "
      ]
     },
     "execution_count": 84,
     "metadata": {},
     "output_type": "execute_result"
    }
   ],
   "source": [
    "o_train_df = pd.read_csv(PATH + 'train_df_regex.csv')\n",
    "o_test_df = pd.read_csv(PATH + 'test_df_regex.csv')\n",
    "o_train_df.head(1)"
   ]
  },
  {
   "cell_type": "code",
   "execution_count": null,
   "metadata": {},
   "outputs": [],
   "source": []
  },
  {
   "cell_type": "code",
   "execution_count": null,
   "metadata": {},
   "outputs": [],
   "source": []
  },
  {
   "cell_type": "code",
   "execution_count": null,
   "metadata": {},
   "outputs": [],
   "source": []
  },
  {
   "cell_type": "code",
   "execution_count": null,
   "metadata": {},
   "outputs": [],
   "source": []
  },
  {
   "cell_type": "code",
   "execution_count": null,
   "metadata": {},
   "outputs": [],
   "source": []
  },
  {
   "cell_type": "code",
   "execution_count": null,
   "metadata": {},
   "outputs": [],
   "source": []
  },
  {
   "cell_type": "code",
   "execution_count": null,
   "metadata": {},
   "outputs": [],
   "source": []
  },
  {
   "cell_type": "code",
   "execution_count": null,
   "metadata": {},
   "outputs": [],
   "source": []
  },
  {
   "cell_type": "code",
   "execution_count": null,
   "metadata": {},
   "outputs": [],
   "source": []
  }
 ],
 "metadata": {
  "kernelspec": {
   "display_name": "Python 3",
   "language": "python",
   "name": "python3"
  },
  "language_info": {
   "codemirror_mode": {
    "name": "ipython",
    "version": 3
   },
   "file_extension": ".py",
   "mimetype": "text/x-python",
   "name": "python",
   "nbconvert_exporter": "python",
   "pygments_lexer": "ipython3",
   "version": "3.8.5"
  }
 },
 "nbformat": 4,
 "nbformat_minor": 4
}
