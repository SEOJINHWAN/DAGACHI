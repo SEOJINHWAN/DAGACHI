{
 "cells": [
  {
   "cell_type": "code",
   "execution_count": 18,
   "metadata": {},
   "outputs": [],
   "source": [
    "import cv2\n",
    "import numpy as np\n",
    "import matplotlib.pyplot as plt"
   ]
  },
  {
   "cell_type": "markdown",
   "metadata": {},
   "source": [
    "### opencv를 이용한 이미지 인식"
   ]
  },
  {
   "cell_type": "code",
   "execution_count": 30,
   "metadata": {},
   "outputs": [],
   "source": [
    "# 이미지 불러오기\n",
    "image = cv2.imread('sample.jpg')\n",
    "\n",
    "# 이미지 사이즈 조절\n",
    "image_height, image_width = image.shape[:2]\n",
    "\n",
    "resize_height = int(0.5*image_height)\n",
    "resize_width = int(0.3*image_width)\n",
    "\n",
    "image = cv2.resize(image, (resize_height, resize_width), interpolation = cv2.INTER_CUBIC)\n",
    "\n",
    "image_cpy = image.copy()"
   ]
  },
  {
   "cell_type": "code",
   "execution_count": 31,
   "metadata": {},
   "outputs": [],
   "source": [
    "# 그레이 스케일 이미지 생성 후 thresh 생성\n",
    "gray = cv2.cvtColor(image, cv2.COLOR_BGR2GRAY)\n",
    "blur = cv2.medianBlur(gray, 7)\n",
    "# blur = cv2.bilateralFilter(blur, 9, 35, 35)\n",
    "\n",
    "thresh = cv2.threshold(blur, 0, 255, cv2.THRESH_BINARY_INV + cv2.THRESH_OTSU)[1]\n",
    "kernel = cv2.getStructuringElement(cv2.MORPH_RECT, (1,2))\n",
    "opening = cv2.morphologyEx(thresh, cv2.MORPH_OPEN, kernel, iterations=2)\n",
    "dilate_kernel = cv2.getStructuringElement(cv2.MORPH_RECT, (10,10))\n",
    "dilate = cv2.dilate(opening, dilate_kernel, iterations=2)\n",
    "\n",
    "cnts = cv2.findContours(dilate, cv2.RETR_EXTERNAL, cv2.CHAIN_APPROX_SIMPLE)\n",
    "cnts = cnts[0] if len(cnts) == 2 else cnts[1]\n",
    "for c in cnts:\n",
    "    x,y,w,h = cv2.boundingRect(c)\n",
    "    cv2.rectangle(image, (x, y), (x + w, y + h), (36,255,12), 1)\n",
    "    \n",
    "# cv2.imshow('thresh', thresh)\n",
    "# cv2.imshow('opening', opening)\n",
    "# cv2.imshow('dilate', dilate)\n",
    "cv2.imshow('image', image)\n",
    "cv2.imshow('image_copy', image_cpy)\n",
    "cv2.waitKey()\n",
    "cv2.destroyAllWindows()"
   ]
  },
  {
   "cell_type": "code",
   "execution_count": 32,
   "metadata": {},
   "outputs": [],
   "source": [
    "# bounding box 내부의 이미지를 각각 jpg 파일로 저장\n",
    "\n",
    "i = 0\n",
    "for c in cnts:\n",
    "    i += 1\n",
    "    x,y,w,h = cv2.boundingRect(c)\n",
    "    crop_image = image_cpy[y:y+h, x:x+w]\n",
    "    cv2.imshow('crop', crop_image)\n",
    "    cv2.imwrite(\"crop/crop_{}.jpg\".format(i), crop_image)\n",
    "    \n",
    "    cv2.waitKey()\n",
    "    cv2.destroyAllWindows()"
   ]
  },
  {
   "cell_type": "code",
   "execution_count": null,
   "metadata": {},
   "outputs": [],
   "source": []
  },
  {
   "cell_type": "code",
   "execution_count": null,
   "metadata": {},
   "outputs": [],
   "source": []
  }
 ],
 "metadata": {
  "kernelspec": {
   "display_name": "Python 3",
   "language": "python",
   "name": "python3"
  },
  "language_info": {
   "codemirror_mode": {
    "name": "ipython",
    "version": 3
   },
   "file_extension": ".py",
   "mimetype": "text/x-python",
   "name": "python",
   "nbconvert_exporter": "python",
   "pygments_lexer": "ipython3",
   "version": "3.8.5"
  }
 },
 "nbformat": 4,
 "nbformat_minor": 4
}
